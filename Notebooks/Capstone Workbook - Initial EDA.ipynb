{
 "cells": [
  {
   "cell_type": "code",
   "execution_count": 1,
   "metadata": {
    "collapsed": true
   },
   "outputs": [],
   "source": [
    "import pandas as pd\n",
    "import numpy as np"
   ]
  },
  {
   "cell_type": "code",
   "execution_count": 2,
   "metadata": {
    "collapsed": true
   },
   "outputs": [],
   "source": [
    "passing_2010 = pd.read_csv('./2010_passing.csv',index_col='Tm',).add_suffix('_passing_2010')\n",
    "passing_2011 = pd.read_csv('./2011_passing.csv',index_col='Tm').add_suffix('_passing_2011')\n",
    "passing_2012 = pd.read_csv('./2012_passing.csv',index_col='Tm').add_suffix('_passing_2012')\n",
    "rushing_2010 = pd.read_csv('./2010_rushing.csv',index_col='Tm').add_suffix('_rushing_2010')\n",
    "rushing_2011 = pd.read_csv('./2011_rushing.csv',index_col='Tm').add_suffix('_rushing_2011')\n",
    "rushing_2012 = pd.read_csv('./2012_rushing.csv',index_col='Tm').add_suffix('_rushing_2012')\n",
    "scoring_2010 = pd.read_csv('./2010_scoring.csv',index_col='Tm').add_suffix('_scoring_2010')\n",
    "scoring_2011 = pd.read_csv('./2011_scoring.csv',index_col='Tm').add_suffix('_scoring_2011')\n",
    "scoring_2012 = pd.read_csv('./2012_scoring.csv',index_col='Tm').add_suffix('_scoring_2012')\n",
    "pass_def_2010 = pd.read_csv('./2010_pass_def.csv',index_col='Tm').add_suffix('_pass_def_2010')\n",
    "pass_def_2011 = pd.read_csv('./2011_pass_def.csv',index_col='Tm').add_suffix('_pass_def_2011')\n",
    "pass_def_2012 = pd.read_csv('./2012_pass_def.csv',index_col='Tm').add_suffix('_pass_def_2012')\n",
    "rush_def_2010 = pd.read_csv('./2010_rush_def.csv',index_col='Tm').add_suffix('_rush_def_2010')\n",
    "rush_def_2011 = pd.read_csv('./2011_rush_def.csv',index_col='Tm').add_suffix('_rush_def_2011')\n",
    "rush_def_2012 = pd.read_csv('./2012_rush_def.csv',index_col='Tm').add_suffix('_rush_def_2012')\n",
    "scoring_def_2010 = pd.read_csv('./2010_scoring_def.csv',index_col='Tm').add_suffix('_scoring_def_2010')\n",
    "scoring_def_2011 = pd.read_csv('./2011_scoring_def.csv',index_col='Tm').add_suffix('_scoring_def_2011')\n",
    "scoring_def_2012 = pd.read_csv('./2012_scoring_def.csv',index_col='Tm').add_suffix('_scoring_def_2012')\n",
    "standings_2010 = pd.read_csv('./2010_standing.csv',index_col='Tm').add_suffix('_standings_2010')\n",
    "standings_2011 = pd.read_csv('./2011_standings.csv',index_col='Tm').add_suffix('_standings_2011')\n",
    "standings_2012 = pd.read_csv('./2012_standings.csv',index_col='Tm').add_suffix('_standings_2012')"
   ]
  },
  {
   "cell_type": "code",
   "execution_count": 3,
   "metadata": {
    "collapsed": true
   },
   "outputs": [],
   "source": [
    "passing_2013 = pd.read_csv('./2013_passing.csv',index_col='Tm',).add_suffix('_passing_2013')\n",
    "rushing_2013 = pd.read_csv('./2013_rushing.csv',index_col='Tm').add_suffix('_rushing_2013')\n",
    "scoring_2013 = pd.read_csv('./2013_scoring.csv',index_col='Tm').add_suffix('_scoring_2013')\n",
    "pass_def_2013 = pd.read_csv('./2013_pass_def.csv',index_col='Tm').add_suffix('_pass_def_2013')\n",
    "rush_def_2013 = pd.read_csv('./2013_rush_def.csv',index_col='Tm').add_suffix('_rush_def_2013')\n",
    "standings_2013 = pd.read_csv('./2013_standings.csv',index_col='Tm').add_suffix('_standings_2013')\n",
    "scoring_def_2013 = pd.read_csv('./2013_scoring_def.csv',index_col='Tm').add_suffix('_scoring_def_2013')"
   ]
  },
  {
   "cell_type": "code",
   "execution_count": 4,
   "metadata": {
    "collapsed": true
   },
   "outputs": [],
   "source": [
    "passing_2014 = pd.read_csv('./2014_passing.csv',index_col='Tm',).add_suffix('_passing_2014')\n",
    "rushing_2014 = pd.read_csv('./2014_rushing.csv',index_col='Tm').add_suffix('_rushing_2014')\n",
    "scoring_2014 = pd.read_csv('./2014_scoring.csv',index_col='Tm').add_suffix('_scoring_2014')\n",
    "pass_def_2014 = pd.read_csv('./2014_pass_def.csv',index_col='Tm').add_suffix('_pass_def_2014')\n",
    "rush_def_2014 = pd.read_csv('./2014_rush_def.csv',index_col='Tm').add_suffix('_rush_def_2014')\n",
    "standings_2014 = pd.read_csv('./2014_standings.csv',index_col='Tm').add_suffix('_standings_2014')\n",
    "scoring_def_2014 = pd.read_csv('./2014_scoring_def.csv',index_col='Tm').add_suffix('_scoring_def_2014')"
   ]
  },
  {
   "cell_type": "code",
   "execution_count": 5,
   "metadata": {
    "collapsed": true
   },
   "outputs": [],
   "source": [
    "passing_2015 = pd.read_csv('./2015_passing.csv',index_col='Tm',).add_suffix('_passing_2015')\n",
    "rushing_2015 = pd.read_csv('./2015_rushing.csv',index_col='Tm').add_suffix('_rushing_2015')\n",
    "scoring_2015 = pd.read_csv('./2015_scoring.csv',index_col='Tm').add_suffix('_scoring_2015')\n",
    "pass_def_2015 = pd.read_csv('./2015_pass_def.csv',index_col='Tm').add_suffix('_pass_def_2015')\n",
    "rush_def_2015 = pd.read_csv('./2015_rush_def.csv',index_col='Tm').add_suffix('_rush_def_2015')\n",
    "standings_2015 = pd.read_csv('./2015_standings.csv',index_col='Tm').add_suffix('_standings_2015')\n",
    "scoring_def_2015 = pd.read_csv('./2015_scoring_def.csv',index_col='Tm').add_suffix('_scoring_def_2015')"
   ]
  },
  {
   "cell_type": "code",
   "execution_count": 6,
   "metadata": {
    "collapsed": true
   },
   "outputs": [],
   "source": [
    "passing_2016 = pd.read_csv('./2016_passing.csv',index_col='Tm',).add_suffix('_passing_2016')\n",
    "rushing_2016 = pd.read_csv('./2016_rushing.csv',index_col='Tm').add_suffix('_rushing_2016')\n",
    "scoring_2016 = pd.read_csv('./2016_scoring.csv',index_col='Tm').add_suffix('_scoring_2016')\n",
    "pass_def_2016 = pd.read_csv('./2016_pass_def.csv',index_col='Tm').add_suffix('_pass_def_2016')\n",
    "rush_def_2016 = pd.read_csv('./2016_rush_def.csv',index_col='Tm').add_suffix('_rush_def_2016')\n",
    "standings_2016 = pd.read_csv('./2016_standings.csv',index_col='Tm').add_suffix('_standings_2016')\n",
    "scoring_def_2016 = pd.read_csv('./2016_scoring_def.csv',index_col='Tm').add_suffix('_scoring_def_2016')"
   ]
  },
  {
   "cell_type": "markdown",
   "metadata": {},
   "source": [
    "Loaded in all of my initial data. By indexing on team name, I am hoping it is easy to concatenate all of the dataframes together on the team name. My first attempt left me with 25 of the 32 teams, so I have to clean up my team names to make sure they are consistent. \n",
    "\n",
    "Once the team names were cleaned up, I was able to inner join on the index and end up with a 32 x 801 dataframe with 385 floats and 416 integer values. \n",
    "\n",
    "I added a suffix to each specific csv that tags the year and the stats. This will hopefully make it easier to subset the data as needed. "
   ]
  },
  {
   "cell_type": "code",
   "execution_count": 7,
   "metadata": {
    "collapsed": true
   },
   "outputs": [],
   "source": [
    "dfs = [passing_2010,passing_2011,passing_2012,rushing_2010,rushing_2011,rushing_2012,scoring_2010,scoring_2011,scoring_2012,pass_def_2010,pass_def_2011,pass_def_2012,rush_def_2010,rush_def_2011,rush_def_2012,scoring_def_2010,scoring_def_2011,scoring_def_2012,standings_2010,standings_2011,standings_2012,\\\n",
    "      passing_2013,rushing_2013,scoring_2013,pass_def_2013,rush_def_2013,standings_2013,passing_2014,rushing_2014,scoring_2014,pass_def_2014,rush_def_2014,standings_2014,passing_2015,rushing_2015,scoring_2015,pass_def_2015,rush_def_2015,standings_2015,passing_2016,rushing_2016,scoring_2016,pass_def_2016,rush_def_2016,standings_2016,\\\n",
    "      scoring_def_2013,scoring_def_2014,scoring_def_2015,scoring_def_2016]\n",
    "\n"
   ]
  },
  {
   "cell_type": "code",
   "execution_count": 8,
   "metadata": {
    "collapsed": true
   },
   "outputs": [],
   "source": [
    "df = pd.concat(dfs, axis=1, join='inner')"
   ]
  },
  {
   "cell_type": "code",
   "execution_count": 9,
   "metadata": {},
   "outputs": [
    {
     "name": "stdout",
     "output_type": "stream",
     "text": [
      "<class 'pandas.core.frame.DataFrame'>\n",
      "Index: 32 entries, Jacksonville Jaguars to Denver Broncos\n",
      "Columns: 801 entries, Rk_passing_2010 to Pts/G_scoring_def_2016\n",
      "dtypes: float64(385), int64(416)\n",
      "memory usage: 200.5+ KB\n"
     ]
    }
   ],
   "source": [
    "df.info()"
   ]
  },
  {
   "cell_type": "code",
   "execution_count": 10,
   "metadata": {},
   "outputs": [
    {
     "data": {
      "text/plain": [
       "Index([u'Jacksonville Jaguars', u'Houston Texans', u'Tampa Bay Buccaneers',\n",
       "       u'New York Jets', u'New York Giants', u'Cleveland Browns',\n",
       "       u'Miami Dolphins', u'Baltimore Ravens', u'Oakland Raiders',\n",
       "       u'Washington Redskins', u'Buffalo Bills', u'St. Louis Rams',\n",
       "       u'Atlanta Falcons', u'Tennessee Titans', u'Carolina Panthers',\n",
       "       u'Pittsburgh Steelers', u'Arizona Cardinals', u'Indianapolis Colts',\n",
       "       u'Minnesota Vikings', u'Detroit Lions', u'San Diego Chargers',\n",
       "       u'San Francisco 49ers', u'New Orleans Saints', u'Seattle Seahawks',\n",
       "       u'Green Bay Packers', u'Cincinnati Bengals', u'Kansas City Chiefs',\n",
       "       u'Dallas Cowboys', u'Philadelphia Eagles', u'New England Patriots',\n",
       "       u'Chicago Bears', u'Denver Broncos'],\n",
       "      dtype='object', name=u'Tm')"
      ]
     },
     "execution_count": 10,
     "metadata": {},
     "output_type": "execute_result"
    }
   ],
   "source": [
    "df.index"
   ]
  },
  {
   "cell_type": "code",
   "execution_count": 11,
   "metadata": {},
   "outputs": [
    {
     "data": {
      "text/plain": [
       "Index([u'Rk_passing_2010', u'G_passing_2010', u'Cmp_passing_2010',\n",
       "       u'Att_passing_2010', u'Cmp%_passing_2010', u'Yds_passing_2010',\n",
       "       u'TD_passing_2010', u'TD%_passing_2010', u'Int_passing_2010',\n",
       "       u'Int%_passing_2010',\n",
       "       ...\n",
       "       u'AllTD_scoring_def_2016', u'2PM_scoring_def_2016',\n",
       "       u'2PA_scoring_def_2016', u'XPM_scoring_def_2016',\n",
       "       u'XPA_scoring_def_2016', u'FGM_scoring_def_2016',\n",
       "       u'FGA_scoring_def_2016', u'Sfty_scoring_def_2016',\n",
       "       u'Pts_scoring_def_2016', u'Pts/G_scoring_def_2016'],\n",
       "      dtype='object', length=801)"
      ]
     },
     "execution_count": 11,
     "metadata": {},
     "output_type": "execute_result"
    }
   ],
   "source": [
    "df.columns"
   ]
  },
  {
   "cell_type": "markdown",
   "metadata": {},
   "source": [
    "Next I want to deal with missing values. Because my data comes from a fairly complete source, missing values simply represent 0, for whatever the stat is counting did not occur. "
   ]
  },
  {
   "cell_type": "code",
   "execution_count": 12,
   "metadata": {},
   "outputs": [
    {
     "data": {
      "text/plain": [
       "Sfty_scoring_def_2010      0\n",
       "OthTD_scoring_2016         4\n",
       "OthTD_scoring_def_2016     4\n",
       "OthTD_scoring_2015         5\n",
       "OthTD_scoring_2010         5\n",
       "OthTD_scoring_def_2015     5\n",
       "KR TD_scoring_2014         5\n",
       "OthTD_scoring_def_2011     5\n",
       "OthTD_scoring_2011         5\n",
       "OthTD_scoring_def_2010     5\n",
       "OthTD_scoring_def_2013     5\n",
       "KR TD_scoring_2013         5\n",
       "KR TD_scoring_2015         5\n",
       "KR TD_scoring_2016         6\n",
       "KR TD_scoring_def_2014     6\n",
       "KR TD_scoring_def_2015     6\n",
       "KR TD_scoring_def_2016     7\n",
       "PR TD_scoring_2016         7\n",
       "OthTD_scoring_2014         8\n",
       "OthTD_scoring_2013         8\n",
       "KR TD_scoring_def_2013     8\n",
       "PR TD_scoring_def_2013     9\n",
       "KR TD_scoring_2011         9\n",
       "PR TD_scoring_2010         9\n",
       "OthTD_scoring_2012         9\n",
       "KR TD_scoring_def_2011     9\n",
       "PR TD_scoring_def_2016     9\n",
       "PR TD_scoring_def_2015    10\n",
       "Sfty_scoring_2010         10\n",
       "Sfty_scoring_def_2015     10\n",
       "KR TD_scoring_def_2012    10\n",
       "PR TD_scoring_2014        10\n",
       "OthTD_scoring_def_2014    11\n",
       "OthTD_scoring_def_2012    11\n",
       "FblTD_scoring_def_2012    12\n",
       "Sfty_scoring_def_2012     12\n",
       "Sfty_scoring_2012         12\n",
       "PR TD_scoring_def_2010    12\n",
       "PR TD_scoring_2013        12\n",
       "PR TD_scoring_2015        12\n",
       "KR TD_scoring_2012        12\n",
       "2PM_scoring_2011          13\n",
       "Sfty_scoring_2015         13\n",
       "PR TD_scoring_def_2014    13\n",
       "Sfty_scoring_2013         13\n",
       "PR TD_scoring_def_2012    14\n",
       "FblTD_scoring_def_2016    14\n",
       "PR TD_scoring_def_2011    14\n",
       "Sfty_scoring_def_2014     14\n",
       "Sfty_scoring_2011         15\n",
       "dtype: int64"
      ]
     },
     "execution_count": 12,
     "metadata": {},
     "output_type": "execute_result"
    }
   ],
   "source": [
    "df.count().sort_values().head(50)"
   ]
  },
  {
   "cell_type": "code",
   "execution_count": 13,
   "metadata": {},
   "outputs": [
    {
     "data": {
      "text/plain": [
       "Tm\n",
       "Jacksonville Jaguars    NaN\n",
       "Houston Texans          NaN\n",
       "Tampa Bay Buccaneers    NaN\n",
       "New York Jets           NaN\n",
       "New York Giants         NaN\n",
       "Cleveland Browns        NaN\n",
       "Miami Dolphins          NaN\n",
       "Baltimore Ravens        NaN\n",
       "Oakland Raiders         1.0\n",
       "Washington Redskins     NaN\n",
       "Buffalo Bills           NaN\n",
       "St. Louis Rams          NaN\n",
       "Atlanta Falcons         NaN\n",
       "Tennessee Titans        NaN\n",
       "Carolina Panthers       NaN\n",
       "Pittsburgh Steelers     NaN\n",
       "Arizona Cardinals       NaN\n",
       "Indianapolis Colts      1.0\n",
       "Minnesota Vikings       NaN\n",
       "Detroit Lions           NaN\n",
       "San Diego Chargers      NaN\n",
       "San Francisco 49ers     1.0\n",
       "New Orleans Saints      NaN\n",
       "Seattle Seahawks        1.0\n",
       "Green Bay Packers       NaN\n",
       "Cincinnati Bengals      NaN\n",
       "Kansas City Chiefs      NaN\n",
       "Dallas Cowboys          NaN\n",
       "Philadelphia Eagles     NaN\n",
       "New England Patriots    1.0\n",
       "Chicago Bears           NaN\n",
       "Denver Broncos          NaN\n",
       "Name: OthTD_scoring_2010, dtype: float64"
      ]
     },
     "execution_count": 13,
     "metadata": {},
     "output_type": "execute_result"
    }
   ],
   "source": [
    "df['OthTD_scoring_2010']"
   ]
  },
  {
   "cell_type": "markdown",
   "metadata": {},
   "source": [
    "To deal with these missing/'0' values depends on the rarity of the metric. Many of the missing values occur because the measure it is counting is pretty rare. For example only 5 teams scored a Kick Return TD in 2016. Is this closer to random chance or is do certain teams have a skill for these rare events that could contribute to their win total? To better get a sense, I am going to fill the NA with 0 and look at if anything stands out year over year. "
   ]
  },
  {
   "cell_type": "code",
   "execution_count": 14,
   "metadata": {
    "collapsed": true
   },
   "outputs": [],
   "source": [
    "df.fillna(0,inplace=True)"
   ]
  },
  {
   "cell_type": "code",
   "execution_count": 15,
   "metadata": {
    "collapsed": true
   },
   "outputs": [],
   "source": [
    "KR_TD_columns = [i for i in df.columns if 'KR TD_scoring_2' in i]\n",
    "OthTD_columns = [i for i in df.columns if 'OthTD_scoring_2' in i]\n",
    "PR_TD_columns = [i for i in df.columns if 'PR TD_scoring_2' in i]\n",
    "Sfty_columns = [i for i in df.columns if 'Sfty_scoring_2' in i]"
   ]
  },
  {
   "cell_type": "code",
   "execution_count": 16,
   "metadata": {
    "collapsed": true
   },
   "outputs": [],
   "source": [
    "passing_columns = [i for i in df.columns if 'TD_passing' in i]"
   ]
  },
  {
   "cell_type": "code",
   "execution_count": 17,
   "metadata": {},
   "outputs": [
    {
     "data": {
      "text/plain": [
       "['TD_passing_2010',\n",
       " 'TD_passing_2011',\n",
       " 'TD_passing_2012',\n",
       " 'TD_passing_2013',\n",
       " 'TD_passing_2014',\n",
       " 'TD_passing_2015',\n",
       " 'TD_passing_2016']"
      ]
     },
     "execution_count": 17,
     "metadata": {},
     "output_type": "execute_result"
    }
   ],
   "source": [
    "passing_columns"
   ]
  },
  {
   "cell_type": "code",
   "execution_count": 18,
   "metadata": {
    "collapsed": true
   },
   "outputs": [],
   "source": [
    "import matplotlib.pyplot as plt\n",
    "%matplotlib inline"
   ]
  },
  {
   "cell_type": "code",
   "execution_count": 19,
   "metadata": {},
   "outputs": [
    {
     "name": "stderr",
     "output_type": "stream",
     "text": [
      "/anaconda/lib/python2.7/site-packages/matplotlib/axes/_axes.py:545: UserWarning: No labelled objects found. Use label='...' kwarg on individual plots.\n",
      "  warnings.warn(\"No labelled objects found. \"\n"
     ]
    },
    {
     "data": {
      "image/png": "[encoded data removed]",
      "text/plain": [
       "<matplotlib.figure.Figure at 0x10dedae90>"
      ]
     },
     "metadata": {},
     "output_type": "display_data"
    }
   ],
   "source": [
    "plt.plot(df[passing_columns].transpose().values)\n",
    "labels = range(2010,2017)\n",
    "plt.legend()\n",
    "plt.xticks(range(7),labels)\n",
    "plt.title('Passing TD by Year')\n",
    "plt.show()"
   ]
  },
  {
   "cell_type": "code",
   "execution_count": 20,
   "metadata": {},
   "outputs": [
    {
     "data": {
      "image/png": "[encoded data removed]",
      "text/plain": [
       "<matplotlib.figure.Figure at 0x10d44e550>"
      ]
     },
     "metadata": {},
     "output_type": "display_data"
    }
   ],
   "source": [
    "plt.plot(df[KR_TD_columns].transpose().values)\n",
    "labels = range(2010,2017)\n",
    "plt.legend()\n",
    "plt.xticks(range(7),labels)\n",
    "plt.title('KR TD by Year')\n",
    "plt.show()"
   ]
  },
  {
   "cell_type": "code",
   "execution_count": 21,
   "metadata": {},
   "outputs": [
    {
     "data": {
      "image/png": "[encoded data removed]",
      "text/plain": [
       "<matplotlib.figure.Figure at 0x10e197f10>"
      ]
     },
     "metadata": {},
     "output_type": "display_data"
    }
   ],
   "source": [
    "plt.plot(df[PR_TD_columns].transpose().values)\n",
    "labels = range(2010,2017)\n",
    "plt.legend()\n",
    "plt.xticks(range(7),labels)\n",
    "plt.title('PR TD by Year')\n",
    "plt.show()"
   ]
  },
  {
   "cell_type": "code",
   "execution_count": 22,
   "metadata": {},
   "outputs": [
    {
     "data": {
      "image/png": "[encoded data removed]",
      "text/plain": [
       "<matplotlib.figure.Figure at 0x10e4d2590>"
      ]
     },
     "metadata": {},
     "output_type": "display_data"
    }
   ],
   "source": [
    "plt.plot(df[OthTD_columns].transpose().values)\n",
    "labels = range(2010,2017)\n",
    "plt.legend()\n",
    "plt.xticks(range(7),labels)\n",
    "plt.title('PR TD by Year')\n",
    "plt.show()"
   ]
  },
  {
   "cell_type": "code",
   "execution_count": 23,
   "metadata": {},
   "outputs": [
    {
     "data": {
      "image/png": "[encoded data removed]",
      "text/plain": [
       "<matplotlib.figure.Figure at 0x10e6c0850>"
      ]
     },
     "metadata": {},
     "output_type": "display_data"
    }
   ],
   "source": [
    "plt.plot(df[Sfty_columns].transpose().values)\n",
    "labels = range(2010,2017)\n",
    "plt.legend()\n",
    "plt.xticks(range(7),labels)\n",
    "plt.title('PR TD by Year')\n",
    "plt.show()"
   ]
  },
  {
   "cell_type": "markdown",
   "metadata": {},
   "source": [
    "The plots show limited to no year over year consistancy in rare feat scoring. This will be taken in consideration when we being modeling as more likely noise that a true feature of success. \n",
    "\n",
    "Next I am going to remove some duplicate and meaningless columns, such as Rush TD under both scoring and rushing and Games columns which provides no information. "
   ]
  },
  {
   "cell_type": "code",
   "execution_count": 24,
   "metadata": {},
   "outputs": [
    {
     "data": {
      "text/plain": [
       "42"
      ]
     },
     "execution_count": 24,
     "metadata": {},
     "output_type": "execute_result"
    }
   ],
   "source": [
    "G_columns = [i for i in df.columns if 'G_' in i and '/' not in i]\n",
    "len(G_columns)"
   ]
  },
  {
   "cell_type": "code",
   "execution_count": 25,
   "metadata": {},
   "outputs": [
    {
     "data": {
      "text/plain": [
       "(32, 801)"
      ]
     },
     "execution_count": 25,
     "metadata": {},
     "output_type": "execute_result"
    }
   ],
   "source": [
    "df.shape"
   ]
  },
  {
   "cell_type": "code",
   "execution_count": 26,
   "metadata": {
    "collapsed": true
   },
   "outputs": [],
   "source": [
    "df.drop(G_columns,axis=1,inplace=True)"
   ]
  },
  {
   "cell_type": "code",
   "execution_count": 27,
   "metadata": {},
   "outputs": [
    {
     "data": {
      "text/plain": [
       "(32, 759)"
      ]
     },
     "execution_count": 27,
     "metadata": {},
     "output_type": "execute_result"
    }
   ],
   "source": [
    "df.shape"
   ]
  },
  {
   "cell_type": "markdown",
   "metadata": {},
   "source": [
    "After dropping the games played columns, we are left with 759 features. Now I want to drop redundant columns "
   ]
  },
  {
   "cell_type": "code",
   "execution_count": 28,
   "metadata": {
    "collapsed": true
   },
   "outputs": [],
   "source": [
    "df = df.transpose().drop_duplicates().transpose()"
   ]
  },
  {
   "cell_type": "code",
   "execution_count": 29,
   "metadata": {},
   "outputs": [
    {
     "data": {
      "text/plain": [
       "(32, 702)"
      ]
     },
     "execution_count": 29,
     "metadata": {},
     "output_type": "execute_result"
    }
   ],
   "source": [
    "df.shape"
   ]
  },
  {
   "cell_type": "markdown",
   "metadata": {},
   "source": [
    "Per game columns are simply scaled versions of other columns. So they can be removed. "
   ]
  },
  {
   "cell_type": "code",
   "execution_count": 30,
   "metadata": {},
   "outputs": [
    {
     "data": {
      "text/plain": [
       "['Y/G_passing_2010',\n",
       " 'Y/G_passing_2011',\n",
       " 'Y/G_passing_2012',\n",
       " 'Y/G_rushing_2010',\n",
       " 'Y/G_rushing_2011',\n",
       " 'Y/G_rushing_2012',\n",
       " 'Pts/G_scoring_2010',\n",
       " 'Pts/G_scoring_2011',\n",
       " 'Pts/G_scoring_2012',\n",
       " 'Y/G_pass_def_2010',\n",
       " 'Y/G_pass_def_2011',\n",
       " 'Y/G_pass_def_2012',\n",
       " 'Y/G_rush_def_2010',\n",
       " 'Y/G_rush_def_2011',\n",
       " 'Pts/G_scoring_def_2010',\n",
       " 'Pts/G_scoring_def_2011',\n",
       " 'Pts/G_scoring_def_2012',\n",
       " 'Y/G_passing_2013',\n",
       " 'Y/G_rushing_2013',\n",
       " 'Pts/G_scoring_2013',\n",
       " 'Y/G_pass_def_2013',\n",
       " 'Y/G_rush_def_2013',\n",
       " 'Y/G_passing_2014',\n",
       " 'Y/G_rushing_2014',\n",
       " 'Pts/G_scoring_2014',\n",
       " 'Y/G_pass_def_2014',\n",
       " 'Y/G_rush_def_2014',\n",
       " 'Y/G_passing_2015',\n",
       " 'Y/G_rushing_2015',\n",
       " 'Pts/G_scoring_2015',\n",
       " 'Y/G_pass_def_2015',\n",
       " 'Y/G_rush_def_2015',\n",
       " 'Y/G_passing_2016',\n",
       " 'Y/G_rushing_2016',\n",
       " 'Pts/G_scoring_2016',\n",
       " 'Y/G_pass_def_2016',\n",
       " 'Y/G_rush_def_2016',\n",
       " 'Pts/G_scoring_def_2013',\n",
       " 'Pts/G_scoring_def_2014',\n",
       " 'Pts/G_scoring_def_2015',\n",
       " 'Pts/G_scoring_def_2016']"
      ]
     },
     "execution_count": 30,
     "metadata": {},
     "output_type": "execute_result"
    }
   ],
   "source": [
    "per_game_columns = [i for i in df.columns if '/G' in i]\n",
    "per_game_columns"
   ]
  },
  {
   "cell_type": "code",
   "execution_count": 31,
   "metadata": {},
   "outputs": [
    {
     "data": {
      "text/plain": [
       "array([[ 1.        ,  0.99999951],\n",
       "       [ 0.99999951,  1.        ]])"
      ]
     },
     "execution_count": 31,
     "metadata": {},
     "output_type": "execute_result"
    }
   ],
   "source": [
    "np.corrcoef(df['Yds_passing_2010'],df['Y/G_passing_2010'])"
   ]
  },
  {
   "cell_type": "code",
   "execution_count": 32,
   "metadata": {
    "collapsed": true
   },
   "outputs": [],
   "source": [
    "df.drop(per_game_columns,axis=1,inplace=True)"
   ]
  },
  {
   "cell_type": "code",
   "execution_count": 33,
   "metadata": {},
   "outputs": [
    {
     "data": {
      "text/plain": [
       "(32, 661)"
      ]
     },
     "execution_count": 33,
     "metadata": {},
     "output_type": "execute_result"
    }
   ],
   "source": [
    "df.shape"
   ]
  },
  {
   "cell_type": "code",
   "execution_count": 34,
   "metadata": {},
   "outputs": [
    {
     "data": {
      "text/plain": [
       "['Rk_passing_2010',\n",
       " 'Rk_passing_2011',\n",
       " 'Rk_passing_2012',\n",
       " 'Rk_rushing_2010',\n",
       " 'Rk_rushing_2011',\n",
       " 'Rk_rushing_2012',\n",
       " 'Rk_scoring_2010',\n",
       " 'Rk_scoring_2011',\n",
       " 'Rk_scoring_2012',\n",
       " 'Rk_pass_def_2010',\n",
       " 'Rk_pass_def_2011',\n",
       " 'Rk_pass_def_2012',\n",
       " 'Rk_rush_def_2010',\n",
       " 'Rk_rush_def_2011',\n",
       " 'Rk_scoring_def_2010',\n",
       " 'Rk_scoring_def_2011',\n",
       " 'Rk_scoring_def_2012',\n",
       " 'Rk_passing_2013',\n",
       " 'Rk_rushing_2013',\n",
       " 'Rk_scoring_2013',\n",
       " 'Rk_pass_def_2013',\n",
       " 'Rk_rush_def_2013',\n",
       " 'Rk_passing_2014',\n",
       " 'Rk_rushing_2014',\n",
       " 'Rk_scoring_2014',\n",
       " 'Rk_pass_def_2014',\n",
       " 'Rk_rush_def_2014',\n",
       " 'Rk_passing_2015',\n",
       " 'Rk_rushing_2015',\n",
       " 'Rk_scoring_2015',\n",
       " 'Rk_pass_def_2015',\n",
       " 'Rk_rush_def_2015',\n",
       " 'Rk_passing_2016',\n",
       " 'Rk_rushing_2016',\n",
       " 'Rk_scoring_2016',\n",
       " 'Rk_pass_def_2016',\n",
       " 'Rk_rush_def_2016',\n",
       " 'Rk_scoring_def_2013',\n",
       " 'Rk_scoring_def_2014',\n",
       " 'Rk_scoring_def_2015',\n",
       " 'Rk_scoring_def_2016']"
      ]
     },
     "execution_count": 34,
     "metadata": {},
     "output_type": "execute_result"
    }
   ],
   "source": [
    "rk_columns = [i for i in df.columns if 'Rk' in i]\n",
    "rk_columns"
   ]
  },
  {
   "cell_type": "code",
   "execution_count": 35,
   "metadata": {
    "collapsed": true
   },
   "outputs": [],
   "source": [
    "df.drop(rk_columns,axis=1,inplace=True)"
   ]
  },
  {
   "cell_type": "code",
   "execution_count": 36,
   "metadata": {},
   "outputs": [
    {
     "data": {
      "text/plain": [
       "(32, 620)"
      ]
     },
     "execution_count": 36,
     "metadata": {},
     "output_type": "execute_result"
    }
   ],
   "source": [
    "df.shape"
   ]
  },
  {
   "cell_type": "code",
   "execution_count": 37,
   "metadata": {},
   "outputs": [
    {
     "data": {
      "text/plain": [
       "['Yds.1_passing_2010',\n",
       " 'Yds.1_passing_2011',\n",
       " 'Yds.1_passing_2012',\n",
       " 'Yds.1_pass_def_2010',\n",
       " 'Yds.1_pass_def_2011',\n",
       " 'Yds.1_pass_def_2012',\n",
       " 'Yds.1_passing_2013',\n",
       " 'Yds.1_pass_def_2013',\n",
       " 'Yds.1_passing_2014',\n",
       " 'Yds.1_pass_def_2014',\n",
       " 'Yds.1_passing_2015',\n",
       " 'Yds.1_pass_def_2015',\n",
       " 'Yds.1_passing_2016',\n",
       " 'Yds.1_pass_def_2016']"
      ]
     },
     "execution_count": 37,
     "metadata": {},
     "output_type": "execute_result"
    }
   ],
   "source": [
    "sack_yrd_columns = [i for i in df.columns if 'Yds.1' in i]\n",
    "sack_yrd_columns"
   ]
  },
  {
   "cell_type": "code",
   "execution_count": 38,
   "metadata": {
    "collapsed": true
   },
   "outputs": [],
   "source": [
    "sack_yrd_columns_new = ['Sack_Yds_passing_2010',\n",
    " 'Sack_Yds_passing_2011',\n",
    " 'Sack_Yds_passing_2012',\n",
    " 'Sack_Yds_pass_def_2010',\n",
    " 'Sack_Yds_pass_def_2011',\n",
    " 'Sack_Yds_pass_def_2012',\n",
    " 'Sack_Yds_passing_2013',\n",
    " 'Sack_Yds_pass_def_2013',\n",
    " 'Sack_Yds_passing_2014',\n",
    " 'Sack_Yds_pass_def_2014',\n",
    " 'Sack_Yds_passing_2015',\n",
    " 'Sack_Yds_pass_def_2015',\n",
    " 'Sack_Yds_passing_2016',\n",
    " 'Sack_Yds_pass_def_2016']"
   ]
  },
  {
   "cell_type": "code",
   "execution_count": 39,
   "metadata": {
    "collapsed": true
   },
   "outputs": [],
   "source": [
    "df.rename(columns=dict(zip(sack_yrd_columns,sack_yrd_columns_new)),inplace=True)"
   ]
  },
  {
   "cell_type": "code",
   "execution_count": 40,
   "metadata": {},
   "outputs": [
    {
     "data": {
      "text/html": [
       "<div>\n",
       "<style>\n",
       "    .dataframe thead tr:only-child th {\n",
       "        text-align: right;\n",
       "    }\n",
       "\n",
       "    .dataframe thead th {\n",
       "        text-align: left;\n",
       "    }\n",
       "\n",
       "    .dataframe tbody tr th {\n",
       "        vertical-align: top;\n",
       "    }\n",
       "</style>\n",
       "<table border=\"1\" class=\"dataframe\">\n",
       "  <thead>\n",
       "    <tr style=\"text-align: right;\">\n",
       "      <th></th>\n",
       "      <th>Sack_Yds_passing_2010</th>\n",
       "      <th>Sack_Yds_passing_2011</th>\n",
       "      <th>Sack_Yds_passing_2012</th>\n",
       "      <th>Sack_Yds_pass_def_2010</th>\n",
       "      <th>Sack_Yds_pass_def_2011</th>\n",
       "      <th>Sack_Yds_pass_def_2012</th>\n",
       "      <th>Sack_Yds_passing_2013</th>\n",
       "      <th>Sack_Yds_pass_def_2013</th>\n",
       "      <th>Sack_Yds_passing_2014</th>\n",
       "      <th>Sack_Yds_pass_def_2014</th>\n",
       "      <th>Sack_Yds_passing_2015</th>\n",
       "      <th>Sack_Yds_pass_def_2015</th>\n",
       "      <th>Sack_Yds_passing_2016</th>\n",
       "      <th>Sack_Yds_pass_def_2016</th>\n",
       "    </tr>\n",
       "    <tr>\n",
       "      <th>Tm</th>\n",
       "      <th></th>\n",
       "      <th></th>\n",
       "      <th></th>\n",
       "      <th></th>\n",
       "      <th></th>\n",
       "      <th></th>\n",
       "      <th></th>\n",
       "      <th></th>\n",
       "      <th></th>\n",
       "      <th></th>\n",
       "      <th></th>\n",
       "      <th></th>\n",
       "      <th></th>\n",
       "      <th></th>\n",
       "    </tr>\n",
       "  </thead>\n",
       "  <tbody>\n",
       "    <tr>\n",
       "      <th>Jacksonville Jaguars</th>\n",
       "      <td>291.0</td>\n",
       "      <td>331.0</td>\n",
       "      <td>327.0</td>\n",
       "      <td>189.0</td>\n",
       "      <td>213.0</td>\n",
       "      <td>128.0</td>\n",
       "      <td>310.0</td>\n",
       "      <td>225.0</td>\n",
       "      <td>450.0</td>\n",
       "      <td>275.0</td>\n",
       "      <td>320.0</td>\n",
       "      <td>237.0</td>\n",
       "      <td>197.0</td>\n",
       "      <td>183.0</td>\n",
       "    </tr>\n",
       "    <tr>\n",
       "      <th>Houston Texans</th>\n",
       "      <td>226.0</td>\n",
       "      <td>190.0</td>\n",
       "      <td>216.0</td>\n",
       "      <td>219.0</td>\n",
       "      <td>287.0</td>\n",
       "      <td>269.0</td>\n",
       "      <td>370.0</td>\n",
       "      <td>187.0</td>\n",
       "      <td>108.0</td>\n",
       "      <td>251.0</td>\n",
       "      <td>246.0</td>\n",
       "      <td>311.0</td>\n",
       "      <td>242.0</td>\n",
       "      <td>198.0</td>\n",
       "    </tr>\n",
       "    <tr>\n",
       "      <th>Tampa Bay Buccaneers</th>\n",
       "      <td>203.0</td>\n",
       "      <td>188.0</td>\n",
       "      <td>161.0</td>\n",
       "      <td>143.0</td>\n",
       "      <td>148.0</td>\n",
       "      <td>193.0</td>\n",
       "      <td>361.0</td>\n",
       "      <td>255.0</td>\n",
       "      <td>326.0</td>\n",
       "      <td>210.0</td>\n",
       "      <td>190.0</td>\n",
       "      <td>232.0</td>\n",
       "      <td>239.0</td>\n",
       "      <td>234.0</td>\n",
       "    </tr>\n",
       "    <tr>\n",
       "      <th>New York Jets</th>\n",
       "      <td>178.0</td>\n",
       "      <td>245.0</td>\n",
       "      <td>287.0</td>\n",
       "      <td>244.0</td>\n",
       "      <td>198.0</td>\n",
       "      <td>170.0</td>\n",
       "      <td>338.0</td>\n",
       "      <td>242.0</td>\n",
       "      <td>260.0</td>\n",
       "      <td>310.0</td>\n",
       "      <td>113.0</td>\n",
       "      <td>278.0</td>\n",
       "      <td>179.0</td>\n",
       "      <td>179.0</td>\n",
       "    </tr>\n",
       "    <tr>\n",
       "      <th>New York Giants</th>\n",
       "      <td>117.0</td>\n",
       "      <td>199.0</td>\n",
       "      <td>142.0</td>\n",
       "      <td>316.0</td>\n",
       "      <td>335.0</td>\n",
       "      <td>231.0</td>\n",
       "      <td>287.0</td>\n",
       "      <td>214.0</td>\n",
       "      <td>198.0</td>\n",
       "      <td>313.0</td>\n",
       "      <td>157.0</td>\n",
       "      <td>137.0</td>\n",
       "      <td>148.0</td>\n",
       "      <td>242.0</td>\n",
       "    </tr>\n",
       "    <tr>\n",
       "      <th>Cleveland Browns</th>\n",
       "      <td>214.0</td>\n",
       "      <td>210.0</td>\n",
       "      <td>233.0</td>\n",
       "      <td>178.0</td>\n",
       "      <td>199.0</td>\n",
       "      <td>233.0</td>\n",
       "      <td>332.0</td>\n",
       "      <td>185.0</td>\n",
       "      <td>213.0</td>\n",
       "      <td>191.0</td>\n",
       "      <td>374.0</td>\n",
       "      <td>157.0</td>\n",
       "      <td>429.0</td>\n",
       "      <td>177.0</td>\n",
       "    </tr>\n",
       "    <tr>\n",
       "      <th>Miami Dolphins</th>\n",
       "      <td>228.0</td>\n",
       "      <td>334.0</td>\n",
       "      <td>243.0</td>\n",
       "      <td>225.0</td>\n",
       "      <td>241.0</td>\n",
       "      <td>242.0</td>\n",
       "      <td>399.0</td>\n",
       "      <td>272.0</td>\n",
       "      <td>337.0</td>\n",
       "      <td>211.0</td>\n",
       "      <td>420.0</td>\n",
       "      <td>225.0</td>\n",
       "      <td>216.0</td>\n",
       "      <td>226.0</td>\n",
       "    </tr>\n",
       "    <tr>\n",
       "      <th>Baltimore Ravens</th>\n",
       "      <td>294.0</td>\n",
       "      <td>206.0</td>\n",
       "      <td>257.0</td>\n",
       "      <td>190.0</td>\n",
       "      <td>290.0</td>\n",
       "      <td>250.0</td>\n",
       "      <td>324.0</td>\n",
       "      <td>257.0</td>\n",
       "      <td>167.0</td>\n",
       "      <td>362.0</td>\n",
       "      <td>178.0</td>\n",
       "      <td>220.0</td>\n",
       "      <td>243.0</td>\n",
       "      <td>223.0</td>\n",
       "    </tr>\n",
       "    <tr>\n",
       "      <th>Oakland Raiders</th>\n",
       "      <td>291.0</td>\n",
       "      <td>157.0</td>\n",
       "      <td>208.0</td>\n",
       "      <td>292.0</td>\n",
       "      <td>239.0</td>\n",
       "      <td>185.0</td>\n",
       "      <td>289.0</td>\n",
       "      <td>260.0</td>\n",
       "      <td>181.0</td>\n",
       "      <td>157.0</td>\n",
       "      <td>250.0</td>\n",
       "      <td>211.0</td>\n",
       "      <td>86.0</td>\n",
       "      <td>147.0</td>\n",
       "    </tr>\n",
       "    <tr>\n",
       "      <th>Washington Redskins</th>\n",
       "      <td>348.0</td>\n",
       "      <td>285.0</td>\n",
       "      <td>244.0</td>\n",
       "      <td>176.0</td>\n",
       "      <td>251.0</td>\n",
       "      <td>209.0</td>\n",
       "      <td>306.0</td>\n",
       "      <td>238.0</td>\n",
       "      <td>414.0</td>\n",
       "      <td>241.0</td>\n",
       "      <td>199.0</td>\n",
       "      <td>264.0</td>\n",
       "      <td>190.0</td>\n",
       "      <td>253.0</td>\n",
       "    </tr>\n",
       "    <tr>\n",
       "      <th>Buffalo Bills</th>\n",
       "      <td>213.0</td>\n",
       "      <td>154.0</td>\n",
       "      <td>161.0</td>\n",
       "      <td>181.0</td>\n",
       "      <td>210.0</td>\n",
       "      <td>196.0</td>\n",
       "      <td>270.0</td>\n",
       "      <td>395.0</td>\n",
       "      <td>242.0</td>\n",
       "      <td>308.0</td>\n",
       "      <td>257.0</td>\n",
       "      <td>125.0</td>\n",
       "      <td>214.0</td>\n",
       "      <td>253.0</td>\n",
       "    </tr>\n",
       "    <tr>\n",
       "      <th>St. Louis Rams</th>\n",
       "      <td>244.0</td>\n",
       "      <td>388.0</td>\n",
       "      <td>233.0</td>\n",
       "      <td>290.0</td>\n",
       "      <td>261.0</td>\n",
       "      <td>325.0</td>\n",
       "      <td>235.0</td>\n",
       "      <td>326.0</td>\n",
       "      <td>295.0</td>\n",
       "      <td>265.0</td>\n",
       "      <td>126.0</td>\n",
       "      <td>236.0</td>\n",
       "      <td>362.0</td>\n",
       "      <td>196.0</td>\n",
       "    </tr>\n",
       "    <tr>\n",
       "      <th>Atlanta Falcons</th>\n",
       "      <td>158.0</td>\n",
       "      <td>173.0</td>\n",
       "      <td>210.0</td>\n",
       "      <td>221.0</td>\n",
       "      <td>231.0</td>\n",
       "      <td>182.0</td>\n",
       "      <td>298.0</td>\n",
       "      <td>231.0</td>\n",
       "      <td>205.0</td>\n",
       "      <td>140.0</td>\n",
       "      <td>220.0</td>\n",
       "      <td>117.0</td>\n",
       "      <td>235.0</td>\n",
       "      <td>228.0</td>\n",
       "    </tr>\n",
       "    <tr>\n",
       "      <th>Tennessee Titans</th>\n",
       "      <td>171.0</td>\n",
       "      <td>190.0</td>\n",
       "      <td>254.0</td>\n",
       "      <td>272.0</td>\n",
       "      <td>180.0</td>\n",
       "      <td>241.0</td>\n",
       "      <td>214.0</td>\n",
       "      <td>227.0</td>\n",
       "      <td>326.0</td>\n",
       "      <td>222.0</td>\n",
       "      <td>390.0</td>\n",
       "      <td>271.0</td>\n",
       "      <td>179.0</td>\n",
       "      <td>278.0</td>\n",
       "    </tr>\n",
       "    <tr>\n",
       "      <th>Carolina Panthers</th>\n",
       "      <td>346.0</td>\n",
       "      <td>260.0</td>\n",
       "      <td>244.0</td>\n",
       "      <td>224.0</td>\n",
       "      <td>170.0</td>\n",
       "      <td>284.0</td>\n",
       "      <td>336.0</td>\n",
       "      <td>424.0</td>\n",
       "      <td>317.0</td>\n",
       "      <td>268.0</td>\n",
       "      <td>284.0</td>\n",
       "      <td>302.0</td>\n",
       "      <td>277.0</td>\n",
       "      <td>270.0</td>\n",
       "    </tr>\n",
       "    <tr>\n",
       "      <th>Pittsburgh Steelers</th>\n",
       "      <td>289.0</td>\n",
       "      <td>279.0</td>\n",
       "      <td>225.0</td>\n",
       "      <td>319.0</td>\n",
       "      <td>230.0</td>\n",
       "      <td>196.0</td>\n",
       "      <td>289.0</td>\n",
       "      <td>205.0</td>\n",
       "      <td>172.0</td>\n",
       "      <td>194.0</td>\n",
       "      <td>219.0</td>\n",
       "      <td>311.0</td>\n",
       "      <td>175.0</td>\n",
       "      <td>259.0</td>\n",
       "    </tr>\n",
       "    <tr>\n",
       "      <th>Arizona Cardinals</th>\n",
       "      <td>343.0</td>\n",
       "      <td>387.0</td>\n",
       "      <td>378.0</td>\n",
       "      <td>227.0</td>\n",
       "      <td>304.0</td>\n",
       "      <td>228.0</td>\n",
       "      <td>289.0</td>\n",
       "      <td>337.0</td>\n",
       "      <td>182.0</td>\n",
       "      <td>244.0</td>\n",
       "      <td>159.0</td>\n",
       "      <td>270.0</td>\n",
       "      <td>289.0</td>\n",
       "      <td>374.0</td>\n",
       "    </tr>\n",
       "    <tr>\n",
       "      <th>Indianapolis Colts</th>\n",
       "      <td>91.0</td>\n",
       "      <td>228.0</td>\n",
       "      <td>246.0</td>\n",
       "      <td>194.0</td>\n",
       "      <td>192.0</td>\n",
       "      <td>189.0</td>\n",
       "      <td>227.0</td>\n",
       "      <td>248.0</td>\n",
       "      <td>168.0</td>\n",
       "      <td>263.0</td>\n",
       "      <td>224.0</td>\n",
       "      <td>251.0</td>\n",
       "      <td>289.0</td>\n",
       "      <td>211.0</td>\n",
       "    </tr>\n",
       "    <tr>\n",
       "      <th>Minnesota Vikings</th>\n",
       "      <td>230.0</td>\n",
       "      <td>298.0</td>\n",
       "      <td>184.0</td>\n",
       "      <td>177.0</td>\n",
       "      <td>342.0</td>\n",
       "      <td>284.0</td>\n",
       "      <td>218.0</td>\n",
       "      <td>274.0</td>\n",
       "      <td>322.0</td>\n",
       "      <td>217.0</td>\n",
       "      <td>318.0</td>\n",
       "      <td>283.0</td>\n",
       "      <td>283.0</td>\n",
       "      <td>310.0</td>\n",
       "    </tr>\n",
       "    <tr>\n",
       "      <th>Detroit Lions</th>\n",
       "      <td>191.0</td>\n",
       "      <td>257.0</td>\n",
       "      <td>212.0</td>\n",
       "      <td>288.0</td>\n",
       "      <td>271.0</td>\n",
       "      <td>237.0</td>\n",
       "      <td>168.0</td>\n",
       "      <td>249.0</td>\n",
       "      <td>254.0</td>\n",
       "      <td>295.0</td>\n",
       "      <td>251.0</td>\n",
       "      <td>279.0</td>\n",
       "      <td>216.0</td>\n",
       "      <td>161.0</td>\n",
       "    </tr>\n",
       "    <tr>\n",
       "      <th>San Diego Chargers</th>\n",
       "      <td>227.0</td>\n",
       "      <td>198.0</td>\n",
       "      <td>311.0</td>\n",
       "      <td>290.0</td>\n",
       "      <td>187.0</td>\n",
       "      <td>244.0</td>\n",
       "      <td>150.0</td>\n",
       "      <td>248.0</td>\n",
       "      <td>198.0</td>\n",
       "      <td>178.0</td>\n",
       "      <td>264.0</td>\n",
       "      <td>222.0</td>\n",
       "      <td>188.0</td>\n",
       "      <td>230.0</td>\n",
       "    </tr>\n",
       "    <tr>\n",
       "      <th>San Francisco 49ers</th>\n",
       "      <td>257.0</td>\n",
       "      <td>263.0</td>\n",
       "      <td>253.0</td>\n",
       "      <td>244.0</td>\n",
       "      <td>283.0</td>\n",
       "      <td>270.0</td>\n",
       "      <td>231.0</td>\n",
       "      <td>283.0</td>\n",
       "      <td>344.0</td>\n",
       "      <td>200.0</td>\n",
       "      <td>330.0</td>\n",
       "      <td>196.0</td>\n",
       "      <td>255.0</td>\n",
       "      <td>165.0</td>\n",
       "    </tr>\n",
       "    <tr>\n",
       "      <th>New Orleans Saints</th>\n",
       "      <td>195.0</td>\n",
       "      <td>158.0</td>\n",
       "      <td>190.0</td>\n",
       "      <td>250.0</td>\n",
       "      <td>256.0</td>\n",
       "      <td>194.0</td>\n",
       "      <td>244.0</td>\n",
       "      <td>336.0</td>\n",
       "      <td>188.0</td>\n",
       "      <td>188.0</td>\n",
       "      <td>235.0</td>\n",
       "      <td>211.0</td>\n",
       "      <td>184.0</td>\n",
       "      <td>213.0</td>\n",
       "    </tr>\n",
       "    <tr>\n",
       "      <th>Seattle Seahawks</th>\n",
       "      <td>195.0</td>\n",
       "      <td>339.0</td>\n",
       "      <td>203.0</td>\n",
       "      <td>246.0</td>\n",
       "      <td>232.0</td>\n",
       "      <td>247.0</td>\n",
       "      <td>272.0</td>\n",
       "      <td>298.0</td>\n",
       "      <td>242.0</td>\n",
       "      <td>234.0</td>\n",
       "      <td>271.0</td>\n",
       "      <td>255.0</td>\n",
       "      <td>298.0</td>\n",
       "      <td>272.0</td>\n",
       "    </tr>\n",
       "    <tr>\n",
       "      <th>Green Bay Packers</th>\n",
       "      <td>231.0</td>\n",
       "      <td>237.0</td>\n",
       "      <td>293.0</td>\n",
       "      <td>333.0</td>\n",
       "      <td>192.0</td>\n",
       "      <td>309.0</td>\n",
       "      <td>270.0</td>\n",
       "      <td>238.0</td>\n",
       "      <td>186.0</td>\n",
       "      <td>261.0</td>\n",
       "      <td>322.0</td>\n",
       "      <td>256.0</td>\n",
       "      <td>246.0</td>\n",
       "      <td>295.0</td>\n",
       "    </tr>\n",
       "    <tr>\n",
       "      <th>Cincinnati Bengals</th>\n",
       "      <td>221.0</td>\n",
       "      <td>167.0</td>\n",
       "      <td>229.0</td>\n",
       "      <td>179.0</td>\n",
       "      <td>277.0</td>\n",
       "      <td>361.0</td>\n",
       "      <td>182.0</td>\n",
       "      <td>279.0</td>\n",
       "      <td>130.0</td>\n",
       "      <td>125.0</td>\n",
       "      <td>181.0</td>\n",
       "      <td>288.0</td>\n",
       "      <td>264.0</td>\n",
       "      <td>185.0</td>\n",
       "    </tr>\n",
       "    <tr>\n",
       "      <th>Kansas City Chiefs</th>\n",
       "      <td>221.0</td>\n",
       "      <td>208.0</td>\n",
       "      <td>224.0</td>\n",
       "      <td>258.0</td>\n",
       "      <td>186.0</td>\n",
       "      <td>161.0</td>\n",
       "      <td>221.0</td>\n",
       "      <td>309.0</td>\n",
       "      <td>246.0</td>\n",
       "      <td>253.0</td>\n",
       "      <td>238.0</td>\n",
       "      <td>290.0</td>\n",
       "      <td>174.0</td>\n",
       "      <td>162.0</td>\n",
       "    </tr>\n",
       "    <tr>\n",
       "      <th>Dallas Cowboys</th>\n",
       "      <td>166.0</td>\n",
       "      <td>252.0</td>\n",
       "      <td>263.0</td>\n",
       "      <td>257.0</td>\n",
       "      <td>243.0</td>\n",
       "      <td>211.0</td>\n",
       "      <td>272.0</td>\n",
       "      <td>246.0</td>\n",
       "      <td>224.0</td>\n",
       "      <td>156.0</td>\n",
       "      <td>206.0</td>\n",
       "      <td>229.0</td>\n",
       "      <td>168.0</td>\n",
       "      <td>209.0</td>\n",
       "    </tr>\n",
       "    <tr>\n",
       "      <th>Philadelphia Eagles</th>\n",
       "      <td>309.0</td>\n",
       "      <td>166.0</td>\n",
       "      <td>284.0</td>\n",
       "      <td>292.0</td>\n",
       "      <td>316.0</td>\n",
       "      <td>198.0</td>\n",
       "      <td>296.0</td>\n",
       "      <td>271.0</td>\n",
       "      <td>225.0</td>\n",
       "      <td>357.0</td>\n",
       "      <td>254.0</td>\n",
       "      <td>243.0</td>\n",
       "      <td>213.0</td>\n",
       "      <td>207.0</td>\n",
       "    </tr>\n",
       "    <tr>\n",
       "      <th>New England Patriots</th>\n",
       "      <td>175.0</td>\n",
       "      <td>173.0</td>\n",
       "      <td>182.0</td>\n",
       "      <td>212.0</td>\n",
       "      <td>274.0</td>\n",
       "      <td>213.0</td>\n",
       "      <td>256.0</td>\n",
       "      <td>313.0</td>\n",
       "      <td>170.0</td>\n",
       "      <td>282.0</td>\n",
       "      <td>225.0</td>\n",
       "      <td>358.0</td>\n",
       "      <td>148.0</td>\n",
       "      <td>227.0</td>\n",
       "    </tr>\n",
       "    <tr>\n",
       "      <th>Chicago Bears</th>\n",
       "      <td>382.0</td>\n",
       "      <td>335.0</td>\n",
       "      <td>299.0</td>\n",
       "      <td>232.0</td>\n",
       "      <td>208.0</td>\n",
       "      <td>289.0</td>\n",
       "      <td>169.0</td>\n",
       "      <td>189.0</td>\n",
       "      <td>243.0</td>\n",
       "      <td>228.0</td>\n",
       "      <td>183.0</td>\n",
       "      <td>237.0</td>\n",
       "      <td>170.0</td>\n",
       "      <td>230.0</td>\n",
       "    </tr>\n",
       "    <tr>\n",
       "      <th>Denver Broncos</th>\n",
       "      <td>269.0</td>\n",
       "      <td>274.0</td>\n",
       "      <td>137.0</td>\n",
       "      <td>156.0</td>\n",
       "      <td>283.0</td>\n",
       "      <td>364.0</td>\n",
       "      <td>128.0</td>\n",
       "      <td>290.0</td>\n",
       "      <td>118.0</td>\n",
       "      <td>252.0</td>\n",
       "      <td>246.0</td>\n",
       "      <td>351.0</td>\n",
       "      <td>229.0</td>\n",
       "      <td>228.0</td>\n",
       "    </tr>\n",
       "  </tbody>\n",
       "</table>\n",
       "</div>"
      ],
      "text/plain": [
       "                      Sack_Yds_passing_2010  Sack_Yds_passing_2011  \\\n",
       "Tm                                                                   \n",
       "Jacksonville Jaguars                  291.0                  331.0   \n",
       "Houston Texans                        226.0                  190.0   \n",
       "Tampa Bay Buccaneers                  203.0                  188.0   \n",
       "New York Jets                         178.0                  245.0   \n",
       "New York Giants                       117.0                  199.0   \n",
       "Cleveland Browns                      214.0                  210.0   \n",
       "Miami Dolphins                        228.0                  334.0   \n",
       "Baltimore Ravens                      294.0                  206.0   \n",
       "Oakland Raiders                       291.0                  157.0   \n",
       "Washington Redskins                   348.0                  285.0   \n",
       "Buffalo Bills                         213.0                  154.0   \n",
       "St. Louis Rams                        244.0                  388.0   \n",
       "Atlanta Falcons                       158.0                  173.0   \n",
       "Tennessee Titans                      171.0                  190.0   \n",
       "Carolina Panthers                     346.0                  260.0   \n",
       "Pittsburgh Steelers                   289.0                  279.0   \n",
       "Arizona Cardinals                     343.0                  387.0   \n",
       "Indianapolis Colts                     91.0                  228.0   \n",
       "Minnesota Vikings                     230.0                  298.0   \n",
       "Detroit Lions                         191.0                  257.0   \n",
       "San Diego Chargers                    227.0                  198.0   \n",
       "San Francisco 49ers                   257.0                  263.0   \n",
       "New Orleans Saints                    195.0                  158.0   \n",
       "Seattle Seahawks                      195.0                  339.0   \n",
       "Green Bay Packers                     231.0                  237.0   \n",
       "Cincinnati Bengals                    221.0                  167.0   \n",
       "Kansas City Chiefs                    221.0                  208.0   \n",
       "Dallas Cowboys                        166.0                  252.0   \n",
       "Philadelphia Eagles                   309.0                  166.0   \n",
       "New England Patriots                  175.0                  173.0   \n",
       "Chicago Bears                         382.0                  335.0   \n",
       "Denver Broncos                        269.0                  274.0   \n",
       "\n",
       "                      Sack_Yds_passing_2012  Sack_Yds_pass_def_2010  \\\n",
       "Tm                                                                    \n",
       "Jacksonville Jaguars                  327.0                   189.0   \n",
       "Houston Texans                        216.0                   219.0   \n",
       "Tampa Bay Buccaneers                  161.0                   143.0   \n",
       "New York Jets                         287.0                   244.0   \n",
       "New York Giants                       142.0                   316.0   \n",
       "Cleveland Browns                      233.0                   178.0   \n",
       "Miami Dolphins                        243.0                   225.0   \n",
       "Baltimore Ravens                      257.0                   190.0   \n",
       "Oakland Raiders                       208.0                   292.0   \n",
       "Washington Redskins                   244.0                   176.0   \n",
       "Buffalo Bills                         161.0                   181.0   \n",
       "St. Louis Rams                        233.0                   290.0   \n",
       "Atlanta Falcons                       210.0                   221.0   \n",
       "Tennessee Titans                      254.0                   272.0   \n",
       "Carolina Panthers                     244.0                   224.0   \n",
       "Pittsburgh Steelers                   225.0                   319.0   \n",
       "Arizona Cardinals                     378.0                   227.0   \n",
       "Indianapolis Colts                    246.0                   194.0   \n",
       "Minnesota Vikings                     184.0                   177.0   \n",
       "Detroit Lions                         212.0                   288.0   \n",
       "San Diego Chargers                    311.0                   290.0   \n",
       "San Francisco 49ers                   253.0                   244.0   \n",
       "New Orleans Saints                    190.0                   250.0   \n",
       "Seattle Seahawks                      203.0                   246.0   \n",
       "Green Bay Packers                     293.0                   333.0   \n",
       "Cincinnati Bengals                    229.0                   179.0   \n",
       "Kansas City Chiefs                    224.0                   258.0   \n",
       "Dallas Cowboys                        263.0                   257.0   \n",
       "Philadelphia Eagles                   284.0                   292.0   \n",
       "New England Patriots                  182.0                   212.0   \n",
       "Chicago Bears                         299.0                   232.0   \n",
       "Denver Broncos                        137.0                   156.0   \n",
       "\n",
       "                      Sack_Yds_pass_def_2011  Sack_Yds_pass_def_2012  \\\n",
       "Tm                                                                     \n",
       "Jacksonville Jaguars                   213.0                   128.0   \n",
       "Houston Texans                         287.0                   269.0   \n",
       "Tampa Bay Buccaneers                   148.0                   193.0   \n",
       "New York Jets                          198.0                   170.0   \n",
       "New York Giants                        335.0                   231.0   \n",
       "Cleveland Browns                       199.0                   233.0   \n",
       "Miami Dolphins                         241.0                   242.0   \n",
       "Baltimore Ravens                       290.0                   250.0   \n",
       "Oakland Raiders                        239.0                   185.0   \n",
       "Washington Redskins                    251.0                   209.0   \n",
       "Buffalo Bills                          210.0                   196.0   \n",
       "St. Louis Rams                         261.0                   325.0   \n",
       "Atlanta Falcons                        231.0                   182.0   \n",
       "Tennessee Titans                       180.0                   241.0   \n",
       "Carolina Panthers                      170.0                   284.0   \n",
       "Pittsburgh Steelers                    230.0                   196.0   \n",
       "Arizona Cardinals                      304.0                   228.0   \n",
       "Indianapolis Colts                     192.0                   189.0   \n",
       "Minnesota Vikings                      342.0                   284.0   \n",
       "Detroit Lions                          271.0                   237.0   \n",
       "San Diego Chargers                     187.0                   244.0   \n",
       "San Francisco 49ers                    283.0                   270.0   \n",
       "New Orleans Saints                     256.0                   194.0   \n",
       "Seattle Seahawks                       232.0                   247.0   \n",
       "Green Bay Packers                      192.0                   309.0   \n",
       "Cincinnati Bengals                     277.0                   361.0   \n",
       "Kansas City Chiefs                     186.0                   161.0   \n",
       "Dallas Cowboys                         243.0                   211.0   \n",
       "Philadelphia Eagles                    316.0                   198.0   \n",
       "New England Patriots                   274.0                   213.0   \n",
       "Chicago Bears                          208.0                   289.0   \n",
       "Denver Broncos                         283.0                   364.0   \n",
       "\n",
       "                      Sack_Yds_passing_2013  Sack_Yds_pass_def_2013  \\\n",
       "Tm                                                                    \n",
       "Jacksonville Jaguars                  310.0                   225.0   \n",
       "Houston Texans                        370.0                   187.0   \n",
       "Tampa Bay Buccaneers                  361.0                   255.0   \n",
       "New York Jets                         338.0                   242.0   \n",
       "New York Giants                       287.0                   214.0   \n",
       "Cleveland Browns                      332.0                   185.0   \n",
       "Miami Dolphins                        399.0                   272.0   \n",
       "Baltimore Ravens                      324.0                   257.0   \n",
       "Oakland Raiders                       289.0                   260.0   \n",
       "Washington Redskins                   306.0                   238.0   \n",
       "Buffalo Bills                         270.0                   395.0   \n",
       "St. Louis Rams                        235.0                   326.0   \n",
       "Atlanta Falcons                       298.0                   231.0   \n",
       "Tennessee Titans                      214.0                   227.0   \n",
       "Carolina Panthers                     336.0                   424.0   \n",
       "Pittsburgh Steelers                   289.0                   205.0   \n",
       "Arizona Cardinals                     289.0                   337.0   \n",
       "Indianapolis Colts                    227.0                   248.0   \n",
       "Minnesota Vikings                     218.0                   274.0   \n",
       "Detroit Lions                         168.0                   249.0   \n",
       "San Diego Chargers                    150.0                   248.0   \n",
       "San Francisco 49ers                   231.0                   283.0   \n",
       "New Orleans Saints                    244.0                   336.0   \n",
       "Seattle Seahawks                      272.0                   298.0   \n",
       "Green Bay Packers                     270.0                   238.0   \n",
       "Cincinnati Bengals                    182.0                   279.0   \n",
       "Kansas City Chiefs                    221.0                   309.0   \n",
       "Dallas Cowboys                        272.0                   246.0   \n",
       "Philadelphia Eagles                   296.0                   271.0   \n",
       "New England Patriots                  256.0                   313.0   \n",
       "Chicago Bears                         169.0                   189.0   \n",
       "Denver Broncos                        128.0                   290.0   \n",
       "\n",
       "                      Sack_Yds_passing_2014  Sack_Yds_pass_def_2014  \\\n",
       "Tm                                                                    \n",
       "Jacksonville Jaguars                  450.0                   275.0   \n",
       "Houston Texans                        108.0                   251.0   \n",
       "Tampa Bay Buccaneers                  326.0                   210.0   \n",
       "New York Jets                         260.0                   310.0   \n",
       "New York Giants                       198.0                   313.0   \n",
       "Cleveland Browns                      213.0                   191.0   \n",
       "Miami Dolphins                        337.0                   211.0   \n",
       "Baltimore Ravens                      167.0                   362.0   \n",
       "Oakland Raiders                       181.0                   157.0   \n",
       "Washington Redskins                   414.0                   241.0   \n",
       "Buffalo Bills                         242.0                   308.0   \n",
       "St. Louis Rams                        295.0                   265.0   \n",
       "Atlanta Falcons                       205.0                   140.0   \n",
       "Tennessee Titans                      326.0                   222.0   \n",
       "Carolina Panthers                     317.0                   268.0   \n",
       "Pittsburgh Steelers                   172.0                   194.0   \n",
       "Arizona Cardinals                     182.0                   244.0   \n",
       "Indianapolis Colts                    168.0                   263.0   \n",
       "Minnesota Vikings                     322.0                   217.0   \n",
       "Detroit Lions                         254.0                   295.0   \n",
       "San Diego Chargers                    198.0                   178.0   \n",
       "San Francisco 49ers                   344.0                   200.0   \n",
       "New Orleans Saints                    188.0                   188.0   \n",
       "Seattle Seahawks                      242.0                   234.0   \n",
       "Green Bay Packers                     186.0                   261.0   \n",
       "Cincinnati Bengals                    130.0                   125.0   \n",
       "Kansas City Chiefs                    246.0                   253.0   \n",
       "Dallas Cowboys                        224.0                   156.0   \n",
       "Philadelphia Eagles                   225.0                   357.0   \n",
       "New England Patriots                  170.0                   282.0   \n",
       "Chicago Bears                         243.0                   228.0   \n",
       "Denver Broncos                        118.0                   252.0   \n",
       "\n",
       "                      Sack_Yds_passing_2015  Sack_Yds_pass_def_2015  \\\n",
       "Tm                                                                    \n",
       "Jacksonville Jaguars                  320.0                   237.0   \n",
       "Houston Texans                        246.0                   311.0   \n",
       "Tampa Bay Buccaneers                  190.0                   232.0   \n",
       "New York Jets                         113.0                   278.0   \n",
       "New York Giants                       157.0                   137.0   \n",
       "Cleveland Browns                      374.0                   157.0   \n",
       "Miami Dolphins                        420.0                   225.0   \n",
       "Baltimore Ravens                      178.0                   220.0   \n",
       "Oakland Raiders                       250.0                   211.0   \n",
       "Washington Redskins                   199.0                   264.0   \n",
       "Buffalo Bills                         257.0                   125.0   \n",
       "St. Louis Rams                        126.0                   236.0   \n",
       "Atlanta Falcons                       220.0                   117.0   \n",
       "Tennessee Titans                      390.0                   271.0   \n",
       "Carolina Panthers                     284.0                   302.0   \n",
       "Pittsburgh Steelers                   219.0                   311.0   \n",
       "Arizona Cardinals                     159.0                   270.0   \n",
       "Indianapolis Colts                    224.0                   251.0   \n",
       "Minnesota Vikings                     318.0                   283.0   \n",
       "Detroit Lions                         251.0                   279.0   \n",
       "San Diego Chargers                    264.0                   222.0   \n",
       "San Francisco 49ers                   330.0                   196.0   \n",
       "New Orleans Saints                    235.0                   211.0   \n",
       "Seattle Seahawks                      271.0                   255.0   \n",
       "Green Bay Packers                     322.0                   256.0   \n",
       "Cincinnati Bengals                    181.0                   288.0   \n",
       "Kansas City Chiefs                    238.0                   290.0   \n",
       "Dallas Cowboys                        206.0                   229.0   \n",
       "Philadelphia Eagles                   254.0                   243.0   \n",
       "New England Patriots                  225.0                   358.0   \n",
       "Chicago Bears                         183.0                   237.0   \n",
       "Denver Broncos                        246.0                   351.0   \n",
       "\n",
       "                      Sack_Yds_passing_2016  Sack_Yds_pass_def_2016  \n",
       "Tm                                                                   \n",
       "Jacksonville Jaguars                  197.0                   183.0  \n",
       "Houston Texans                        242.0                   198.0  \n",
       "Tampa Bay Buccaneers                  239.0                   234.0  \n",
       "New York Jets                         179.0                   179.0  \n",
       "New York Giants                       148.0                   242.0  \n",
       "Cleveland Browns                      429.0                   177.0  \n",
       "Miami Dolphins                        216.0                   226.0  \n",
       "Baltimore Ravens                      243.0                   223.0  \n",
       "Oakland Raiders                        86.0                   147.0  \n",
       "Washington Redskins                   190.0                   253.0  \n",
       "Buffalo Bills                         214.0                   253.0  \n",
       "St. Louis Rams                        362.0                   196.0  \n",
       "Atlanta Falcons                       235.0                   228.0  \n",
       "Tennessee Titans                      179.0                   278.0  \n",
       "Carolina Panthers                     277.0                   270.0  \n",
       "Pittsburgh Steelers                   175.0                   259.0  \n",
       "Arizona Cardinals                     289.0                   374.0  \n",
       "Indianapolis Colts                    289.0                   211.0  \n",
       "Minnesota Vikings                     283.0                   310.0  \n",
       "Detroit Lions                         216.0                   161.0  \n",
       "San Diego Chargers                    188.0                   230.0  \n",
       "San Francisco 49ers                   255.0                   165.0  \n",
       "New Orleans Saints                    184.0                   213.0  \n",
       "Seattle Seahawks                      298.0                   272.0  \n",
       "Green Bay Packers                     246.0                   295.0  \n",
       "Cincinnati Bengals                    264.0                   185.0  \n",
       "Kansas City Chiefs                    174.0                   162.0  \n",
       "Dallas Cowboys                        168.0                   209.0  \n",
       "Philadelphia Eagles                   213.0                   207.0  \n",
       "New England Patriots                  148.0                   227.0  \n",
       "Chicago Bears                         170.0                   230.0  \n",
       "Denver Broncos                        229.0                   228.0  "
      ]
     },
     "execution_count": 40,
     "metadata": {},
     "output_type": "execute_result"
    }
   ],
   "source": [
    "df[sack_yrd_columns_new]"
   ]
  },
  {
   "cell_type": "markdown",
   "metadata": {},
   "source": [
    "This leaves fairly clean data and columns. \n",
    "\n",
    "Next steps will be looking for additional colinearity and fitting the first models. "
   ]
  },
  {
   "cell_type": "code",
   "execution_count": 41,
   "metadata": {
    "collapsed": true
   },
   "outputs": [],
   "source": [
    "import seaborn as sns"
   ]
  },
  {
   "cell_type": "code",
   "execution_count": 42,
   "metadata": {
    "collapsed": true
   },
   "outputs": [],
   "source": [
    "stat_index = ['_passing','_rushing','_scoring','_standings','_pass_def','_rush_def','_scoring_def']"
   ]
  },
  {
   "cell_type": "code",
   "execution_count": 43,
   "metadata": {},
   "outputs": [
    {
     "ename": "AttributeError",
     "evalue": "'module' object has no attribute 'pa'",
     "output_type": "error",
     "traceback": [
      "\u001b[0;31m---------------------------------------------------------------------------\u001b[0m",
      "\u001b[0;31mAttributeError\u001b[0m                            Traceback (most recent call last)",
      "\u001b[0;32m<ipython-input-43-a58e88184971>\u001b[0m in \u001b[0;36m<module>\u001b[0;34m()\u001b[0m\n\u001b[1;32m      1\u001b[0m \u001b[0;32mfor\u001b[0m \u001b[0mi\u001b[0m \u001b[0;32min\u001b[0m \u001b[0mstat_index\u001b[0m\u001b[0;34m:\u001b[0m\u001b[0;34m\u001b[0m\u001b[0m\n\u001b[0;32m----> 2\u001b[0;31m     \u001b[0msns\u001b[0m\u001b[0;34m.\u001b[0m\u001b[0mpa\u001b[0m\u001b[0;34m\u001b[0m\u001b[0m\n\u001b[0m",
      "\u001b[0;31mAttributeError\u001b[0m: 'module' object has no attribute 'pa'"
     ]
    }
   ],
   "source": [
    "for i in stat_index:\n",
    "    sns.pa"
   ]
  },
  {
   "cell_type": "code",
   "execution_count": 47,
   "metadata": {},
   "outputs": [
    {
     "data": {
      "text/html": [
       "<div>\n",
       "<style>\n",
       "    .dataframe thead tr:only-child th {\n",
       "        text-align: right;\n",
       "    }\n",
       "\n",
       "    .dataframe thead th {\n",
       "        text-align: left;\n",
       "    }\n",
       "\n",
       "    .dataframe tbody tr th {\n",
       "        vertical-align: top;\n",
       "    }\n",
       "</style>\n",
       "<table border=\"1\" class=\"dataframe\">\n",
       "  <thead>\n",
       "    <tr style=\"text-align: right;\">\n",
       "      <th></th>\n",
       "      <th>Cmp_passing_2010</th>\n",
       "      <th>Att_passing_2010</th>\n",
       "      <th>Cmp%_passing_2010</th>\n",
       "      <th>Yds_passing_2010</th>\n",
       "      <th>TD_passing_2010</th>\n",
       "      <th>TD%_passing_2010</th>\n",
       "      <th>Int_passing_2010</th>\n",
       "      <th>Int%_passing_2010</th>\n",
       "      <th>Lng_passing_2010</th>\n",
       "      <th>Y/A_passing_2010</th>\n",
       "      <th>...</th>\n",
       "      <th>IntTD_scoring_def_2016</th>\n",
       "      <th>OthTD_scoring_def_2016</th>\n",
       "      <th>AllTD_scoring_def_2016</th>\n",
       "      <th>2PM_scoring_def_2016</th>\n",
       "      <th>2PA_scoring_def_2016</th>\n",
       "      <th>XPM_scoring_def_2016</th>\n",
       "      <th>XPA_scoring_def_2016</th>\n",
       "      <th>FGM_scoring_def_2016</th>\n",
       "      <th>FGA_scoring_def_2016</th>\n",
       "      <th>Sfty_scoring_def_2016</th>\n",
       "    </tr>\n",
       "    <tr>\n",
       "      <th>Tm</th>\n",
       "      <th></th>\n",
       "      <th></th>\n",
       "      <th></th>\n",
       "      <th></th>\n",
       "      <th></th>\n",
       "      <th></th>\n",
       "      <th></th>\n",
       "      <th></th>\n",
       "      <th></th>\n",
       "      <th></th>\n",
       "      <th></th>\n",
       "      <th></th>\n",
       "      <th></th>\n",
       "      <th></th>\n",
       "      <th></th>\n",
       "      <th></th>\n",
       "      <th></th>\n",
       "      <th></th>\n",
       "      <th></th>\n",
       "      <th></th>\n",
       "      <th></th>\n",
       "    </tr>\n",
       "  </thead>\n",
       "  <tbody>\n",
       "    <tr>\n",
       "      <th>Jacksonville Jaguars</th>\n",
       "      <td>291.0</td>\n",
       "      <td>469.0</td>\n",
       "      <td>62.0</td>\n",
       "      <td>3065.0</td>\n",
       "      <td>26.0</td>\n",
       "      <td>5.5</td>\n",
       "      <td>21.0</td>\n",
       "      <td>4.5</td>\n",
       "      <td>75.0</td>\n",
       "      <td>7.2</td>\n",
       "      <td>...</td>\n",
       "      <td>3.0</td>\n",
       "      <td>0.0</td>\n",
       "      <td>41.0</td>\n",
       "      <td>1.0</td>\n",
       "      <td>1.0</td>\n",
       "      <td>36.0</td>\n",
       "      <td>40.0</td>\n",
       "      <td>38.0</td>\n",
       "      <td>41.0</td>\n",
       "      <td>1.0</td>\n",
       "    </tr>\n",
       "    <tr>\n",
       "      <th>Houston Texans</th>\n",
       "      <td>365.0</td>\n",
       "      <td>574.0</td>\n",
       "      <td>63.6</td>\n",
       "      <td>4144.0</td>\n",
       "      <td>24.0</td>\n",
       "      <td>4.2</td>\n",
       "      <td>12.0</td>\n",
       "      <td>2.1</td>\n",
       "      <td>60.0</td>\n",
       "      <td>7.6</td>\n",
       "      <td>...</td>\n",
       "      <td>0.0</td>\n",
       "      <td>0.0</td>\n",
       "      <td>36.0</td>\n",
       "      <td>1.0</td>\n",
       "      <td>1.0</td>\n",
       "      <td>35.0</td>\n",
       "      <td>35.0</td>\n",
       "      <td>25.0</td>\n",
       "      <td>29.0</td>\n",
       "      <td>0.0</td>\n",
       "    </tr>\n",
       "    <tr>\n",
       "      <th>Tampa Bay Buccaneers</th>\n",
       "      <td>306.0</td>\n",
       "      <td>494.0</td>\n",
       "      <td>61.9</td>\n",
       "      <td>3361.0</td>\n",
       "      <td>26.0</td>\n",
       "      <td>5.3</td>\n",
       "      <td>6.0</td>\n",
       "      <td>1.2</td>\n",
       "      <td>64.0</td>\n",
       "      <td>7.2</td>\n",
       "      <td>...</td>\n",
       "      <td>1.0</td>\n",
       "      <td>0.0</td>\n",
       "      <td>41.0</td>\n",
       "      <td>2.0</td>\n",
       "      <td>5.0</td>\n",
       "      <td>34.0</td>\n",
       "      <td>35.0</td>\n",
       "      <td>27.0</td>\n",
       "      <td>36.0</td>\n",
       "      <td>2.0</td>\n",
       "    </tr>\n",
       "    <tr>\n",
       "      <th>New York Jets</th>\n",
       "      <td>288.0</td>\n",
       "      <td>525.0</td>\n",
       "      <td>54.9</td>\n",
       "      <td>3242.0</td>\n",
       "      <td>20.0</td>\n",
       "      <td>3.8</td>\n",
       "      <td>14.0</td>\n",
       "      <td>2.7</td>\n",
       "      <td>74.0</td>\n",
       "      <td>6.5</td>\n",
       "      <td>...</td>\n",
       "      <td>1.0</td>\n",
       "      <td>1.0</td>\n",
       "      <td>47.0</td>\n",
       "      <td>1.0</td>\n",
       "      <td>2.0</td>\n",
       "      <td>44.0</td>\n",
       "      <td>45.0</td>\n",
       "      <td>27.0</td>\n",
       "      <td>31.0</td>\n",
       "      <td>0.0</td>\n",
       "    </tr>\n",
       "    <tr>\n",
       "      <th>New York Giants</th>\n",
       "      <td>339.0</td>\n",
       "      <td>539.0</td>\n",
       "      <td>62.9</td>\n",
       "      <td>3885.0</td>\n",
       "      <td>31.0</td>\n",
       "      <td>5.8</td>\n",
       "      <td>25.0</td>\n",
       "      <td>4.6</td>\n",
       "      <td>92.0</td>\n",
       "      <td>7.4</td>\n",
       "      <td>...</td>\n",
       "      <td>1.0</td>\n",
       "      <td>0.0</td>\n",
       "      <td>26.0</td>\n",
       "      <td>0.0</td>\n",
       "      <td>1.0</td>\n",
       "      <td>24.0</td>\n",
       "      <td>25.0</td>\n",
       "      <td>34.0</td>\n",
       "      <td>40.0</td>\n",
       "      <td>1.0</td>\n",
       "    </tr>\n",
       "  </tbody>\n",
       "</table>\n",
       "<p>5 rows × 620 columns</p>\n",
       "</div>"
      ],
      "text/plain": [
       "                      Cmp_passing_2010  Att_passing_2010  Cmp%_passing_2010  \\\n",
       "Tm                                                                            \n",
       "Jacksonville Jaguars             291.0             469.0               62.0   \n",
       "Houston Texans                   365.0             574.0               63.6   \n",
       "Tampa Bay Buccaneers             306.0             494.0               61.9   \n",
       "New York Jets                    288.0             525.0               54.9   \n",
       "New York Giants                  339.0             539.0               62.9   \n",
       "\n",
       "                      Yds_passing_2010  TD_passing_2010  TD%_passing_2010  \\\n",
       "Tm                                                                          \n",
       "Jacksonville Jaguars            3065.0             26.0               5.5   \n",
       "Houston Texans                  4144.0             24.0               4.2   \n",
       "Tampa Bay Buccaneers            3361.0             26.0               5.3   \n",
       "New York Jets                   3242.0             20.0               3.8   \n",
       "New York Giants                 3885.0             31.0               5.8   \n",
       "\n",
       "                      Int_passing_2010  Int%_passing_2010  Lng_passing_2010  \\\n",
       "Tm                                                                            \n",
       "Jacksonville Jaguars              21.0                4.5              75.0   \n",
       "Houston Texans                    12.0                2.1              60.0   \n",
       "Tampa Bay Buccaneers               6.0                1.2              64.0   \n",
       "New York Jets                     14.0                2.7              74.0   \n",
       "New York Giants                   25.0                4.6              92.0   \n",
       "\n",
       "                      Y/A_passing_2010          ...            \\\n",
       "Tm                                              ...             \n",
       "Jacksonville Jaguars               7.2          ...             \n",
       "Houston Texans                     7.6          ...             \n",
       "Tampa Bay Buccaneers               7.2          ...             \n",
       "New York Jets                      6.5          ...             \n",
       "New York Giants                    7.4          ...             \n",
       "\n",
       "                      IntTD_scoring_def_2016  OthTD_scoring_def_2016  \\\n",
       "Tm                                                                     \n",
       "Jacksonville Jaguars                     3.0                     0.0   \n",
       "Houston Texans                           0.0                     0.0   \n",
       "Tampa Bay Buccaneers                     1.0                     0.0   \n",
       "New York Jets                            1.0                     1.0   \n",
       "New York Giants                          1.0                     0.0   \n",
       "\n",
       "                      AllTD_scoring_def_2016  2PM_scoring_def_2016  \\\n",
       "Tm                                                                   \n",
       "Jacksonville Jaguars                    41.0                   1.0   \n",
       "Houston Texans                          36.0                   1.0   \n",
       "Tampa Bay Buccaneers                    41.0                   2.0   \n",
       "New York Jets                           47.0                   1.0   \n",
       "New York Giants                         26.0                   0.0   \n",
       "\n",
       "                      2PA_scoring_def_2016  XPM_scoring_def_2016  \\\n",
       "Tm                                                                 \n",
       "Jacksonville Jaguars                   1.0                  36.0   \n",
       "Houston Texans                         1.0                  35.0   \n",
       "Tampa Bay Buccaneers                   5.0                  34.0   \n",
       "New York Jets                          2.0                  44.0   \n",
       "New York Giants                        1.0                  24.0   \n",
       "\n",
       "                      XPA_scoring_def_2016  FGM_scoring_def_2016  \\\n",
       "Tm                                                                 \n",
       "Jacksonville Jaguars                  40.0                  38.0   \n",
       "Houston Texans                        35.0                  25.0   \n",
       "Tampa Bay Buccaneers                  35.0                  27.0   \n",
       "New York Jets                         45.0                  27.0   \n",
       "New York Giants                       25.0                  34.0   \n",
       "\n",
       "                      FGA_scoring_def_2016  Sfty_scoring_def_2016  \n",
       "Tm                                                                 \n",
       "Jacksonville Jaguars                  41.0                    1.0  \n",
       "Houston Texans                        29.0                    0.0  \n",
       "Tampa Bay Buccaneers                  36.0                    2.0  \n",
       "New York Jets                         31.0                    0.0  \n",
       "New York Giants                       40.0                    1.0  \n",
       "\n",
       "[5 rows x 620 columns]"
      ]
     },
     "execution_count": 47,
     "metadata": {},
     "output_type": "execute_result"
    }
   ],
   "source": [
    "df.head()"
   ]
  },
  {
   "cell_type": "code",
   "execution_count": 49,
   "metadata": {},
   "outputs": [],
   "source": [
    "df.to_csv('2010_2016_all.csv')"
   ]
  },
  {
   "cell_type": "code",
   "execution_count": null,
   "metadata": {
    "collapsed": true
   },
   "outputs": [],
   "source": []
  }
 ],
 "metadata": {
  "kernelspec": {
   "display_name": "Python 2",
   "language": "python",
   "name": "python2"
  },
  "language_info": {
   "codemirror_mode": {
    "name": "ipython",
    "version": 2
   },
   "file_extension": ".py",
   "mimetype": "text/x-python",
   "name": "python",
   "nbconvert_exporter": "python",
   "pygments_lexer": "ipython2",
   "version": "2.7.13"
  }
 },
 "nbformat": 4,
 "nbformat_minor": 2
}
