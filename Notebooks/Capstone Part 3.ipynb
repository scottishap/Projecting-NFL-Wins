{
 "cells": [
  {
   "cell_type": "code",
   "execution_count": 1,
   "metadata": {
    "collapsed": true
   },
   "outputs": [],
   "source": [
    "import numpy as np\n",
    "import pandas as pd\n",
    "import matplotlib.pyplot as plt\n",
    "import seaborn as sns\n",
    "%matplotlib inline"
   ]
  },
  {
   "cell_type": "code",
   "execution_count": 328,
   "metadata": {
    "collapsed": true
   },
   "outputs": [],
   "source": [
    "df = pd.read_csv('./2010_2016_all.csv',index_col='Tm')"
   ]
  },
  {
   "cell_type": "code",
   "execution_count": 329,
   "metadata": {},
   "outputs": [
    {
     "data": {
      "text/html": [
       "<div>\n",
       "<style>\n",
       "    .dataframe thead tr:only-child th {\n",
       "        text-align: right;\n",
       "    }\n",
       "\n",
       "    .dataframe thead th {\n",
       "        text-align: left;\n",
       "    }\n",
       "\n",
       "    .dataframe tbody tr th {\n",
       "        vertical-align: top;\n",
       "    }\n",
       "</style>\n",
       "<table border=\"1\" class=\"dataframe\">\n",
       "  <thead>\n",
       "    <tr style=\"text-align: right;\">\n",
       "      <th></th>\n",
       "      <th>Cmp_passing_2010</th>\n",
       "      <th>Att_passing_2010</th>\n",
       "      <th>Cmp%_passing_2010</th>\n",
       "      <th>Yds_passing_2010</th>\n",
       "      <th>TD_passing_2010</th>\n",
       "      <th>TD%_passing_2010</th>\n",
       "      <th>Int_passing_2010</th>\n",
       "      <th>Int%_passing_2010</th>\n",
       "      <th>Lng_passing_2010</th>\n",
       "      <th>Y/A_passing_2010</th>\n",
       "      <th>...</th>\n",
       "      <th>IntTD_scoring_def_2016</th>\n",
       "      <th>OthTD_scoring_def_2016</th>\n",
       "      <th>AllTD_scoring_def_2016</th>\n",
       "      <th>2PM_scoring_def_2016</th>\n",
       "      <th>2PA_scoring_def_2016</th>\n",
       "      <th>XPM_scoring_def_2016</th>\n",
       "      <th>XPA_scoring_def_2016</th>\n",
       "      <th>FGM_scoring_def_2016</th>\n",
       "      <th>FGA_scoring_def_2016</th>\n",
       "      <th>Sfty_scoring_def_2016</th>\n",
       "    </tr>\n",
       "    <tr>\n",
       "      <th>Tm</th>\n",
       "      <th></th>\n",
       "      <th></th>\n",
       "      <th></th>\n",
       "      <th></th>\n",
       "      <th></th>\n",
       "      <th></th>\n",
       "      <th></th>\n",
       "      <th></th>\n",
       "      <th></th>\n",
       "      <th></th>\n",
       "      <th></th>\n",
       "      <th></th>\n",
       "      <th></th>\n",
       "      <th></th>\n",
       "      <th></th>\n",
       "      <th></th>\n",
       "      <th></th>\n",
       "      <th></th>\n",
       "      <th></th>\n",
       "      <th></th>\n",
       "      <th></th>\n",
       "    </tr>\n",
       "  </thead>\n",
       "  <tbody>\n",
       "    <tr>\n",
       "      <th>Jacksonville Jaguars</th>\n",
       "      <td>291.0</td>\n",
       "      <td>469.0</td>\n",
       "      <td>62.0</td>\n",
       "      <td>3065.0</td>\n",
       "      <td>26.0</td>\n",
       "      <td>5.5</td>\n",
       "      <td>21.0</td>\n",
       "      <td>4.5</td>\n",
       "      <td>75.0</td>\n",
       "      <td>7.2</td>\n",
       "      <td>...</td>\n",
       "      <td>3.0</td>\n",
       "      <td>0.0</td>\n",
       "      <td>41.0</td>\n",
       "      <td>1.0</td>\n",
       "      <td>1.0</td>\n",
       "      <td>36.0</td>\n",
       "      <td>40.0</td>\n",
       "      <td>38.0</td>\n",
       "      <td>41.0</td>\n",
       "      <td>1.0</td>\n",
       "    </tr>\n",
       "    <tr>\n",
       "      <th>Houston Texans</th>\n",
       "      <td>365.0</td>\n",
       "      <td>574.0</td>\n",
       "      <td>63.6</td>\n",
       "      <td>4144.0</td>\n",
       "      <td>24.0</td>\n",
       "      <td>4.2</td>\n",
       "      <td>12.0</td>\n",
       "      <td>2.1</td>\n",
       "      <td>60.0</td>\n",
       "      <td>7.6</td>\n",
       "      <td>...</td>\n",
       "      <td>0.0</td>\n",
       "      <td>0.0</td>\n",
       "      <td>36.0</td>\n",
       "      <td>1.0</td>\n",
       "      <td>1.0</td>\n",
       "      <td>35.0</td>\n",
       "      <td>35.0</td>\n",
       "      <td>25.0</td>\n",
       "      <td>29.0</td>\n",
       "      <td>0.0</td>\n",
       "    </tr>\n",
       "    <tr>\n",
       "      <th>Tampa Bay Buccaneers</th>\n",
       "      <td>306.0</td>\n",
       "      <td>494.0</td>\n",
       "      <td>61.9</td>\n",
       "      <td>3361.0</td>\n",
       "      <td>26.0</td>\n",
       "      <td>5.3</td>\n",
       "      <td>6.0</td>\n",
       "      <td>1.2</td>\n",
       "      <td>64.0</td>\n",
       "      <td>7.2</td>\n",
       "      <td>...</td>\n",
       "      <td>1.0</td>\n",
       "      <td>0.0</td>\n",
       "      <td>41.0</td>\n",
       "      <td>2.0</td>\n",
       "      <td>5.0</td>\n",
       "      <td>34.0</td>\n",
       "      <td>35.0</td>\n",
       "      <td>27.0</td>\n",
       "      <td>36.0</td>\n",
       "      <td>2.0</td>\n",
       "    </tr>\n",
       "    <tr>\n",
       "      <th>New York Jets</th>\n",
       "      <td>288.0</td>\n",
       "      <td>525.0</td>\n",
       "      <td>54.9</td>\n",
       "      <td>3242.0</td>\n",
       "      <td>20.0</td>\n",
       "      <td>3.8</td>\n",
       "      <td>14.0</td>\n",
       "      <td>2.7</td>\n",
       "      <td>74.0</td>\n",
       "      <td>6.5</td>\n",
       "      <td>...</td>\n",
       "      <td>1.0</td>\n",
       "      <td>1.0</td>\n",
       "      <td>47.0</td>\n",
       "      <td>1.0</td>\n",
       "      <td>2.0</td>\n",
       "      <td>44.0</td>\n",
       "      <td>45.0</td>\n",
       "      <td>27.0</td>\n",
       "      <td>31.0</td>\n",
       "      <td>0.0</td>\n",
       "    </tr>\n",
       "    <tr>\n",
       "      <th>New York Giants</th>\n",
       "      <td>339.0</td>\n",
       "      <td>539.0</td>\n",
       "      <td>62.9</td>\n",
       "      <td>3885.0</td>\n",
       "      <td>31.0</td>\n",
       "      <td>5.8</td>\n",
       "      <td>25.0</td>\n",
       "      <td>4.6</td>\n",
       "      <td>92.0</td>\n",
       "      <td>7.4</td>\n",
       "      <td>...</td>\n",
       "      <td>1.0</td>\n",
       "      <td>0.0</td>\n",
       "      <td>26.0</td>\n",
       "      <td>0.0</td>\n",
       "      <td>1.0</td>\n",
       "      <td>24.0</td>\n",
       "      <td>25.0</td>\n",
       "      <td>34.0</td>\n",
       "      <td>40.0</td>\n",
       "      <td>1.0</td>\n",
       "    </tr>\n",
       "  </tbody>\n",
       "</table>\n",
       "<p>5 rows × 620 columns</p>\n",
       "</div>"
      ],
      "text/plain": [
       "                      Cmp_passing_2010  Att_passing_2010  Cmp%_passing_2010  \\\n",
       "Tm                                                                            \n",
       "Jacksonville Jaguars             291.0             469.0               62.0   \n",
       "Houston Texans                   365.0             574.0               63.6   \n",
       "Tampa Bay Buccaneers             306.0             494.0               61.9   \n",
       "New York Jets                    288.0             525.0               54.9   \n",
       "New York Giants                  339.0             539.0               62.9   \n",
       "\n",
       "                      Yds_passing_2010  TD_passing_2010  TD%_passing_2010  \\\n",
       "Tm                                                                          \n",
       "Jacksonville Jaguars            3065.0             26.0               5.5   \n",
       "Houston Texans                  4144.0             24.0               4.2   \n",
       "Tampa Bay Buccaneers            3361.0             26.0               5.3   \n",
       "New York Jets                   3242.0             20.0               3.8   \n",
       "New York Giants                 3885.0             31.0               5.8   \n",
       "\n",
       "                      Int_passing_2010  Int%_passing_2010  Lng_passing_2010  \\\n",
       "Tm                                                                            \n",
       "Jacksonville Jaguars              21.0                4.5              75.0   \n",
       "Houston Texans                    12.0                2.1              60.0   \n",
       "Tampa Bay Buccaneers               6.0                1.2              64.0   \n",
       "New York Jets                     14.0                2.7              74.0   \n",
       "New York Giants                   25.0                4.6              92.0   \n",
       "\n",
       "                      Y/A_passing_2010          ...            \\\n",
       "Tm                                              ...             \n",
       "Jacksonville Jaguars               7.2          ...             \n",
       "Houston Texans                     7.6          ...             \n",
       "Tampa Bay Buccaneers               7.2          ...             \n",
       "New York Jets                      6.5          ...             \n",
       "New York Giants                    7.4          ...             \n",
       "\n",
       "                      IntTD_scoring_def_2016  OthTD_scoring_def_2016  \\\n",
       "Tm                                                                     \n",
       "Jacksonville Jaguars                     3.0                     0.0   \n",
       "Houston Texans                           0.0                     0.0   \n",
       "Tampa Bay Buccaneers                     1.0                     0.0   \n",
       "New York Jets                            1.0                     1.0   \n",
       "New York Giants                          1.0                     0.0   \n",
       "\n",
       "                      AllTD_scoring_def_2016  2PM_scoring_def_2016  \\\n",
       "Tm                                                                   \n",
       "Jacksonville Jaguars                    41.0                   1.0   \n",
       "Houston Texans                          36.0                   1.0   \n",
       "Tampa Bay Buccaneers                    41.0                   2.0   \n",
       "New York Jets                           47.0                   1.0   \n",
       "New York Giants                         26.0                   0.0   \n",
       "\n",
       "                      2PA_scoring_def_2016  XPM_scoring_def_2016  \\\n",
       "Tm                                                                 \n",
       "Jacksonville Jaguars                   1.0                  36.0   \n",
       "Houston Texans                         1.0                  35.0   \n",
       "Tampa Bay Buccaneers                   5.0                  34.0   \n",
       "New York Jets                          2.0                  44.0   \n",
       "New York Giants                        1.0                  24.0   \n",
       "\n",
       "                      XPA_scoring_def_2016  FGM_scoring_def_2016  \\\n",
       "Tm                                                                 \n",
       "Jacksonville Jaguars                  40.0                  38.0   \n",
       "Houston Texans                        35.0                  25.0   \n",
       "Tampa Bay Buccaneers                  35.0                  27.0   \n",
       "New York Jets                         45.0                  27.0   \n",
       "New York Giants                       25.0                  34.0   \n",
       "\n",
       "                      FGA_scoring_def_2016  Sfty_scoring_def_2016  \n",
       "Tm                                                                 \n",
       "Jacksonville Jaguars                  41.0                    1.0  \n",
       "Houston Texans                        29.0                    0.0  \n",
       "Tampa Bay Buccaneers                  36.0                    2.0  \n",
       "New York Jets                         31.0                    0.0  \n",
       "New York Giants                       40.0                    1.0  \n",
       "\n",
       "[5 rows x 620 columns]"
      ]
     },
     "execution_count": 329,
     "metadata": {},
     "output_type": "execute_result"
    }
   ],
   "source": [
    "df.head()"
   ]
  },
  {
   "cell_type": "code",
   "execution_count": 339,
   "metadata": {
    "collapsed": true
   },
   "outputs": [],
   "source": [
    "df.drop([i for i in df.columns if 'Lng' in i],axis=1,inplace=True)"
   ]
  },
  {
   "cell_type": "code",
   "execution_count": 340,
   "metadata": {},
   "outputs": [
    {
     "data": {
      "text/plain": [
       "(32, 536)"
      ]
     },
     "execution_count": 340,
     "metadata": {},
     "output_type": "execute_result"
    }
   ],
   "source": [
    "df.shape"
   ]
  },
  {
   "cell_type": "code",
   "execution_count": 341,
   "metadata": {
    "collapsed": true
   },
   "outputs": [],
   "source": [
    "df.drop([i for i in df.columns if '%' in i],axis=1,inplace=True)"
   ]
  },
  {
   "cell_type": "code",
   "execution_count": 342,
   "metadata": {},
   "outputs": [
    {
     "data": {
      "text/plain": [
       "(32, 536)"
      ]
     },
     "execution_count": 342,
     "metadata": {},
     "output_type": "execute_result"
    }
   ],
   "source": [
    "df.shape"
   ]
  },
  {
   "cell_type": "code",
   "execution_count": 29,
   "metadata": {
    "collapsed": true
   },
   "outputs": [],
   "source": [
    "#df.drop([i for i in df.columns if 'ANY/A_passing' in i],axis=1,inplace=True)"
   ]
  },
  {
   "cell_type": "code",
   "execution_count": 30,
   "metadata": {
    "collapsed": true
   },
   "outputs": [],
   "source": [
    "#df.drop([i for i in df.columns if 'TD%' in i],axis=1,inplace=True)"
   ]
  },
  {
   "cell_type": "code",
   "execution_count": 36,
   "metadata": {
    "collapsed": true
   },
   "outputs": [],
   "source": [
    "#df.drop([i for i in df.columns if 'Int%' in i],axis=1,inplace=True)"
   ]
  },
  {
   "cell_type": "code",
   "execution_count": 32,
   "metadata": {
    "collapsed": true
   },
   "outputs": [],
   "source": [
    "#df.drop([i for i in df.columns if 'NY/A_passing' in i],axis=1,inplace=True)"
   ]
  },
  {
   "cell_type": "code",
   "execution_count": 33,
   "metadata": {
    "collapsed": true
   },
   "outputs": [],
   "source": [
    "#df.drop([i for i in df.columns if 'Y/A_passing' in i],axis=1,inplace=True)"
   ]
  },
  {
   "cell_type": "code",
   "execution_count": 35,
   "metadata": {
    "collapsed": true
   },
   "outputs": [],
   "source": [
    "#df.drop([i for i in df.columns if 'Rate_passing' in i],axis=1,inplace=True)"
   ]
  },
  {
   "cell_type": "code",
   "execution_count": 37,
   "metadata": {
    "collapsed": true
   },
   "outputs": [],
   "source": [
    "#df.drop([i for i in df.columns if 'Sk%' in i],axis=1,inplace=True)"
   ]
  },
  {
   "cell_type": "code",
   "execution_count": 39,
   "metadata": {
    "collapsed": true
   },
   "outputs": [],
   "source": [
    "#df.drop([i for i in df.columns if 'Cmp%' in i],axis=1,inplace=True)"
   ]
  },
  {
   "cell_type": "code",
   "execution_count": 41,
   "metadata": {
    "collapsed": true
   },
   "outputs": [],
   "source": [
    "#df.drop([i for i in df.columns if 'Y/C_p' in i],axis=1,inplace=True)"
   ]
  },
  {
   "cell_type": "code",
   "execution_count": 103,
   "metadata": {},
   "outputs": [
    {
     "data": {
      "text/plain": [
       "<matplotlib.axes._subplots.AxesSubplot at 0x1339fbc50>"
      ]
     },
     "execution_count": 103,
     "metadata": {},
     "output_type": "execute_result"
    },
    {
     "data": {
      "image/png": "[encoded data removed]",
      "text/plain": [
       "<matplotlib.figure.Figure at 0x133a274d0>"
      ]
     },
     "metadata": {},
     "output_type": "display_data"
    }
   ],
   "source": [
    "sns.heatmap(df[[i for i in df.columns if '_rushing_2010' in i]].corr()**2)"
   ]
  },
  {
   "cell_type": "code",
   "execution_count": null,
   "metadata": {
    "collapsed": true
   },
   "outputs": [],
   "source": [
    "#df.drop([i for i in df.columns if 'Y/A' in i],axis=1,inplace=True)"
   ]
  },
  {
   "cell_type": "code",
   "execution_count": 104,
   "metadata": {},
   "outputs": [
    {
     "data": {
      "text/plain": [
       "<matplotlib.axes._subplots.AxesSubplot at 0x133c33590>"
      ]
     },
     "execution_count": 104,
     "metadata": {},
     "output_type": "execute_result"
    },
    {
     "data": {
      "image/png": "[encoded data removed]",
      "text/plain": [
       "<matplotlib.figure.Figure at 0x133b27550>"
      ]
     },
     "metadata": {},
     "output_type": "display_data"
    }
   ],
   "source": [
    "sns.heatmap(df[[i for i in df.columns if '_scoring_2010' in i]].corr()**2)"
   ]
  },
  {
   "cell_type": "code",
   "execution_count": 27,
   "metadata": {},
   "outputs": [
    {
     "data": {
      "text/plain": [
       "<matplotlib.axes._subplots.AxesSubplot at 0x12e9e6b90>"
      ]
     },
     "execution_count": 27,
     "metadata": {},
     "output_type": "execute_result"
    },
    {
     "data": {
      "image/png": "[encoded data removed]",
      "text/plain": [
       "<matplotlib.figure.Figure at 0x12ea11690>"
      ]
     },
     "metadata": {},
     "output_type": "display_data"
    }
   ],
   "source": [
    "sns.heatmap(df[[i for i in df.columns if '_rush_def_2010' in i]].corr()**2)"
   ]
  },
  {
   "cell_type": "code",
   "execution_count": 107,
   "metadata": {},
   "outputs": [
    {
     "data": {
      "text/plain": [
       "<matplotlib.axes._subplots.AxesSubplot at 0x1340077d0>"
      ]
     },
     "execution_count": 107,
     "metadata": {},
     "output_type": "execute_result"
    },
    {
     "data": {
      "image/png": "[encoded data removed]",
      "text/plain": [
       "<matplotlib.figure.Figure at 0x133dcd290>"
      ]
     },
     "metadata": {},
     "output_type": "display_data"
    }
   ],
   "source": [
    "sns.heatmap(df[[i for i in df.columns if '_standings_2010' in i]].corr()**2)"
   ]
  },
  {
   "cell_type": "code",
   "execution_count": 115,
   "metadata": {
    "collapsed": true
   },
   "outputs": [],
   "source": [
    "from sklearn.decomposition import PCA\n",
    "from sklearn.preprocessing import StandardScaler"
   ]
  },
  {
   "cell_type": "code",
   "execution_count": 334,
   "metadata": {
    "collapsed": true
   },
   "outputs": [],
   "source": [
    "df.drop([i for i in df.columns if 'L_standings' in i],axis=1,inplace=True)"
   ]
  },
  {
   "cell_type": "code",
   "execution_count": 335,
   "metadata": {
    "collapsed": true
   },
   "outputs": [],
   "source": [
    "df.drop([i for i in df.columns if 'T_standings' in i],axis=1,inplace=True)"
   ]
  },
  {
   "cell_type": "code",
   "execution_count": 361,
   "metadata": {
    "collapsed": true
   },
   "outputs": [],
   "source": [
    "df.drop([i for i in df.columns if 'PF_standings' in i],axis=1,inplace=True)"
   ]
  },
  {
   "cell_type": "code",
   "execution_count": 180,
   "metadata": {
    "collapsed": true
   },
   "outputs": [],
   "source": [
    "#df.drop([i for i in df.columns if 'PA_standings' in i],axis=1,inplace=True)"
   ]
  },
  {
   "cell_type": "code",
   "execution_count": 391,
   "metadata": {
    "collapsed": true
   },
   "outputs": [],
   "source": [
    "df.drop([i for i in df.columns if 'EXP' in i],axis=1,inplace=True)"
   ]
  },
  {
   "cell_type": "code",
   "execution_count": 402,
   "metadata": {
    "collapsed": true
   },
   "outputs": [],
   "source": [
    "df.drop([i for i in df.columns if 'RshTD_scoring_def_2012' in i],axis=1,inplace=True)"
   ]
  },
  {
   "cell_type": "code",
   "execution_count": 336,
   "metadata": {
    "collapsed": true
   },
   "outputs": [],
   "source": [
    "rush_def_2012 = pd.read_csv('./2012_rush_def.csv',index_col='Tm').add_suffix('_rush_def_2012')"
   ]
  },
  {
   "cell_type": "code",
   "execution_count": 337,
   "metadata": {
    "collapsed": true
   },
   "outputs": [],
   "source": [
    "df = pd.merge(df,rush_def_2012,left_index=True,right_index=True)"
   ]
  },
  {
   "cell_type": "code",
   "execution_count": 392,
   "metadata": {},
   "outputs": [
    {
     "data": {
      "text/plain": [
       "(32, 505)"
      ]
     },
     "execution_count": 392,
     "metadata": {},
     "output_type": "execute_result"
    }
   ],
   "source": [
    "df.shape"
   ]
  },
  {
   "cell_type": "code",
   "execution_count": 393,
   "metadata": {
    "collapsed": true
   },
   "outputs": [],
   "source": [
    "stats_2010 = df[[i for i in df.columns if ('_2010' in i)]]"
   ]
  },
  {
   "cell_type": "code",
   "execution_count": 415,
   "metadata": {},
   "outputs": [],
   "source": [
    "cols_2010 = stats_2010.columns.sort_values()"
   ]
  },
  {
   "cell_type": "code",
   "execution_count": 416,
   "metadata": {},
   "outputs": [],
   "source": [
    "cols_2011 = df[[i for i in df.columns if ('_2011' in i)]].columns.sort_values()"
   ]
  },
  {
   "cell_type": "code",
   "execution_count": 417,
   "metadata": {},
   "outputs": [],
   "source": [
    "cols_2012 = df[[i for i in df.columns if ('_2012' in i)]].columns.sort_values()"
   ]
  },
  {
   "cell_type": "code",
   "execution_count": 418,
   "metadata": {},
   "outputs": [],
   "source": [
    "cols_2013 = df[[i for i in df.columns if ('_2013' in i)]].columns.sort_values()"
   ]
  },
  {
   "cell_type": "code",
   "execution_count": 419,
   "metadata": {},
   "outputs": [],
   "source": [
    "cols_2014 = df[[i for i in df.columns if ('_2014' in i)]].columns.sort_values()"
   ]
  },
  {
   "cell_type": "code",
   "execution_count": 420,
   "metadata": {},
   "outputs": [],
   "source": [
    "cols_2015 = df[[i for i in df.columns if ('_2015' in i)]].columns.sort_values()"
   ]
  },
  {
   "cell_type": "code",
   "execution_count": 421,
   "metadata": {},
   "outputs": [],
   "source": [
    "cols_2016 = df[[i for i in df.columns if ('_2016' in i)]].columns.sort_values()"
   ]
  },
  {
   "cell_type": "code",
   "execution_count": 422,
   "metadata": {},
   "outputs": [
    {
     "data": {
      "text/html": [
       "<div>\n",
       "<style>\n",
       "    .dataframe thead tr:only-child th {\n",
       "        text-align: right;\n",
       "    }\n",
       "\n",
       "    .dataframe thead th {\n",
       "        text-align: left;\n",
       "    }\n",
       "\n",
       "    .dataframe tbody tr th {\n",
       "        vertical-align: top;\n",
       "    }\n",
       "</style>\n",
       "<table border=\"1\" class=\"dataframe\">\n",
       "  <thead>\n",
       "    <tr style=\"text-align: right;\">\n",
       "      <th></th>\n",
       "      <th>0</th>\n",
       "      <th>1</th>\n",
       "      <th>2</th>\n",
       "      <th>3</th>\n",
       "      <th>4</th>\n",
       "      <th>5</th>\n",
       "      <th>6</th>\n",
       "    </tr>\n",
       "  </thead>\n",
       "  <tbody>\n",
       "    <tr>\n",
       "      <th>0</th>\n",
       "      <td>2PA_scoring_2010</td>\n",
       "      <td>2PA_scoring_2011</td>\n",
       "      <td>2PA_scoring_2012</td>\n",
       "      <td>2PA_scoring_2013</td>\n",
       "      <td>2PA_scoring_2014</td>\n",
       "      <td>2PA_scoring_2015</td>\n",
       "      <td>2PA_scoring_2016</td>\n",
       "    </tr>\n",
       "    <tr>\n",
       "      <th>1</th>\n",
       "      <td>2PA_scoring_def_2010</td>\n",
       "      <td>2PA_scoring_def_2011</td>\n",
       "      <td>2PA_scoring_def_2012</td>\n",
       "      <td>2PA_scoring_def_2013</td>\n",
       "      <td>2PA_scoring_def_2014</td>\n",
       "      <td>2PA_scoring_def_2015</td>\n",
       "      <td>2PA_scoring_def_2016</td>\n",
       "    </tr>\n",
       "    <tr>\n",
       "      <th>2</th>\n",
       "      <td>2PM_scoring_2010</td>\n",
       "      <td>2PM_scoring_2011</td>\n",
       "      <td>2PM_scoring_2012</td>\n",
       "      <td>2PM_scoring_2013</td>\n",
       "      <td>2PM_scoring_2014</td>\n",
       "      <td>2PM_scoring_2015</td>\n",
       "      <td>2PM_scoring_2016</td>\n",
       "    </tr>\n",
       "    <tr>\n",
       "      <th>3</th>\n",
       "      <td>2PM_scoring_def_2010</td>\n",
       "      <td>2PM_scoring_def_2011</td>\n",
       "      <td>2PM_scoring_def_2012</td>\n",
       "      <td>2PM_scoring_def_2013</td>\n",
       "      <td>2PM_scoring_def_2014</td>\n",
       "      <td>2PM_scoring_def_2015</td>\n",
       "      <td>2PM_scoring_def_2016</td>\n",
       "    </tr>\n",
       "    <tr>\n",
       "      <th>4</th>\n",
       "      <td>4QC_passing_2010</td>\n",
       "      <td>4QC_passing_2011</td>\n",
       "      <td>4QC_passing_2012</td>\n",
       "      <td>4QC_passing_2013</td>\n",
       "      <td>4QC_passing_2014</td>\n",
       "      <td>4QC_passing_2015</td>\n",
       "      <td>4QC_passing_2016</td>\n",
       "    </tr>\n",
       "    <tr>\n",
       "      <th>5</th>\n",
       "      <td>ANY/A_pass_def_2010</td>\n",
       "      <td>ANY/A_pass_def_2011</td>\n",
       "      <td>ANY/A_pass_def_2012</td>\n",
       "      <td>ANY/A_pass_def_2013</td>\n",
       "      <td>ANY/A_pass_def_2014</td>\n",
       "      <td>ANY/A_pass_def_2015</td>\n",
       "      <td>ANY/A_pass_def_2016</td>\n",
       "    </tr>\n",
       "    <tr>\n",
       "      <th>6</th>\n",
       "      <td>ANY/A_passing_2010</td>\n",
       "      <td>ANY/A_passing_2011</td>\n",
       "      <td>ANY/A_passing_2012</td>\n",
       "      <td>ANY/A_passing_2013</td>\n",
       "      <td>ANY/A_passing_2014</td>\n",
       "      <td>ANY/A_passing_2015</td>\n",
       "      <td>ANY/A_passing_2016</td>\n",
       "    </tr>\n",
       "    <tr>\n",
       "      <th>7</th>\n",
       "      <td>AY/A_pass_def_2010</td>\n",
       "      <td>AY/A_pass_def_2011</td>\n",
       "      <td>AY/A_pass_def_2012</td>\n",
       "      <td>AY/A_pass_def_2013</td>\n",
       "      <td>AY/A_pass_def_2014</td>\n",
       "      <td>AY/A_pass_def_2015</td>\n",
       "      <td>AY/A_pass_def_2016</td>\n",
       "    </tr>\n",
       "    <tr>\n",
       "      <th>8</th>\n",
       "      <td>AY/A_passing_2010</td>\n",
       "      <td>AY/A_passing_2011</td>\n",
       "      <td>AY/A_passing_2012</td>\n",
       "      <td>AY/A_passing_2013</td>\n",
       "      <td>AY/A_passing_2014</td>\n",
       "      <td>AY/A_passing_2015</td>\n",
       "      <td>AY/A_passing_2016</td>\n",
       "    </tr>\n",
       "    <tr>\n",
       "      <th>9</th>\n",
       "      <td>AllTD_scoring_2010</td>\n",
       "      <td>AllTD_scoring_2011</td>\n",
       "      <td>AllTD_scoring_2012</td>\n",
       "      <td>AllTD_scoring_2013</td>\n",
       "      <td>AllTD_scoring_2014</td>\n",
       "      <td>AllTD_scoring_2015</td>\n",
       "      <td>AllTD_scoring_2016</td>\n",
       "    </tr>\n",
       "    <tr>\n",
       "      <th>10</th>\n",
       "      <td>AllTD_scoring_def_2010</td>\n",
       "      <td>AllTD_scoring_def_2011</td>\n",
       "      <td>AllTD_scoring_def_2012</td>\n",
       "      <td>AllTD_scoring_def_2013</td>\n",
       "      <td>AllTD_scoring_def_2014</td>\n",
       "      <td>AllTD_scoring_def_2015</td>\n",
       "      <td>AllTD_scoring_def_2016</td>\n",
       "    </tr>\n",
       "    <tr>\n",
       "      <th>11</th>\n",
       "      <td>Att_pass_def_2010</td>\n",
       "      <td>Att_pass_def_2011</td>\n",
       "      <td>Att_pass_def_2012</td>\n",
       "      <td>Att_pass_def_2013</td>\n",
       "      <td>Att_pass_def_2014</td>\n",
       "      <td>Att_pass_def_2015</td>\n",
       "      <td>Att_pass_def_2016</td>\n",
       "    </tr>\n",
       "    <tr>\n",
       "      <th>12</th>\n",
       "      <td>Att_passing_2010</td>\n",
       "      <td>Att_passing_2011</td>\n",
       "      <td>Att_passing_2012</td>\n",
       "      <td>Att_passing_2013</td>\n",
       "      <td>Att_passing_2014</td>\n",
       "      <td>Att_passing_2015</td>\n",
       "      <td>Att_passing_2016</td>\n",
       "    </tr>\n",
       "    <tr>\n",
       "      <th>13</th>\n",
       "      <td>Att_rush_def_2010</td>\n",
       "      <td>Att_rush_def_2011</td>\n",
       "      <td>Att_rush_def_2012</td>\n",
       "      <td>Att_rush_def_2013</td>\n",
       "      <td>Att_rush_def_2014</td>\n",
       "      <td>Att_rush_def_2015</td>\n",
       "      <td>Att_rush_def_2016</td>\n",
       "    </tr>\n",
       "    <tr>\n",
       "      <th>14</th>\n",
       "      <td>Att_rushing_2010</td>\n",
       "      <td>Att_rushing_2011</td>\n",
       "      <td>Att_rushing_2012</td>\n",
       "      <td>Att_rushing_2013</td>\n",
       "      <td>Att_rushing_2014</td>\n",
       "      <td>Att_rushing_2015</td>\n",
       "      <td>Att_rushing_2016</td>\n",
       "    </tr>\n",
       "    <tr>\n",
       "      <th>15</th>\n",
       "      <td>Cmp_pass_def_2010</td>\n",
       "      <td>Cmp_pass_def_2011</td>\n",
       "      <td>Cmp_pass_def_2012</td>\n",
       "      <td>Cmp_pass_def_2013</td>\n",
       "      <td>Cmp_pass_def_2014</td>\n",
       "      <td>Cmp_pass_def_2015</td>\n",
       "      <td>Cmp_pass_def_2016</td>\n",
       "    </tr>\n",
       "    <tr>\n",
       "      <th>16</th>\n",
       "      <td>Cmp_passing_2010</td>\n",
       "      <td>Cmp_passing_2011</td>\n",
       "      <td>Cmp_passing_2012</td>\n",
       "      <td>Cmp_passing_2013</td>\n",
       "      <td>Cmp_passing_2014</td>\n",
       "      <td>Cmp_passing_2015</td>\n",
       "      <td>Cmp_passing_2016</td>\n",
       "    </tr>\n",
       "    <tr>\n",
       "      <th>17</th>\n",
       "      <td>DSRS_standings_2010</td>\n",
       "      <td>DSRS_standings_2011</td>\n",
       "      <td>DSRS_standings_2012</td>\n",
       "      <td>DSRS_standings_2013</td>\n",
       "      <td>DSRS_standings_2014</td>\n",
       "      <td>DSRS_standings_2015</td>\n",
       "      <td>DSRS_standings_2016</td>\n",
       "    </tr>\n",
       "    <tr>\n",
       "      <th>18</th>\n",
       "      <td>FGA_scoring_2010</td>\n",
       "      <td>FGA_scoring_2011</td>\n",
       "      <td>FGA_scoring_2012</td>\n",
       "      <td>FGA_scoring_2013</td>\n",
       "      <td>FGA_scoring_2014</td>\n",
       "      <td>FGA_scoring_2015</td>\n",
       "      <td>FGA_scoring_2016</td>\n",
       "    </tr>\n",
       "    <tr>\n",
       "      <th>19</th>\n",
       "      <td>FGA_scoring_def_2010</td>\n",
       "      <td>FGA_scoring_def_2011</td>\n",
       "      <td>FGA_scoring_def_2012</td>\n",
       "      <td>FGA_scoring_def_2013</td>\n",
       "      <td>FGA_scoring_def_2014</td>\n",
       "      <td>FGA_scoring_def_2015</td>\n",
       "      <td>FGA_scoring_def_2016</td>\n",
       "    </tr>\n",
       "    <tr>\n",
       "      <th>20</th>\n",
       "      <td>FGM_scoring_2010</td>\n",
       "      <td>FGM_scoring_2011</td>\n",
       "      <td>FGM_scoring_2012</td>\n",
       "      <td>FGM_scoring_2013</td>\n",
       "      <td>FGM_scoring_2014</td>\n",
       "      <td>FGM_scoring_2015</td>\n",
       "      <td>FGM_scoring_2016</td>\n",
       "    </tr>\n",
       "    <tr>\n",
       "      <th>21</th>\n",
       "      <td>FGM_scoring_def_2010</td>\n",
       "      <td>FGM_scoring_def_2011</td>\n",
       "      <td>FGM_scoring_def_2012</td>\n",
       "      <td>FGM_scoring_def_2013</td>\n",
       "      <td>FGM_scoring_def_2014</td>\n",
       "      <td>FGM_scoring_def_2015</td>\n",
       "      <td>FGM_scoring_def_2016</td>\n",
       "    </tr>\n",
       "    <tr>\n",
       "      <th>22</th>\n",
       "      <td>FblTD_scoring_2010</td>\n",
       "      <td>FblTD_scoring_2011</td>\n",
       "      <td>FblTD_scoring_2012</td>\n",
       "      <td>FblTD_scoring_2013</td>\n",
       "      <td>FblTD_scoring_2014</td>\n",
       "      <td>FblTD_scoring_2015</td>\n",
       "      <td>FblTD_scoring_2016</td>\n",
       "    </tr>\n",
       "    <tr>\n",
       "      <th>23</th>\n",
       "      <td>FblTD_scoring_def_2010</td>\n",
       "      <td>FblTD_scoring_def_2011</td>\n",
       "      <td>FblTD_scoring_def_2012</td>\n",
       "      <td>FblTD_scoring_def_2013</td>\n",
       "      <td>FblTD_scoring_def_2014</td>\n",
       "      <td>FblTD_scoring_def_2015</td>\n",
       "      <td>FblTD_scoring_def_2016</td>\n",
       "    </tr>\n",
       "    <tr>\n",
       "      <th>24</th>\n",
       "      <td>Fmb_rushing_2010</td>\n",
       "      <td>Fmb_rushing_2011</td>\n",
       "      <td>Fmb_rushing_2012</td>\n",
       "      <td>Fmb_rushing_2013</td>\n",
       "      <td>Fmb_rushing_2014</td>\n",
       "      <td>Fmb_rushing_2015</td>\n",
       "      <td>Fmb_rushing_2016</td>\n",
       "    </tr>\n",
       "    <tr>\n",
       "      <th>25</th>\n",
       "      <td>GWD_passing_2010</td>\n",
       "      <td>GWD_passing_2011</td>\n",
       "      <td>GWD_passing_2012</td>\n",
       "      <td>GWD_passing_2013</td>\n",
       "      <td>GWD_passing_2014</td>\n",
       "      <td>GWD_passing_2015</td>\n",
       "      <td>GWD_passing_2016</td>\n",
       "    </tr>\n",
       "    <tr>\n",
       "      <th>26</th>\n",
       "      <td>IntTD_scoring_2010</td>\n",
       "      <td>IntTD_scoring_2011</td>\n",
       "      <td>IntTD_scoring_2012</td>\n",
       "      <td>IntTD_scoring_2013</td>\n",
       "      <td>IntTD_scoring_2014</td>\n",
       "      <td>IntTD_scoring_2015</td>\n",
       "      <td>IntTD_scoring_2016</td>\n",
       "    </tr>\n",
       "    <tr>\n",
       "      <th>27</th>\n",
       "      <td>IntTD_scoring_def_2010</td>\n",
       "      <td>IntTD_scoring_def_2011</td>\n",
       "      <td>IntTD_scoring_def_2012</td>\n",
       "      <td>IntTD_scoring_def_2013</td>\n",
       "      <td>IntTD_scoring_def_2014</td>\n",
       "      <td>IntTD_scoring_def_2015</td>\n",
       "      <td>IntTD_scoring_def_2016</td>\n",
       "    </tr>\n",
       "    <tr>\n",
       "      <th>28</th>\n",
       "      <td>Int_pass_def_2010</td>\n",
       "      <td>Int_pass_def_2011</td>\n",
       "      <td>Int_pass_def_2012</td>\n",
       "      <td>Int_pass_def_2013</td>\n",
       "      <td>Int_pass_def_2014</td>\n",
       "      <td>Int_pass_def_2015</td>\n",
       "      <td>Int_pass_def_2016</td>\n",
       "    </tr>\n",
       "    <tr>\n",
       "      <th>29</th>\n",
       "      <td>Int_passing_2010</td>\n",
       "      <td>Int_passing_2011</td>\n",
       "      <td>Int_passing_2012</td>\n",
       "      <td>Int_passing_2013</td>\n",
       "      <td>Int_passing_2014</td>\n",
       "      <td>Int_passing_2015</td>\n",
       "      <td>Int_passing_2016</td>\n",
       "    </tr>\n",
       "    <tr>\n",
       "      <th>...</th>\n",
       "      <td>...</td>\n",
       "      <td>...</td>\n",
       "      <td>...</td>\n",
       "      <td>...</td>\n",
       "      <td>...</td>\n",
       "      <td>...</td>\n",
       "      <td>...</td>\n",
       "    </tr>\n",
       "    <tr>\n",
       "      <th>42</th>\n",
       "      <td>Pts_scoring_2010</td>\n",
       "      <td>Pts_scoring_2011</td>\n",
       "      <td>Pts_scoring_2012</td>\n",
       "      <td>Pts_scoring_2013</td>\n",
       "      <td>Pts_scoring_2014</td>\n",
       "      <td>Pts_scoring_2015</td>\n",
       "      <td>Pts_scoring_2016</td>\n",
       "    </tr>\n",
       "    <tr>\n",
       "      <th>43</th>\n",
       "      <td>Rate_pass_def_2010</td>\n",
       "      <td>Rate_pass_def_2011</td>\n",
       "      <td>Rate_pass_def_2012</td>\n",
       "      <td>Rate_pass_def_2013</td>\n",
       "      <td>Rate_pass_def_2014</td>\n",
       "      <td>Rate_pass_def_2015</td>\n",
       "      <td>Rate_pass_def_2016</td>\n",
       "    </tr>\n",
       "    <tr>\n",
       "      <th>44</th>\n",
       "      <td>Rate_passing_2010</td>\n",
       "      <td>Rate_passing_2011</td>\n",
       "      <td>Rate_passing_2012</td>\n",
       "      <td>Rate_passing_2013</td>\n",
       "      <td>Rate_passing_2014</td>\n",
       "      <td>Rate_passing_2015</td>\n",
       "      <td>Rate_passing_2016</td>\n",
       "    </tr>\n",
       "    <tr>\n",
       "      <th>45</th>\n",
       "      <td>SRS_standings_2010</td>\n",
       "      <td>SRS_standings_2011</td>\n",
       "      <td>SRS_standings_2012</td>\n",
       "      <td>SRS_standings_2013</td>\n",
       "      <td>SRS_standings_2014</td>\n",
       "      <td>SRS_standings_2015</td>\n",
       "      <td>SRS_standings_2016</td>\n",
       "    </tr>\n",
       "    <tr>\n",
       "      <th>46</th>\n",
       "      <td>Sack_Yds_pass_def_2010</td>\n",
       "      <td>Sack_Yds_pass_def_2011</td>\n",
       "      <td>Sack_Yds_pass_def_2012</td>\n",
       "      <td>Sack_Yds_pass_def_2013</td>\n",
       "      <td>Sack_Yds_pass_def_2014</td>\n",
       "      <td>Sack_Yds_pass_def_2015</td>\n",
       "      <td>Sack_Yds_pass_def_2016</td>\n",
       "    </tr>\n",
       "    <tr>\n",
       "      <th>47</th>\n",
       "      <td>Sack_Yds_passing_2010</td>\n",
       "      <td>Sack_Yds_passing_2011</td>\n",
       "      <td>Sack_Yds_passing_2012</td>\n",
       "      <td>Sack_Yds_passing_2013</td>\n",
       "      <td>Sack_Yds_passing_2014</td>\n",
       "      <td>Sack_Yds_passing_2015</td>\n",
       "      <td>Sack_Yds_passing_2016</td>\n",
       "    </tr>\n",
       "    <tr>\n",
       "      <th>48</th>\n",
       "      <td>Sfty_scoring_2010</td>\n",
       "      <td>Sfty_scoring_2011</td>\n",
       "      <td>Sfty_scoring_2012</td>\n",
       "      <td>Sfty_scoring_2013</td>\n",
       "      <td>Sfty_scoring_2014</td>\n",
       "      <td>Sfty_scoring_2015</td>\n",
       "      <td>Sfty_scoring_2016</td>\n",
       "    </tr>\n",
       "    <tr>\n",
       "      <th>49</th>\n",
       "      <td>Sfty_scoring_def_2010</td>\n",
       "      <td>Sfty_scoring_def_2011</td>\n",
       "      <td>Sfty_scoring_def_2012</td>\n",
       "      <td>Sfty_scoring_def_2013</td>\n",
       "      <td>Sfty_scoring_def_2014</td>\n",
       "      <td>Sfty_scoring_def_2015</td>\n",
       "      <td>Sfty_scoring_def_2016</td>\n",
       "    </tr>\n",
       "    <tr>\n",
       "      <th>50</th>\n",
       "      <td>Sk_pass_def_2010</td>\n",
       "      <td>Sk_pass_def_2011</td>\n",
       "      <td>Sk_pass_def_2012</td>\n",
       "      <td>Sk_pass_def_2013</td>\n",
       "      <td>Sk_pass_def_2014</td>\n",
       "      <td>Sk_pass_def_2015</td>\n",
       "      <td>Sk_pass_def_2016</td>\n",
       "    </tr>\n",
       "    <tr>\n",
       "      <th>51</th>\n",
       "      <td>Sk_passing_2010</td>\n",
       "      <td>Sk_passing_2011</td>\n",
       "      <td>Sk_passing_2012</td>\n",
       "      <td>Sk_passing_2013</td>\n",
       "      <td>Sk_passing_2014</td>\n",
       "      <td>Sk_passing_2015</td>\n",
       "      <td>Sk_passing_2016</td>\n",
       "    </tr>\n",
       "    <tr>\n",
       "      <th>52</th>\n",
       "      <td>SoS_standings_2010</td>\n",
       "      <td>SoS_standings_2011</td>\n",
       "      <td>SoS_standings_2012</td>\n",
       "      <td>SoS_standings_2013</td>\n",
       "      <td>SoS_standings_2014</td>\n",
       "      <td>SoS_standings_2015</td>\n",
       "      <td>SoS_standings_2016</td>\n",
       "    </tr>\n",
       "    <tr>\n",
       "      <th>53</th>\n",
       "      <td>TD_pass_def_2010</td>\n",
       "      <td>TD_pass_def_2011</td>\n",
       "      <td>TD_pass_def_2012</td>\n",
       "      <td>TD_pass_def_2013</td>\n",
       "      <td>TD_pass_def_2014</td>\n",
       "      <td>TD_pass_def_2015</td>\n",
       "      <td>TD_pass_def_2016</td>\n",
       "    </tr>\n",
       "    <tr>\n",
       "      <th>54</th>\n",
       "      <td>TD_passing_2010</td>\n",
       "      <td>TD_passing_2011</td>\n",
       "      <td>TD_passing_2012</td>\n",
       "      <td>TD_passing_2013</td>\n",
       "      <td>TD_passing_2014</td>\n",
       "      <td>TD_passing_2015</td>\n",
       "      <td>TD_passing_2016</td>\n",
       "    </tr>\n",
       "    <tr>\n",
       "      <th>55</th>\n",
       "      <td>TD_rush_def_2010</td>\n",
       "      <td>TD_rush_def_2011</td>\n",
       "      <td>TD_rush_def_2012</td>\n",
       "      <td>TD_rush_def_2013</td>\n",
       "      <td>TD_rush_def_2014</td>\n",
       "      <td>TD_rush_def_2015</td>\n",
       "      <td>TD_rush_def_2016</td>\n",
       "    </tr>\n",
       "    <tr>\n",
       "      <th>56</th>\n",
       "      <td>TD_rushing_2010</td>\n",
       "      <td>TD_rushing_2011</td>\n",
       "      <td>TD_rushing_2012</td>\n",
       "      <td>TD_rushing_2013</td>\n",
       "      <td>TD_rushing_2014</td>\n",
       "      <td>TD_rushing_2015</td>\n",
       "      <td>TD_rushing_2016</td>\n",
       "    </tr>\n",
       "    <tr>\n",
       "      <th>57</th>\n",
       "      <td>W_standings_2010</td>\n",
       "      <td>W_standings_2011</td>\n",
       "      <td>W_standings_2012</td>\n",
       "      <td>W_standings_2013</td>\n",
       "      <td>W_standings_2014</td>\n",
       "      <td>W_standings_2015</td>\n",
       "      <td>W_standings_2016</td>\n",
       "    </tr>\n",
       "    <tr>\n",
       "      <th>58</th>\n",
       "      <td>XPA_scoring_2010</td>\n",
       "      <td>XPA_scoring_2011</td>\n",
       "      <td>XPA_scoring_2012</td>\n",
       "      <td>XPA_scoring_2013</td>\n",
       "      <td>XPA_scoring_2014</td>\n",
       "      <td>XPA_scoring_2015</td>\n",
       "      <td>XPA_scoring_2016</td>\n",
       "    </tr>\n",
       "    <tr>\n",
       "      <th>59</th>\n",
       "      <td>XPA_scoring_def_2010</td>\n",
       "      <td>XPA_scoring_def_2011</td>\n",
       "      <td>XPA_scoring_def_2012</td>\n",
       "      <td>XPA_scoring_def_2013</td>\n",
       "      <td>XPA_scoring_def_2014</td>\n",
       "      <td>XPA_scoring_def_2015</td>\n",
       "      <td>XPA_scoring_def_2016</td>\n",
       "    </tr>\n",
       "    <tr>\n",
       "      <th>60</th>\n",
       "      <td>XPM_scoring_2010</td>\n",
       "      <td>XPM_scoring_2011</td>\n",
       "      <td>XPM_scoring_2012</td>\n",
       "      <td>XPM_scoring_2013</td>\n",
       "      <td>XPM_scoring_2014</td>\n",
       "      <td>XPM_scoring_2015</td>\n",
       "      <td>XPM_scoring_2016</td>\n",
       "    </tr>\n",
       "    <tr>\n",
       "      <th>61</th>\n",
       "      <td>XPM_scoring_def_2010</td>\n",
       "      <td>XPM_scoring_def_2011</td>\n",
       "      <td>XPM_scoring_def_2012</td>\n",
       "      <td>XPM_scoring_def_2013</td>\n",
       "      <td>XPM_scoring_def_2014</td>\n",
       "      <td>XPM_scoring_def_2015</td>\n",
       "      <td>XPM_scoring_def_2016</td>\n",
       "    </tr>\n",
       "    <tr>\n",
       "      <th>62</th>\n",
       "      <td>Y/A_pass_def_2010</td>\n",
       "      <td>Y/A_pass_def_2011</td>\n",
       "      <td>Y/A_pass_def_2012</td>\n",
       "      <td>Y/A_pass_def_2013</td>\n",
       "      <td>Y/A_pass_def_2014</td>\n",
       "      <td>Y/A_pass_def_2015</td>\n",
       "      <td>Y/A_pass_def_2016</td>\n",
       "    </tr>\n",
       "    <tr>\n",
       "      <th>63</th>\n",
       "      <td>Y/A_passing_2010</td>\n",
       "      <td>Y/A_passing_2011</td>\n",
       "      <td>Y/A_passing_2012</td>\n",
       "      <td>Y/A_passing_2013</td>\n",
       "      <td>Y/A_passing_2014</td>\n",
       "      <td>Y/A_passing_2015</td>\n",
       "      <td>Y/A_passing_2016</td>\n",
       "    </tr>\n",
       "    <tr>\n",
       "      <th>64</th>\n",
       "      <td>Y/A_rush_def_2010</td>\n",
       "      <td>Y/A_rush_def_2011</td>\n",
       "      <td>Y/A_rush_def_2012</td>\n",
       "      <td>Y/A_rush_def_2013</td>\n",
       "      <td>Y/A_rush_def_2014</td>\n",
       "      <td>Y/A_rush_def_2015</td>\n",
       "      <td>Y/A_rush_def_2016</td>\n",
       "    </tr>\n",
       "    <tr>\n",
       "      <th>65</th>\n",
       "      <td>Y/A_rushing_2010</td>\n",
       "      <td>Y/A_rushing_2011</td>\n",
       "      <td>Y/A_rushing_2012</td>\n",
       "      <td>Y/A_rushing_2013</td>\n",
       "      <td>Y/A_rushing_2014</td>\n",
       "      <td>Y/A_rushing_2015</td>\n",
       "      <td>Y/A_rushing_2016</td>\n",
       "    </tr>\n",
       "    <tr>\n",
       "      <th>66</th>\n",
       "      <td>Y/C_pass_def_2010</td>\n",
       "      <td>Y/C_pass_def_2011</td>\n",
       "      <td>Y/C_pass_def_2012</td>\n",
       "      <td>Y/C_pass_def_2013</td>\n",
       "      <td>Y/C_pass_def_2014</td>\n",
       "      <td>Y/C_pass_def_2015</td>\n",
       "      <td>Y/C_pass_def_2016</td>\n",
       "    </tr>\n",
       "    <tr>\n",
       "      <th>67</th>\n",
       "      <td>Y/C_passing_2010</td>\n",
       "      <td>Y/C_passing_2011</td>\n",
       "      <td>Y/C_passing_2012</td>\n",
       "      <td>Y/C_passing_2013</td>\n",
       "      <td>Y/C_passing_2014</td>\n",
       "      <td>Y/C_passing_2015</td>\n",
       "      <td>Y/C_passing_2016</td>\n",
       "    </tr>\n",
       "    <tr>\n",
       "      <th>68</th>\n",
       "      <td>Yds_pass_def_2010</td>\n",
       "      <td>Yds_pass_def_2011</td>\n",
       "      <td>Yds_pass_def_2012</td>\n",
       "      <td>Yds_pass_def_2013</td>\n",
       "      <td>Yds_pass_def_2014</td>\n",
       "      <td>Yds_pass_def_2015</td>\n",
       "      <td>Yds_pass_def_2016</td>\n",
       "    </tr>\n",
       "    <tr>\n",
       "      <th>69</th>\n",
       "      <td>Yds_passing_2010</td>\n",
       "      <td>Yds_passing_2011</td>\n",
       "      <td>Yds_passing_2012</td>\n",
       "      <td>Yds_passing_2013</td>\n",
       "      <td>Yds_passing_2014</td>\n",
       "      <td>Yds_passing_2015</td>\n",
       "      <td>Yds_passing_2016</td>\n",
       "    </tr>\n",
       "    <tr>\n",
       "      <th>70</th>\n",
       "      <td>Yds_rush_def_2010</td>\n",
       "      <td>Yds_rush_def_2011</td>\n",
       "      <td>Yds_rush_def_2012</td>\n",
       "      <td>Yds_rush_def_2013</td>\n",
       "      <td>Yds_rush_def_2014</td>\n",
       "      <td>Yds_rush_def_2015</td>\n",
       "      <td>Yds_rush_def_2016</td>\n",
       "    </tr>\n",
       "    <tr>\n",
       "      <th>71</th>\n",
       "      <td>Yds_rushing_2010</td>\n",
       "      <td>Yds_rushing_2011</td>\n",
       "      <td>Yds_rushing_2012</td>\n",
       "      <td>Yds_rushing_2013</td>\n",
       "      <td>Yds_rushing_2014</td>\n",
       "      <td>Yds_rushing_2015</td>\n",
       "      <td>Yds_rushing_2016</td>\n",
       "    </tr>\n",
       "  </tbody>\n",
       "</table>\n",
       "<p>72 rows × 7 columns</p>\n",
       "</div>"
      ],
      "text/plain": [
       "                         0                       1                       2  \\\n",
       "0         2PA_scoring_2010        2PA_scoring_2011        2PA_scoring_2012   \n",
       "1     2PA_scoring_def_2010    2PA_scoring_def_2011    2PA_scoring_def_2012   \n",
       "2         2PM_scoring_2010        2PM_scoring_2011        2PM_scoring_2012   \n",
       "3     2PM_scoring_def_2010    2PM_scoring_def_2011    2PM_scoring_def_2012   \n",
       "4         4QC_passing_2010        4QC_passing_2011        4QC_passing_2012   \n",
       "5      ANY/A_pass_def_2010     ANY/A_pass_def_2011     ANY/A_pass_def_2012   \n",
       "6       ANY/A_passing_2010      ANY/A_passing_2011      ANY/A_passing_2012   \n",
       "7       AY/A_pass_def_2010      AY/A_pass_def_2011      AY/A_pass_def_2012   \n",
       "8        AY/A_passing_2010       AY/A_passing_2011       AY/A_passing_2012   \n",
       "9       AllTD_scoring_2010      AllTD_scoring_2011      AllTD_scoring_2012   \n",
       "10  AllTD_scoring_def_2010  AllTD_scoring_def_2011  AllTD_scoring_def_2012   \n",
       "11       Att_pass_def_2010       Att_pass_def_2011       Att_pass_def_2012   \n",
       "12        Att_passing_2010        Att_passing_2011        Att_passing_2012   \n",
       "13       Att_rush_def_2010       Att_rush_def_2011       Att_rush_def_2012   \n",
       "14        Att_rushing_2010        Att_rushing_2011        Att_rushing_2012   \n",
       "15       Cmp_pass_def_2010       Cmp_pass_def_2011       Cmp_pass_def_2012   \n",
       "16        Cmp_passing_2010        Cmp_passing_2011        Cmp_passing_2012   \n",
       "17     DSRS_standings_2010     DSRS_standings_2011     DSRS_standings_2012   \n",
       "18        FGA_scoring_2010        FGA_scoring_2011        FGA_scoring_2012   \n",
       "19    FGA_scoring_def_2010    FGA_scoring_def_2011    FGA_scoring_def_2012   \n",
       "20        FGM_scoring_2010        FGM_scoring_2011        FGM_scoring_2012   \n",
       "21    FGM_scoring_def_2010    FGM_scoring_def_2011    FGM_scoring_def_2012   \n",
       "22      FblTD_scoring_2010      FblTD_scoring_2011      FblTD_scoring_2012   \n",
       "23  FblTD_scoring_def_2010  FblTD_scoring_def_2011  FblTD_scoring_def_2012   \n",
       "24        Fmb_rushing_2010        Fmb_rushing_2011        Fmb_rushing_2012   \n",
       "25        GWD_passing_2010        GWD_passing_2011        GWD_passing_2012   \n",
       "26      IntTD_scoring_2010      IntTD_scoring_2011      IntTD_scoring_2012   \n",
       "27  IntTD_scoring_def_2010  IntTD_scoring_def_2011  IntTD_scoring_def_2012   \n",
       "28       Int_pass_def_2010       Int_pass_def_2011       Int_pass_def_2012   \n",
       "29        Int_passing_2010        Int_passing_2011        Int_passing_2012   \n",
       "..                     ...                     ...                     ...   \n",
       "42        Pts_scoring_2010        Pts_scoring_2011        Pts_scoring_2012   \n",
       "43      Rate_pass_def_2010      Rate_pass_def_2011      Rate_pass_def_2012   \n",
       "44       Rate_passing_2010       Rate_passing_2011       Rate_passing_2012   \n",
       "45      SRS_standings_2010      SRS_standings_2011      SRS_standings_2012   \n",
       "46  Sack_Yds_pass_def_2010  Sack_Yds_pass_def_2011  Sack_Yds_pass_def_2012   \n",
       "47   Sack_Yds_passing_2010   Sack_Yds_passing_2011   Sack_Yds_passing_2012   \n",
       "48       Sfty_scoring_2010       Sfty_scoring_2011       Sfty_scoring_2012   \n",
       "49   Sfty_scoring_def_2010   Sfty_scoring_def_2011   Sfty_scoring_def_2012   \n",
       "50        Sk_pass_def_2010        Sk_pass_def_2011        Sk_pass_def_2012   \n",
       "51         Sk_passing_2010         Sk_passing_2011         Sk_passing_2012   \n",
       "52      SoS_standings_2010      SoS_standings_2011      SoS_standings_2012   \n",
       "53        TD_pass_def_2010        TD_pass_def_2011        TD_pass_def_2012   \n",
       "54         TD_passing_2010         TD_passing_2011         TD_passing_2012   \n",
       "55        TD_rush_def_2010        TD_rush_def_2011        TD_rush_def_2012   \n",
       "56         TD_rushing_2010         TD_rushing_2011         TD_rushing_2012   \n",
       "57        W_standings_2010        W_standings_2011        W_standings_2012   \n",
       "58        XPA_scoring_2010        XPA_scoring_2011        XPA_scoring_2012   \n",
       "59    XPA_scoring_def_2010    XPA_scoring_def_2011    XPA_scoring_def_2012   \n",
       "60        XPM_scoring_2010        XPM_scoring_2011        XPM_scoring_2012   \n",
       "61    XPM_scoring_def_2010    XPM_scoring_def_2011    XPM_scoring_def_2012   \n",
       "62       Y/A_pass_def_2010       Y/A_pass_def_2011       Y/A_pass_def_2012   \n",
       "63        Y/A_passing_2010        Y/A_passing_2011        Y/A_passing_2012   \n",
       "64       Y/A_rush_def_2010       Y/A_rush_def_2011       Y/A_rush_def_2012   \n",
       "65        Y/A_rushing_2010        Y/A_rushing_2011        Y/A_rushing_2012   \n",
       "66       Y/C_pass_def_2010       Y/C_pass_def_2011       Y/C_pass_def_2012   \n",
       "67        Y/C_passing_2010        Y/C_passing_2011        Y/C_passing_2012   \n",
       "68       Yds_pass_def_2010       Yds_pass_def_2011       Yds_pass_def_2012   \n",
       "69        Yds_passing_2010        Yds_passing_2011        Yds_passing_2012   \n",
       "70       Yds_rush_def_2010       Yds_rush_def_2011       Yds_rush_def_2012   \n",
       "71        Yds_rushing_2010        Yds_rushing_2011        Yds_rushing_2012   \n",
       "\n",
       "                         3                       4                       5  \\\n",
       "0         2PA_scoring_2013        2PA_scoring_2014        2PA_scoring_2015   \n",
       "1     2PA_scoring_def_2013    2PA_scoring_def_2014    2PA_scoring_def_2015   \n",
       "2         2PM_scoring_2013        2PM_scoring_2014        2PM_scoring_2015   \n",
       "3     2PM_scoring_def_2013    2PM_scoring_def_2014    2PM_scoring_def_2015   \n",
       "4         4QC_passing_2013        4QC_passing_2014        4QC_passing_2015   \n",
       "5      ANY/A_pass_def_2013     ANY/A_pass_def_2014     ANY/A_pass_def_2015   \n",
       "6       ANY/A_passing_2013      ANY/A_passing_2014      ANY/A_passing_2015   \n",
       "7       AY/A_pass_def_2013      AY/A_pass_def_2014      AY/A_pass_def_2015   \n",
       "8        AY/A_passing_2013       AY/A_passing_2014       AY/A_passing_2015   \n",
       "9       AllTD_scoring_2013      AllTD_scoring_2014      AllTD_scoring_2015   \n",
       "10  AllTD_scoring_def_2013  AllTD_scoring_def_2014  AllTD_scoring_def_2015   \n",
       "11       Att_pass_def_2013       Att_pass_def_2014       Att_pass_def_2015   \n",
       "12        Att_passing_2013        Att_passing_2014        Att_passing_2015   \n",
       "13       Att_rush_def_2013       Att_rush_def_2014       Att_rush_def_2015   \n",
       "14        Att_rushing_2013        Att_rushing_2014        Att_rushing_2015   \n",
       "15       Cmp_pass_def_2013       Cmp_pass_def_2014       Cmp_pass_def_2015   \n",
       "16        Cmp_passing_2013        Cmp_passing_2014        Cmp_passing_2015   \n",
       "17     DSRS_standings_2013     DSRS_standings_2014     DSRS_standings_2015   \n",
       "18        FGA_scoring_2013        FGA_scoring_2014        FGA_scoring_2015   \n",
       "19    FGA_scoring_def_2013    FGA_scoring_def_2014    FGA_scoring_def_2015   \n",
       "20        FGM_scoring_2013        FGM_scoring_2014        FGM_scoring_2015   \n",
       "21    FGM_scoring_def_2013    FGM_scoring_def_2014    FGM_scoring_def_2015   \n",
       "22      FblTD_scoring_2013      FblTD_scoring_2014      FblTD_scoring_2015   \n",
       "23  FblTD_scoring_def_2013  FblTD_scoring_def_2014  FblTD_scoring_def_2015   \n",
       "24        Fmb_rushing_2013        Fmb_rushing_2014        Fmb_rushing_2015   \n",
       "25        GWD_passing_2013        GWD_passing_2014        GWD_passing_2015   \n",
       "26      IntTD_scoring_2013      IntTD_scoring_2014      IntTD_scoring_2015   \n",
       "27  IntTD_scoring_def_2013  IntTD_scoring_def_2014  IntTD_scoring_def_2015   \n",
       "28       Int_pass_def_2013       Int_pass_def_2014       Int_pass_def_2015   \n",
       "29        Int_passing_2013        Int_passing_2014        Int_passing_2015   \n",
       "..                     ...                     ...                     ...   \n",
       "42        Pts_scoring_2013        Pts_scoring_2014        Pts_scoring_2015   \n",
       "43      Rate_pass_def_2013      Rate_pass_def_2014      Rate_pass_def_2015   \n",
       "44       Rate_passing_2013       Rate_passing_2014       Rate_passing_2015   \n",
       "45      SRS_standings_2013      SRS_standings_2014      SRS_standings_2015   \n",
       "46  Sack_Yds_pass_def_2013  Sack_Yds_pass_def_2014  Sack_Yds_pass_def_2015   \n",
       "47   Sack_Yds_passing_2013   Sack_Yds_passing_2014   Sack_Yds_passing_2015   \n",
       "48       Sfty_scoring_2013       Sfty_scoring_2014       Sfty_scoring_2015   \n",
       "49   Sfty_scoring_def_2013   Sfty_scoring_def_2014   Sfty_scoring_def_2015   \n",
       "50        Sk_pass_def_2013        Sk_pass_def_2014        Sk_pass_def_2015   \n",
       "51         Sk_passing_2013         Sk_passing_2014         Sk_passing_2015   \n",
       "52      SoS_standings_2013      SoS_standings_2014      SoS_standings_2015   \n",
       "53        TD_pass_def_2013        TD_pass_def_2014        TD_pass_def_2015   \n",
       "54         TD_passing_2013         TD_passing_2014         TD_passing_2015   \n",
       "55        TD_rush_def_2013        TD_rush_def_2014        TD_rush_def_2015   \n",
       "56         TD_rushing_2013         TD_rushing_2014         TD_rushing_2015   \n",
       "57        W_standings_2013        W_standings_2014        W_standings_2015   \n",
       "58        XPA_scoring_2013        XPA_scoring_2014        XPA_scoring_2015   \n",
       "59    XPA_scoring_def_2013    XPA_scoring_def_2014    XPA_scoring_def_2015   \n",
       "60        XPM_scoring_2013        XPM_scoring_2014        XPM_scoring_2015   \n",
       "61    XPM_scoring_def_2013    XPM_scoring_def_2014    XPM_scoring_def_2015   \n",
       "62       Y/A_pass_def_2013       Y/A_pass_def_2014       Y/A_pass_def_2015   \n",
       "63        Y/A_passing_2013        Y/A_passing_2014        Y/A_passing_2015   \n",
       "64       Y/A_rush_def_2013       Y/A_rush_def_2014       Y/A_rush_def_2015   \n",
       "65        Y/A_rushing_2013        Y/A_rushing_2014        Y/A_rushing_2015   \n",
       "66       Y/C_pass_def_2013       Y/C_pass_def_2014       Y/C_pass_def_2015   \n",
       "67        Y/C_passing_2013        Y/C_passing_2014        Y/C_passing_2015   \n",
       "68       Yds_pass_def_2013       Yds_pass_def_2014       Yds_pass_def_2015   \n",
       "69        Yds_passing_2013        Yds_passing_2014        Yds_passing_2015   \n",
       "70       Yds_rush_def_2013       Yds_rush_def_2014       Yds_rush_def_2015   \n",
       "71        Yds_rushing_2013        Yds_rushing_2014        Yds_rushing_2015   \n",
       "\n",
       "                         6  \n",
       "0         2PA_scoring_2016  \n",
       "1     2PA_scoring_def_2016  \n",
       "2         2PM_scoring_2016  \n",
       "3     2PM_scoring_def_2016  \n",
       "4         4QC_passing_2016  \n",
       "5      ANY/A_pass_def_2016  \n",
       "6       ANY/A_passing_2016  \n",
       "7       AY/A_pass_def_2016  \n",
       "8        AY/A_passing_2016  \n",
       "9       AllTD_scoring_2016  \n",
       "10  AllTD_scoring_def_2016  \n",
       "11       Att_pass_def_2016  \n",
       "12        Att_passing_2016  \n",
       "13       Att_rush_def_2016  \n",
       "14        Att_rushing_2016  \n",
       "15       Cmp_pass_def_2016  \n",
       "16        Cmp_passing_2016  \n",
       "17     DSRS_standings_2016  \n",
       "18        FGA_scoring_2016  \n",
       "19    FGA_scoring_def_2016  \n",
       "20        FGM_scoring_2016  \n",
       "21    FGM_scoring_def_2016  \n",
       "22      FblTD_scoring_2016  \n",
       "23  FblTD_scoring_def_2016  \n",
       "24        Fmb_rushing_2016  \n",
       "25        GWD_passing_2016  \n",
       "26      IntTD_scoring_2016  \n",
       "27  IntTD_scoring_def_2016  \n",
       "28       Int_pass_def_2016  \n",
       "29        Int_passing_2016  \n",
       "..                     ...  \n",
       "42        Pts_scoring_2016  \n",
       "43      Rate_pass_def_2016  \n",
       "44       Rate_passing_2016  \n",
       "45      SRS_standings_2016  \n",
       "46  Sack_Yds_pass_def_2016  \n",
       "47   Sack_Yds_passing_2016  \n",
       "48       Sfty_scoring_2016  \n",
       "49   Sfty_scoring_def_2016  \n",
       "50        Sk_pass_def_2016  \n",
       "51         Sk_passing_2016  \n",
       "52      SoS_standings_2016  \n",
       "53        TD_pass_def_2016  \n",
       "54         TD_passing_2016  \n",
       "55        TD_rush_def_2016  \n",
       "56         TD_rushing_2016  \n",
       "57        W_standings_2016  \n",
       "58        XPA_scoring_2016  \n",
       "59    XPA_scoring_def_2016  \n",
       "60        XPM_scoring_2016  \n",
       "61    XPM_scoring_def_2016  \n",
       "62       Y/A_pass_def_2016  \n",
       "63        Y/A_passing_2016  \n",
       "64       Y/A_rush_def_2016  \n",
       "65        Y/A_rushing_2016  \n",
       "66       Y/C_pass_def_2016  \n",
       "67        Y/C_passing_2016  \n",
       "68       Yds_pass_def_2016  \n",
       "69        Yds_passing_2016  \n",
       "70       Yds_rush_def_2016  \n",
       "71        Yds_rushing_2016  \n",
       "\n",
       "[72 rows x 7 columns]"
      ]
     },
     "execution_count": 422,
     "metadata": {},
     "output_type": "execute_result"
    }
   ],
   "source": [
    "pd.DataFrame([cols_2010,cols_2011,cols_2012,cols_2013,cols_2014,cols_2015,cols_2016]).transpose()"
   ]
  },
  {
   "cell_type": "code",
   "execution_count": 428,
   "metadata": {},
   "outputs": [],
   "source": [
    "sorted_cols = df.columns.sort_values()"
   ]
  },
  {
   "cell_type": "code",
   "execution_count": 437,
   "metadata": {},
   "outputs": [],
   "source": [
    "new_df = df[sorted_cols]"
   ]
  },
  {
   "cell_type": "code",
   "execution_count": 438,
   "metadata": {
    "collapsed": true
   },
   "outputs": [],
   "source": [
    "new_df.to_csv('model_data.csv')"
   ]
  },
  {
   "cell_type": "code",
   "execution_count": 119,
   "metadata": {
    "collapsed": true
   },
   "outputs": [],
   "source": [
    "ss = StandardScaler()"
   ]
  },
  {
   "cell_type": "code",
   "execution_count": 120,
   "metadata": {
    "collapsed": true
   },
   "outputs": [],
   "source": [
    "scaled_2010 = ss.fit_transform(df[[i for i in df.columns if ('_2010' in i)]])"
   ]
  },
  {
   "cell_type": "code",
   "execution_count": 122,
   "metadata": {
    "collapsed": true
   },
   "outputs": [],
   "source": [
    "pca_2010 = PCA().fit(scaled_2010)"
   ]
  },
  {
   "cell_type": "code",
   "execution_count": 128,
   "metadata": {},
   "outputs": [
    {
     "data": {
      "text/plain": [
       "array([ 0.2822434 ,  0.4345209 ,  0.51615332,  0.58041969,  0.62913688,\n",
       "        0.67705527,  0.71853577,  0.75894181,  0.79107628,  0.82013271,\n",
       "        0.84519946,  0.86819719,  0.8877062 ,  0.90412154,  0.91841131,\n",
       "        0.93136108,  0.94362316,  0.95297107,  0.96066706,  0.96801365,\n",
       "        0.97419002,  0.98005716,  0.98455551,  0.98855101,  0.99139409,\n",
       "        0.99378238,  0.99567598,  0.99702269,  0.99808651,  0.99911669,\n",
       "        1.        ,  1.        ])"
      ]
     },
     "execution_count": 128,
     "metadata": {},
     "output_type": "execute_result"
    }
   ],
   "source": [
    "pca_2010.explained_variance_ratio_.cumsum()"
   ]
  },
  {
   "cell_type": "code",
   "execution_count": 133,
   "metadata": {},
   "outputs": [
    {
     "name": "stdout",
     "output_type": "stream",
     "text": [
      "Cmp_passing_2010 0.0505552019039\n",
      "Att_passing_2010 -0.0148395459644\n",
      "Yds_passing_2010 0.0992579036777\n",
      "TD_passing_2010 0.150304874203\n",
      "Int_passing_2010 -0.12592775694\n",
      "Y/A_passing_2010 0.153139790298\n",
      "AY/A_passing_2010 0.175804259578\n",
      "Y/C_passing_2010 0.0791419948029\n",
      "Rate_passing_2010 0.181780775784\n",
      "Sk_passing_2010 -0.0651550633389\n",
      "Sack_Yds_passing_2010 -0.0664089529436\n",
      "NY/A_passing_2010 0.16018571838\n",
      "ANY/A_passing_2010 0.177245574593\n",
      "4QC_passing_2010 0.058080855002\n",
      "GWD_passing_2010 0.0785730051341\n",
      "EXP_passing_2010 0.174298199952\n",
      "Att_rushing_2010 0.0994046939722\n",
      "Yds_rushing_2010 0.0651823528887\n",
      "TD_rushing_2010 0.10170329101\n",
      "Y/A_rushing_2010 0.00177587073634\n",
      "Fmb_rushing_2010 -0.104277746285\n",
      "EXP_rushing_2010 0.0480915204518\n",
      "PR TD_scoring_2010 0.0368656776539\n",
      "KR TD_scoring_2010 -0.00975685539649\n",
      "FblTD_scoring_2010 -0.0765834505679\n",
      "IntTD_scoring_2010 0.103488932912\n",
      "OthTD_scoring_2010 0.0181929960685\n",
      "AllTD_scoring_2010 0.16256976112\n",
      "2PM_scoring_2010 0.0272376493112\n",
      "2PA_scoring_2010 -0.00977749607292\n",
      "XPM_scoring_2010 0.161813903509\n",
      "XPA_scoring_2010 0.159446456535\n",
      "FGM_scoring_2010 0.0427942241419\n",
      "FGA_scoring_2010 0.0353424075654\n",
      "Sfty_scoring_2010 -0.0101667528856\n",
      "Pts_scoring_2010 0.168638612139\n",
      "Cmp_pass_def_2010 0.0299610053146\n",
      "Att_pass_def_2010 0.0731464609014\n",
      "Yds_pass_def_2010 -0.0441068396159\n",
      "TD_pass_def_2010 -0.0729878482198\n",
      "Int_pass_def_2010 0.112414228422\n",
      "Y/A_pass_def_2010 -0.116592488025\n",
      "AY/A_pass_def_2010 -0.136043360367\n",
      "Y/C_pass_def_2010 -0.0774191659714\n",
      "Rate_pass_def_2010 -0.129743924504\n",
      "Sk_pass_def_2010 0.105463337469\n",
      "Sack_Yds_pass_def_2010 0.0965202330568\n",
      "NY/A_pass_def_2010 -0.124048073182\n",
      "ANY/A_pass_def_2010 -0.143634840756\n",
      "EXP_pass_def_2010 0.118555942755\n",
      "Att_rush_def_2010 -0.164970378191\n",
      "Yds_rush_def_2010 -0.139178978804\n",
      "TD_rush_def_2010 -0.129477671644\n",
      "Y/A_rush_def_2010 -0.0571787062601\n",
      "EXP_rush_def_2010 0.0420771302247\n",
      "PR TD_scoring_def_2010 -0.00597031797103\n",
      "KR TD_scoring_def_2010 0.0423706558276\n",
      "FblTD_scoring_def_2010 0.00328533639932\n",
      "IntTD_scoring_def_2010 -0.123480507429\n",
      "OthTD_scoring_def_2010 0.0471590806958\n",
      "AllTD_scoring_def_2010 -0.144178610483\n",
      "2PM_scoring_def_2010 0.062448491078\n",
      "2PA_scoring_def_2010 0.0478265938241\n",
      "XPM_scoring_def_2010 -0.145613957959\n",
      "XPA_scoring_def_2010 -0.145780186744\n",
      "FGM_scoring_def_2010 -0.10905679262\n",
      "FGA_scoring_def_2010 -0.108653650663\n",
      "Sfty_scoring_def_2010 0.0\n",
      "Pts_scoring_def_2010 -0.167777567641\n",
      "W_standings_2010 0.191040547519\n",
      "PD_standings_2010 0.213431398209\n",
      "MoV_standings_2010 0.213391202941\n",
      "SoS_standings_2010 0.00611698994049\n",
      "SRS_standings_2010 0.200780880256\n",
      "OSRS_standings_2010 0.167368965933\n",
      "DSRS_standings_2010 0.162938683678\n"
     ]
    }
   ],
   "source": [
    "pca1_evec = pca_2010.components_[0]\n",
    "for weight, event in zip(pca1_evec, stats_2010.columns):\n",
    "    print event, weight"
   ]
  },
  {
   "cell_type": "markdown",
   "metadata": {},
   "source": [
    "Questions/ideas for 1-1: \n",
    "\n",
    "- dealing with per/att vs totals or %s\n",
    "- distilling team stats down. PCA? \n",
    "- Scraping ahead\n",
    "- NLP idea"
   ]
  },
  {
   "cell_type": "code",
   "execution_count": 54,
   "metadata": {
    "collapsed": true
   },
   "outputs": [],
   "source": [
    "from sklearn.linear_model import LinearRegression, ElasticNetCV"
   ]
  },
  {
   "cell_type": "code",
   "execution_count": 135,
   "metadata": {
    "collapsed": true
   },
   "outputs": [],
   "source": [
    "Xtrain = df[[i for i in df.columns if ('_2010' in i)|('_2011' in i)|('_2012' in i)]]\n",
    "ytrain = df[[i for i in df.columns if 'W_' in i]]['W_standings_2013']\n",
    "Xtest = df[[i for i in df.columns if ('_2011' in i)|('_2012' in i)|('_2013' in i)]]\n",
    "ytest = df[[i for i in df.columns if 'W_' in i]]['W_standings_2014']"
   ]
  },
  {
   "cell_type": "code",
   "execution_count": 142,
   "metadata": {},
   "outputs": [
    {
     "data": {
      "text/plain": [
       "((32, 226), (32, 228))"
      ]
     },
     "execution_count": 142,
     "metadata": {},
     "output_type": "execute_result"
    }
   ],
   "source": [
    "Xtrain.shape, Xtest.shape"
   ]
  },
  {
   "cell_type": "code",
   "execution_count": 136,
   "metadata": {
    "collapsed": true
   },
   "outputs": [],
   "source": [
    "lr = LinearRegression()"
   ]
  },
  {
   "cell_type": "code",
   "execution_count": 137,
   "metadata": {
    "collapsed": true
   },
   "outputs": [],
   "source": [
    "enet = ElasticNetCV(l1_ratio=[.1, .5, .7, .9, .95, .99, 1])"
   ]
  },
  {
   "cell_type": "code",
   "execution_count": 138,
   "metadata": {},
   "outputs": [
    {
     "name": "stderr",
     "output_type": "stream",
     "text": [
      "/anaconda/lib/python2.7/site-packages/sklearn/linear_model/coordinate_descent.py:484: ConvergenceWarning: Objective did not converge. You might want to increase the number of iterations. Fitting data with very small alpha may cause precision problems.\n",
      "  ConvergenceWarning)\n"
     ]
    },
    {
     "data": {
      "text/plain": [
       "ElasticNetCV(alphas=None, copy_X=True, cv=None, eps=0.001, fit_intercept=True,\n",
       "       l1_ratio=[0.1, 0.5, 0.7, 0.9, 0.95, 0.99, 1], max_iter=1000,\n",
       "       n_alphas=100, n_jobs=1, normalize=False, positive=False,\n",
       "       precompute='auto', random_state=None, selection='cyclic',\n",
       "       tol=0.0001, verbose=0)"
      ]
     },
     "execution_count": 138,
     "metadata": {},
     "output_type": "execute_result"
    }
   ],
   "source": [
    "enet.fit(Xtrain,ytrain)"
   ]
  },
  {
   "cell_type": "code",
   "execution_count": 139,
   "metadata": {},
   "outputs": [
    {
     "data": {
      "text/plain": [
       "array([ 0.        ,  0.        ,  0.        ,  0.        , -0.        ,\n",
       "       -0.        ,  0.        , -0.        ,  0.        , -0.        ,\n",
       "       -0.        ,  0.        ,  0.        , -0.        , -0.        ,\n",
       "        0.        ,  0.        , -0.        ,  0.        ,  0.        ,\n",
       "       -0.        ,  0.        ,  0.        ,  0.        ,  0.        ,\n",
       "        0.        ,  0.        ,  0.        ,  0.        ,  0.        ,\n",
       "        0.        ,  0.        , -0.        , -0.        ,  0.        ,\n",
       "        0.        , -0.        ,  0.        ,  0.        ,  0.        ,\n",
       "        0.        ,  0.        , -0.        ,  0.        ,  0.        ,\n",
       "       -0.        ,  0.        ,  0.        , -0.        , -0.        ,\n",
       "       -0.        , -0.        , -0.        , -0.        ,  0.        ,\n",
       "        0.        ,  0.        ,  0.        , -0.        ,  0.        ,\n",
       "        0.        ,  0.        ,  0.        ,  0.        ,  0.        ,\n",
       "        0.        ,  0.        ,  0.        ,  0.        ,  0.        ,\n",
       "        0.        ,  0.        , -0.        , -0.        ,  0.        ,\n",
       "        0.        , -0.        , -0.        ,  0.        ,  0.        ,\n",
       "        0.        , -0.        , -0.        ,  0.        , -0.        ,\n",
       "        0.        ,  0.        ,  0.        ,  0.        ,  0.        ,\n",
       "       -0.        ,  0.        ,  0.        ,  0.        ,  0.        ,\n",
       "        0.        ,  0.        ,  0.        , -0.        ,  0.        ,\n",
       "       -0.        , -0.        ,  0.        ,  0.        , -0.        ,\n",
       "       -0.        ,  0.        ,  0.        ,  0.        ,  0.        ,\n",
       "       -0.        , -0.        , -0.        , -0.        , -0.        ,\n",
       "       -0.        , -0.        ,  0.        ,  0.        , -0.        ,\n",
       "       -0.        ,  0.        ,  0.        ,  0.        ,  0.00036072,\n",
       "       -0.        , -0.        ,  0.        ,  0.        ,  0.        ,\n",
       "        0.        ,  0.        ,  0.        ,  0.        ,  0.        ,\n",
       "       -0.        , -0.        , -0.        , -0.00123425, -0.        ,\n",
       "       -0.        , -0.        , -0.        , -0.        , -0.        ,\n",
       "        0.        ,  0.        , -0.        , -0.        ,  0.        ,\n",
       "        0.        , -0.        ,  0.        , -0.        ,  0.        ,\n",
       "        0.        , -0.        , -0.        , -0.        ,  0.        ,\n",
       "        0.        ,  0.        ,  0.        ,  0.        ,  0.        ,\n",
       "       -0.        ,  0.        , -0.        ,  0.        ,  0.        ,\n",
       "        0.        ,  0.        ,  0.        ,  0.        ,  0.        ,\n",
       "       -0.        , -0.        , -0.        , -0.        , -0.        ,\n",
       "       -0.        , -0.        , -0.        , -0.        , -0.        ,\n",
       "       -0.        ,  0.        , -0.        , -0.        , -0.        ,\n",
       "       -0.        ,  0.        ,  0.        , -0.        , -0.        ,\n",
       "       -0.        , -0.        , -0.        , -0.        ,  0.        ,\n",
       "       -0.        ,  0.        , -0.        ,  0.        , -0.        ,\n",
       "       -0.        , -0.        , -0.        ,  0.        , -0.        ,\n",
       "        0.        ,  0.        ,  0.        ,  0.        , -0.        ,\n",
       "        0.        ,  0.        ,  0.        ,  0.        ,  0.        ,\n",
       "        0.        ,  0.        ,  0.        ,  0.        ,  0.        ,  0.        ])"
      ]
     },
     "execution_count": 139,
     "metadata": {},
     "output_type": "execute_result"
    }
   ],
   "source": [
    "enet.coef_"
   ]
  },
  {
   "cell_type": "code",
   "execution_count": 140,
   "metadata": {},
   "outputs": [
    {
     "ename": "ValueError",
     "evalue": "shapes (32,228) and (226,) not aligned: 228 (dim 1) != 226 (dim 0)",
     "output_type": "error",
     "traceback": [
      "\u001b[0;31m---------------------------------------------------------------------------\u001b[0m",
      "\u001b[0;31mValueError\u001b[0m                                Traceback (most recent call last)",
      "\u001b[0;32m<ipython-input-140-aafc7369ed43>\u001b[0m in \u001b[0;36m<module>\u001b[0;34m()\u001b[0m\n\u001b[0;32m----> 1\u001b[0;31m \u001b[0menet\u001b[0m\u001b[0;34m.\u001b[0m\u001b[0mpredict\u001b[0m\u001b[0;34m(\u001b[0m\u001b[0mXtest\u001b[0m\u001b[0;34m)\u001b[0m\u001b[0;34m\u001b[0m\u001b[0m\n\u001b[0m",
      "\u001b[0;32m/anaconda/lib/python2.7/site-packages/sklearn/linear_model/base.pyc\u001b[0m in \u001b[0;36mpredict\u001b[0;34m(self, X)\u001b[0m\n\u001b[1;32m    266\u001b[0m             \u001b[0mReturns\u001b[0m \u001b[0mpredicted\u001b[0m \u001b[0mvalues\u001b[0m\u001b[0;34m.\u001b[0m\u001b[0;34m\u001b[0m\u001b[0m\n\u001b[1;32m    267\u001b[0m         \"\"\"\n\u001b[0;32m--> 268\u001b[0;31m         \u001b[0;32mreturn\u001b[0m \u001b[0mself\u001b[0m\u001b[0;34m.\u001b[0m\u001b[0m_decision_function\u001b[0m\u001b[0;34m(\u001b[0m\u001b[0mX\u001b[0m\u001b[0;34m)\u001b[0m\u001b[0;34m\u001b[0m\u001b[0m\n\u001b[0m\u001b[1;32m    269\u001b[0m \u001b[0;34m\u001b[0m\u001b[0m\n\u001b[1;32m    270\u001b[0m     \u001b[0m_preprocess_data\u001b[0m \u001b[0;34m=\u001b[0m \u001b[0mstaticmethod\u001b[0m\u001b[0;34m(\u001b[0m\u001b[0m_preprocess_data\u001b[0m\u001b[0;34m)\u001b[0m\u001b[0;34m\u001b[0m\u001b[0m\n",
      "\u001b[0;32m/anaconda/lib/python2.7/site-packages/sklearn/linear_model/base.pyc\u001b[0m in \u001b[0;36m_decision_function\u001b[0;34m(self, X)\u001b[0m\n\u001b[1;32m    251\u001b[0m         \u001b[0mX\u001b[0m \u001b[0;34m=\u001b[0m \u001b[0mcheck_array\u001b[0m\u001b[0;34m(\u001b[0m\u001b[0mX\u001b[0m\u001b[0;34m,\u001b[0m \u001b[0maccept_sparse\u001b[0m\u001b[0;34m=\u001b[0m\u001b[0;34m[\u001b[0m\u001b[0;34m'csr'\u001b[0m\u001b[0;34m,\u001b[0m \u001b[0;34m'csc'\u001b[0m\u001b[0;34m,\u001b[0m \u001b[0;34m'coo'\u001b[0m\u001b[0;34m]\u001b[0m\u001b[0;34m)\u001b[0m\u001b[0;34m\u001b[0m\u001b[0m\n\u001b[1;32m    252\u001b[0m         return safe_sparse_dot(X, self.coef_.T,\n\u001b[0;32m--> 253\u001b[0;31m                                dense_output=True) + self.intercept_\n\u001b[0m\u001b[1;32m    254\u001b[0m \u001b[0;34m\u001b[0m\u001b[0m\n\u001b[1;32m    255\u001b[0m     \u001b[0;32mdef\u001b[0m \u001b[0mpredict\u001b[0m\u001b[0;34m(\u001b[0m\u001b[0mself\u001b[0m\u001b[0;34m,\u001b[0m \u001b[0mX\u001b[0m\u001b[0;34m)\u001b[0m\u001b[0;34m:\u001b[0m\u001b[0;34m\u001b[0m\u001b[0m\n",
      "\u001b[0;32m/anaconda/lib/python2.7/site-packages/sklearn/utils/extmath.pyc\u001b[0m in \u001b[0;36msafe_sparse_dot\u001b[0;34m(a, b, dense_output)\u001b[0m\n\u001b[1;32m    187\u001b[0m         \u001b[0;32mreturn\u001b[0m \u001b[0mret\u001b[0m\u001b[0;34m\u001b[0m\u001b[0m\n\u001b[1;32m    188\u001b[0m     \u001b[0;32melse\u001b[0m\u001b[0;34m:\u001b[0m\u001b[0;34m\u001b[0m\u001b[0m\n\u001b[0;32m--> 189\u001b[0;31m         \u001b[0;32mreturn\u001b[0m \u001b[0mfast_dot\u001b[0m\u001b[0;34m(\u001b[0m\u001b[0ma\u001b[0m\u001b[0;34m,\u001b[0m \u001b[0mb\u001b[0m\u001b[0;34m)\u001b[0m\u001b[0;34m\u001b[0m\u001b[0m\n\u001b[0m\u001b[1;32m    190\u001b[0m \u001b[0;34m\u001b[0m\u001b[0m\n\u001b[1;32m    191\u001b[0m \u001b[0;34m\u001b[0m\u001b[0m\n",
      "\u001b[0;31mValueError\u001b[0m: shapes (32,228) and (226,) not aligned: 228 (dim 1) != 226 (dim 0)"
     ]
    }
   ],
   "source": [
    "enet.predict(Xtest)"
   ]
  },
  {
   "cell_type": "code",
   "execution_count": 81,
   "metadata": {
    "collapsed": true
   },
   "outputs": [],
   "source": [
    "ynew = np.concatenate([ytrain.values,ytest.values],axis=0)"
   ]
  },
  {
   "cell_type": "code",
   "execution_count": 82,
   "metadata": {
    "collapsed": true
   },
   "outputs": [],
   "source": [
    "xnew = pd.concat([pd.DataFrame(Xtrain.values),pd.DataFrame(Xtest.values)])\n",
    "Xtest2 = df[[i for i in df.columns if 'W_' in i]].iloc[:,2:5]\n",
    "ytest2 = df[[i for i in df.columns if 'W_' in i]]['W_standings_2015']"
   ]
  },
  {
   "cell_type": "code",
   "execution_count": 83,
   "metadata": {},
   "outputs": [
    {
     "data": {
      "text/plain": [
       "ElasticNetCV(alphas=None, copy_X=True, cv=None, eps=0.001, fit_intercept=True,\n",
       "       l1_ratio=[0.1, 0.5, 0.7, 0.9, 0.95, 0.99, 1], max_iter=1000,\n",
       "       n_alphas=100, n_jobs=1, normalize=False, positive=False,\n",
       "       precompute='auto', random_state=None, selection='cyclic',\n",
       "       tol=0.0001, verbose=0)"
      ]
     },
     "execution_count": 83,
     "metadata": {},
     "output_type": "execute_result"
    }
   ],
   "source": [
    "enet.fit(xnew,ynew)"
   ]
  },
  {
   "cell_type": "code",
   "execution_count": 84,
   "metadata": {},
   "outputs": [
    {
     "data": {
      "text/plain": [
       "array([ 0.04374629,  0.18898665,  0.291498  ])"
      ]
     },
     "execution_count": 84,
     "metadata": {},
     "output_type": "execute_result"
    }
   ],
   "source": [
    "enet.coef_"
   ]
  },
  {
   "cell_type": "code",
   "execution_count": 86,
   "metadata": {},
   "outputs": [
    {
     "data": {
      "text/plain": [
       "array([  5.50489791,   7.31337547,   5.43213133,   6.72732765,\n",
       "         7.25257586,   6.80212877,   7.93706594,   8.6513008 ,\n",
       "         5.59239048,   5.95737954,   7.80684436,   7.16508329,\n",
       "         6.86060105,   5.955345  ,   8.40151454,   8.85530624,\n",
       "         9.10204068,   9.55350504,   7.20984685,   8.49133445,\n",
       "         8.4175506 ,   8.86799768,   8.21252789,  10.22297634,\n",
       "         9.27804309,   9.21826075,   8.57679247,   9.14680424,\n",
       "         8.76679639,  10.07773598,   7.19381079,  10.31046891])"
      ]
     },
     "execution_count": 86,
     "metadata": {},
     "output_type": "execute_result"
    }
   ],
   "source": [
    "enet.predict(Xtest2)"
   ]
  },
  {
   "cell_type": "code",
   "execution_count": 87,
   "metadata": {},
   "outputs": [
    {
     "data": {
      "text/plain": [
       "0.18285407699428957"
      ]
     },
     "execution_count": 87,
     "metadata": {},
     "output_type": "execute_result"
    }
   ],
   "source": [
    "enet.score(Xtest2,ytest2)"
   ]
  },
  {
   "cell_type": "code",
   "execution_count": 89,
   "metadata": {
    "collapsed": true
   },
   "outputs": [],
   "source": [
    "ynew2 = np.concatenate([ynew,ytest2.values],axis=0)"
   ]
  },
  {
   "cell_type": "code",
   "execution_count": 90,
   "metadata": {
    "collapsed": true
   },
   "outputs": [],
   "source": [
    "xnew2 = pd.concat([pd.DataFrame(xnew.values),pd.DataFrame(Xtest2.values)])\n",
    "Xtest3 = df[[i for i in df.columns if 'W_' in i]].iloc[:,3:6]\n",
    "ytest3 = df[[i for i in df.columns if 'W_' in i]]['W_standings_2016']"
   ]
  },
  {
   "cell_type": "code",
   "execution_count": 91,
   "metadata": {},
   "outputs": [
    {
     "data": {
      "text/plain": [
       "ElasticNetCV(alphas=None, copy_X=True, cv=None, eps=0.001, fit_intercept=True,\n",
       "       l1_ratio=[0.1, 0.5, 0.7, 0.9, 0.95, 0.99, 1], max_iter=1000,\n",
       "       n_alphas=100, n_jobs=1, normalize=False, positive=False,\n",
       "       precompute='auto', random_state=None, selection='cyclic',\n",
       "       tol=0.0001, verbose=0)"
      ]
     },
     "execution_count": 91,
     "metadata": {},
     "output_type": "execute_result"
    }
   ],
   "source": [
    "enet.fit(xnew2,ynew2)"
   ]
  },
  {
   "cell_type": "code",
   "execution_count": 92,
   "metadata": {},
   "outputs": [
    {
     "data": {
      "text/plain": [
       "array([ 0.05889871,  0.17869496,  0.231035  ])"
      ]
     },
     "execution_count": 92,
     "metadata": {},
     "output_type": "execute_result"
    }
   ],
   "source": [
    "enet.coef_"
   ]
  },
  {
   "cell_type": "code",
   "execution_count": 93,
   "metadata": {},
   "outputs": [
    {
     "data": {
      "text/plain": [
       "array([ 6.16854821,  8.04706058,  6.22088825,  7.73801301,  7.11236422,\n",
       "        6.42125806,  7.52865285,  7.65500777,  6.63061822,  7.21248448,\n",
       "        8.0516204 ,  7.34339922,  7.39773811,  5.70447936,  9.66486773,\n",
       "        8.98887774,  9.79978016,  8.70350385,  8.32843678,  8.23687403,\n",
       "        7.30417651,  7.53321266,  7.757689  ,  9.46206623,  9.1675727 ,\n",
       "        9.4489489 ,  9.03921893,  7.78136269,  8.23487518,  9.86523753,\n",
       "        6.99256796,  9.92413623])"
      ]
     },
     "execution_count": 93,
     "metadata": {},
     "output_type": "execute_result"
    }
   ],
   "source": [
    "enet.predict(Xtest3)"
   ]
  },
  {
   "cell_type": "code",
   "execution_count": 94,
   "metadata": {},
   "outputs": [
    {
     "data": {
      "text/plain": [
       "0.088437216477573521"
      ]
     },
     "execution_count": 94,
     "metadata": {},
     "output_type": "execute_result"
    }
   ],
   "source": [
    "enet.score(Xtest3,ytest3)"
   ]
  },
  {
   "cell_type": "code",
   "execution_count": null,
   "metadata": {
    "collapsed": true
   },
   "outputs": [],
   "source": []
  }
 ],
 "metadata": {
  "kernelspec": {
   "display_name": "Python 2",
   "language": "python",
   "name": "python2"
  },
  "language_info": {
   "codemirror_mode": {
    "name": "ipython",
    "version": 2
   },
   "file_extension": ".py",
   "mimetype": "text/x-python",
   "name": "python",
   "nbconvert_exporter": "python",
   "pygments_lexer": "ipython2",
   "version": "2.7.13"
  }
 },
 "nbformat": 4,
 "nbformat_minor": 2
}
