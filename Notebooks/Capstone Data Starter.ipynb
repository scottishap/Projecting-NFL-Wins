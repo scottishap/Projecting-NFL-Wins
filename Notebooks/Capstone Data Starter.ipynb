{
 "cells": [
  {
   "cell_type": "markdown",
   "metadata": {},
   "source": [
    "For each subset described below, I have the data for 2013-2016.\n",
    "\n",
    "I have pulled a yearly team stats for passing, rushing and scoring both on offense and defense. They are currently each in their own csv file. I also have game data with winner/loser/score/stats. Lastly, I have play by play data, which amounts to 45951 plays in 2016 for example. Most of the data is ready to use, but the play by play data will likely require some interesting feature engineering to be useful for the model. "
   ]
  },
  {
   "cell_type": "code",
   "execution_count": 1,
   "metadata": {
    "collapsed": true
   },
   "outputs": [],
   "source": [
    "import pandas as pd"
   ]
  },
  {
   "cell_type": "code",
   "execution_count": 10,
   "metadata": {
    "collapsed": true
   },
   "outputs": [],
   "source": [
    "games_basic_2016 = pd.read_csv('./2016_games.csv')"
   ]
  },
  {
   "cell_type": "code",
   "execution_count": 11,
   "metadata": {},
   "outputs": [
    {
     "name": "stdout",
     "output_type": "stream",
     "text": [
      "<class 'pandas.core.frame.DataFrame'>\n",
      "RangeIndex: 256 entries, 0 to 255\n",
      "Data columns (total 14 columns):\n",
      "Week          256 non-null int64\n",
      "Day           256 non-null object\n",
      "Date          256 non-null object\n",
      "Time          256 non-null object\n",
      "Winner/tie    256 non-null object\n",
      "Unnamed: 5    109 non-null object\n",
      "Loser/tie     256 non-null object\n",
      "Unnamed: 7    256 non-null object\n",
      "PtsW          256 non-null int64\n",
      "PtsL          256 non-null int64\n",
      "YdsW          256 non-null int64\n",
      "TOW           256 non-null int64\n",
      "YdsL          256 non-null int64\n",
      "TOL           256 non-null int64\n",
      "dtypes: int64(7), object(7)\n",
      "memory usage: 28.1+ KB\n"
     ]
    }
   ],
   "source": [
    "games_basic_2016.info()"
   ]
  },
  {
   "cell_type": "code",
   "execution_count": 12,
   "metadata": {
    "collapsed": true
   },
   "outputs": [],
   "source": [
    "games_adv_2016 = pd.read_csv('./2016_drwag.csv')"
   ]
  },
  {
   "cell_type": "code",
   "execution_count": 13,
   "metadata": {},
   "outputs": [
    {
     "name": "stdout",
     "output_type": "stream",
     "text": [
      "<class 'pandas.core.frame.DataFrame'>\n",
      "RangeIndex: 266 entries, 0 to 265\n",
      "Data columns (total 35 columns):\n",
      "Date                       266 non-null object\n",
      " Vis Team                  266 non-null object\n",
      " Rushing Yards             266 non-null int64\n",
      " Rushing Attempts          266 non-null int64\n",
      " Passing Yards             266 non-null int64\n",
      "Passing Attempts           266 non-null int64\n",
      " Passing Completions       266 non-null int64\n",
      " Penalties                 266 non-null int64\n",
      " Penalty Yards             266 non-null int64\n",
      " Fumbles Lost              266 non-null int64\n",
      "Interceptions Thrown       266 non-null int64\n",
      " 1st Downs                 266 non-null int64\n",
      " 3rd Down Attempts         266 non-null int64\n",
      " 3rd Down Conversions      266 non-null int64\n",
      "4th Down Attempts          266 non-null int64\n",
      " 4th Down conversions      266 non-null int64\n",
      " Time of Possession        266 non-null int64\n",
      " Score                     266 non-null int64\n",
      "Home Team                  266 non-null object\n",
      " Rushing Yards.1           266 non-null int64\n",
      " Rushing Attempts.1        266 non-null int64\n",
      " Passing Yards.1           266 non-null int64\n",
      "Passing Attempts.1         266 non-null int64\n",
      " Passing Completions.1     266 non-null int64\n",
      " Penalties.1               266 non-null int64\n",
      " Penalty Yards.1           266 non-null int64\n",
      " Fumbles Lost.1            266 non-null int64\n",
      "Interceptions Thrown.1     266 non-null int64\n",
      " 1st Downs.1               266 non-null int64\n",
      " 3rd Down Attempts.1       266 non-null int64\n",
      " 3rd Down Conversions.1    266 non-null int64\n",
      "4th Down Attempts.1        266 non-null int64\n",
      " 4th Down conversions.1    266 non-null int64\n",
      " Time of Possession.1      266 non-null int64\n",
      " Score.1                   266 non-null int64\n",
      "dtypes: int64(32), object(3)\n",
      "memory usage: 72.8+ KB\n"
     ]
    }
   ],
   "source": [
    "games_adv_2016.info()"
   ]
  },
  {
   "cell_type": "code",
   "execution_count": 4,
   "metadata": {
    "collapsed": true
   },
   "outputs": [],
   "source": [
    "passing_2016 = pd.read_csv('./2016_passing.csv')"
   ]
  },
  {
   "cell_type": "code",
   "execution_count": 5,
   "metadata": {},
   "outputs": [
    {
     "name": "stdout",
     "output_type": "stream",
     "text": [
      "<class 'pandas.core.frame.DataFrame'>\n",
      "RangeIndex: 32 entries, 0 to 31\n",
      "Data columns (total 25 columns):\n",
      "Rk       32 non-null int64\n",
      "Tm       32 non-null object\n",
      "G        32 non-null int64\n",
      "Cmp      32 non-null int64\n",
      "Att      32 non-null int64\n",
      "Cmp%     32 non-null float64\n",
      "Yds      32 non-null int64\n",
      "TD       32 non-null int64\n",
      "TD%      32 non-null float64\n",
      "Int      32 non-null int64\n",
      "Int%     32 non-null float64\n",
      "Lng      32 non-null int64\n",
      "Y/A      32 non-null float64\n",
      "AY/A     32 non-null float64\n",
      "Y/C      32 non-null float64\n",
      "Y/G      32 non-null float64\n",
      "Rate     32 non-null float64\n",
      "Sk       32 non-null int64\n",
      "Yds.1    32 non-null int64\n",
      "NY/A     32 non-null float64\n",
      "ANY/A    32 non-null float64\n",
      "Sk%      32 non-null float64\n",
      "4QC      29 non-null float64\n",
      "GWD      29 non-null float64\n",
      "EXP      32 non-null float64\n",
      "dtypes: float64(14), int64(10), object(1)\n",
      "memory usage: 6.3+ KB\n"
     ]
    }
   ],
   "source": [
    "passing_2016.info()"
   ]
  },
  {
   "cell_type": "code",
   "execution_count": 6,
   "metadata": {
    "collapsed": true
   },
   "outputs": [],
   "source": [
    "plays_2016 = pd.read_csv('./pbp-2016.csv')"
   ]
  },
  {
   "cell_type": "code",
   "execution_count": 8,
   "metadata": {},
   "outputs": [
    {
     "name": "stdout",
     "output_type": "stream",
     "text": [
      "<class 'pandas.core.frame.DataFrame'>\n",
      "RangeIndex: 45951 entries, 0 to 45950\n",
      "Data columns (total 45 columns):\n",
      "GameId                            45951 non-null int64\n",
      "GameDate                          45951 non-null object\n",
      "Quarter                           45951 non-null int64\n",
      "Minute                            45951 non-null int64\n",
      "Second                            45951 non-null int64\n",
      "OffenseTeam                       42575 non-null object\n",
      "DefenseTeam                       45951 non-null object\n",
      "Down                              45951 non-null int64\n",
      "ToGo                              45951 non-null int64\n",
      "YardLine                          45951 non-null int64\n",
      "Unnamed: 10                       0 non-null float64\n",
      "SeriesFirstDown                   45951 non-null int64\n",
      "Unnamed: 12                       0 non-null float64\n",
      "NextScore                         45951 non-null int64\n",
      "Description                       45950 non-null object\n",
      "TeamWin                           45951 non-null int64\n",
      "Unnamed: 16                       0 non-null float64\n",
      "Unnamed: 17                       0 non-null float64\n",
      "SeasonYear                        45951 non-null int64\n",
      "Yards                             45951 non-null int64\n",
      "Formation                         45173 non-null object\n",
      "PlayType                          44342 non-null object\n",
      "IsRush                            45951 non-null int64\n",
      "IsPass                            45951 non-null int64\n",
      "IsIncomplete                      45951 non-null int64\n",
      "IsTouchdown                       45951 non-null int64\n",
      "PassType                          19319 non-null object\n",
      "IsSack                            45951 non-null int64\n",
      "IsChallenge                       45951 non-null int64\n",
      "IsChallengeReversed               45951 non-null int64\n",
      "Challenger                        0 non-null float64\n",
      "IsMeasurement                     45951 non-null int64\n",
      "IsInterception                    45951 non-null int64\n",
      "IsFumble                          45951 non-null int64\n",
      "IsPenalty                         45951 non-null int64\n",
      "IsTwoPointConversion              45951 non-null int64\n",
      "IsTwoPointConversionSuccessful    45951 non-null int64\n",
      "RushDirection                     12427 non-null object\n",
      "YardLineFixed                     45951 non-null int64\n",
      "YardLineDirection                 45951 non-null object\n",
      "IsPenaltyAccepted                 45951 non-null int64\n",
      "PenaltyTeam                       3893 non-null object\n",
      "IsNoPlay                          45951 non-null int64\n",
      "PenaltyType                       3894 non-null object\n",
      "PenaltyYards                      45951 non-null int64\n",
      "dtypes: float64(5), int64(29), object(11)\n",
      "memory usage: 15.8+ MB\n"
     ]
    }
   ],
   "source": [
    "plays_2016.info()"
   ]
  },
  {
   "cell_type": "code",
   "execution_count": 14,
   "metadata": {
    "collapsed": true
   },
   "outputs": [],
   "source": [
    "standings_2016 = pd.read_csv('./2016_standings.csv')"
   ]
  },
  {
   "cell_type": "code",
   "execution_count": 15,
   "metadata": {},
   "outputs": [
    {
     "name": "stdout",
     "output_type": "stream",
     "text": [
      "<class 'pandas.core.frame.DataFrame'>\n",
      "RangeIndex: 32 entries, 0 to 31\n",
      "Data columns (total 13 columns):\n",
      "Tm      32 non-null object\n",
      "W       32 non-null int64\n",
      "L       32 non-null int64\n",
      "T       32 non-null int64\n",
      "W-L%    32 non-null float64\n",
      "PF      32 non-null int64\n",
      "PA      32 non-null int64\n",
      "PD      32 non-null int64\n",
      "MoV     32 non-null float64\n",
      "SoS     32 non-null float64\n",
      "SRS     32 non-null float64\n",
      "OSRS    32 non-null float64\n",
      "DSRS    32 non-null float64\n",
      "dtypes: float64(6), int64(6), object(1)\n",
      "memory usage: 3.3+ KB\n"
     ]
    }
   ],
   "source": [
    "standings_2016.info()"
   ]
  },
  {
   "cell_type": "markdown",
   "metadata": {},
   "source": [
    "Next steps: \n",
    "    - Efficiently and smartly combine the stats into a useable dataframe\n",
    "    - Determine measures for offseason and pull data\n",
    "        - Published offseason/draft grades (ESPN, NFL, SI, etc)\n",
    "        - Roster turnover\n",
    "        - Draft classifier - rough estimate by position and round"
   ]
  }
 ],
 "metadata": {
  "kernelspec": {
   "display_name": "Python 2",
   "language": "python",
   "name": "python2"
  },
  "language_info": {
   "codemirror_mode": {
    "name": "ipython",
    "version": 2
   },
   "file_extension": ".py",
   "mimetype": "text/x-python",
   "name": "python",
   "nbconvert_exporter": "python",
   "pygments_lexer": "ipython2",
   "version": "2.7.13"
  }
 },
 "nbformat": 4,
 "nbformat_minor": 2
}
