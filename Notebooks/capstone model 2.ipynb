{
 "cells": [
  {
   "cell_type": "markdown",
   "metadata": {},
   "source": [
    "Second modeling notebook: \n",
    "\n",
    "- Expand feature set used for modeling\n",
    "- Implement PCA\n",
    "- New model on top 30 PCA feature (model marginally improves, but only uses 3 PCA features)\n",
    "- Cluster a bit on those 3 features, still figuring out what to maybe do with this."
   ]
  },
  {
   "cell_type": "code",
   "execution_count": 18,
   "metadata": {
    "collapsed": true
   },
   "outputs": [],
   "source": [
    "import numpy as np\n",
    "import pandas as pd\n",
    "import matplotlib.pyplot as plt\n",
    "import seaborn as sns\n",
    "from sklearn.linear_model import LinearRegression, ElasticNetCV\n",
    "from sklearn.preprocessing import StandardScaler\n",
    "from sklearn.cross_validation import cross_val_score\n",
    "\n",
    "\n",
    "%matplotlib inline"
   ]
  },
  {
   "cell_type": "code",
   "execution_count": 2,
   "metadata": {
    "collapsed": true
   },
   "outputs": [],
   "source": [
    "df = pd.read_csv('./model_data.csv',index_col='Tm')"
   ]
  },
  {
   "cell_type": "code",
   "execution_count": 54,
   "metadata": {
    "collapsed": true
   },
   "outputs": [],
   "source": [
    "cols = [\n",
    " '4QC_passing_',\n",
    " 'ANY/A_pass_def_',\n",
    " 'ANY/A_passing_',\n",
    " 'Att_pass_def_',\n",
    " 'Att_passing_',\n",
    " 'Att_rush_def_',\n",
    " 'Att_rushing_',\n",
    " 'Cmp_pass_def_',\n",
    " 'Cmp_passing_',\n",
    " 'DSRS_standings_',\n",
    " 'FGA_scoring_',\n",
    " 'FGA_scoring_def_',\n",
    " 'FGM_scoring_',\n",
    " 'FGM_scoring_def_',\n",
    " 'Fmb_rushing_',\n",
    " 'GWD_passing_',\n",
    " 'Int_pass_def_',\n",
    " 'Int_passing_',\n",
    " 'NY/A_pass_def_',\n",
    " 'NY/A_passing_',\n",
    " 'OSRS_standings_',\n",
    " 'PA_standings_',\n",
    " 'PD_standings_',\n",
    " 'Pts_scoring_',\n",
    " 'Rate_pass_def_',\n",
    " 'Rate_passing_',\n",
    " 'SRS_standings_',\n",
    " 'Sack_Yds_pass_def_',\n",
    " 'Sack_Yds_passing_',\n",
    " 'Sk_pass_def_',\n",
    " 'Sk_passing_',\n",
    " 'SoS_standings_',\n",
    " 'TD_pass_def_',\n",
    " 'TD_passing_',\n",
    " 'TD_rush_def_',\n",
    " 'TD_rushing_',\n",
    " 'W_standings_',\n",
    " 'Y/A_pass_def_',\n",
    " 'Y/A_passing_',\n",
    " 'Y/A_rush_def_',\n",
    " 'Y/A_rushing_',\n",
    " 'Y/C_pass_def_',\n",
    " 'Y/C_passing_',\n",
    " 'Yds_pass_def_',\n",
    " 'Yds_passing_',\n",
    " 'Yds_rush_def_',\n",
    " 'Yds_rushing_']"
   ]
  },
  {
   "cell_type": "code",
   "execution_count": 64,
   "metadata": {},
   "outputs": [
    {
     "data": {
      "text/plain": [
       "47"
      ]
     },
     "execution_count": 64,
     "metadata": {},
     "output_type": "execute_result"
    }
   ],
   "source": [
    "len(cols)"
   ]
  },
  {
   "cell_type": "code",
   "execution_count": 55,
   "metadata": {
    "collapsed": true
   },
   "outputs": [],
   "source": [
    "cols_year = []\n",
    "for i in cols:\n",
    "    for col in df.columns:\n",
    "        if i in col:\n",
    "            cols_year.append(col)"
   ]
  },
  {
   "cell_type": "code",
   "execution_count": 56,
   "metadata": {},
   "outputs": [],
   "source": [
    "df_new = df[cols_year]"
   ]
  },
  {
   "cell_type": "code",
   "execution_count": 63,
   "metadata": {},
   "outputs": [
    {
     "data": {
      "text/plain": [
       "(32, 427)"
      ]
     },
     "execution_count": 63,
     "metadata": {},
     "output_type": "execute_result"
    }
   ],
   "source": [
    "df_new.shape"
   ]
  },
  {
   "cell_type": "code",
   "execution_count": 65,
   "metadata": {},
   "outputs": [],
   "source": [
    "df_new = df_new.transpose().drop_duplicates().transpose()"
   ]
  },
  {
   "cell_type": "code",
   "execution_count": 66,
   "metadata": {},
   "outputs": [
    {
     "name": "stdout",
     "output_type": "stream",
     "text": [
      "(96, 148)\n"
     ]
    },
    {
     "data": {
      "text/html": [
       "<div>\n",
       "<style>\n",
       "    .dataframe thead tr:only-child th {\n",
       "        text-align: right;\n",
       "    }\n",
       "\n",
       "    .dataframe thead th {\n",
       "        text-align: left;\n",
       "    }\n",
       "\n",
       "    .dataframe tbody tr th {\n",
       "        vertical-align: top;\n",
       "    }\n",
       "</style>\n",
       "<table border=\"1\" class=\"dataframe\">\n",
       "  <thead>\n",
       "    <tr style=\"text-align: right;\">\n",
       "      <th></th>\n",
       "      <th>4QC_passing_py_2</th>\n",
       "      <th>4QC_passing_py_1</th>\n",
       "      <th>4QC_passing_py</th>\n",
       "      <th>ANY/A_pass_def_py_2</th>\n",
       "      <th>ANY/A_pass_def_py_1</th>\n",
       "      <th>ANY/A_pass_def_py</th>\n",
       "      <th>ANY/A_passing_py_2</th>\n",
       "      <th>ANY/A_passing_py_1</th>\n",
       "      <th>ANY/A_passing_py</th>\n",
       "      <th>Att_pass_def_py_2</th>\n",
       "      <th>...</th>\n",
       "      <th>Yds_passing_py_2</th>\n",
       "      <th>Yds_passing_py_1</th>\n",
       "      <th>Yds_passing_py</th>\n",
       "      <th>Yds_rush_def_py_2</th>\n",
       "      <th>Yds_rush_def_py_1</th>\n",
       "      <th>Yds_rush_def_py</th>\n",
       "      <th>Yds_rushing_py_2</th>\n",
       "      <th>Yds_rushing_py_1</th>\n",
       "      <th>Yds_rushing_py</th>\n",
       "      <th>W_standings_next</th>\n",
       "    </tr>\n",
       "  </thead>\n",
       "  <tbody>\n",
       "    <tr>\n",
       "      <th>Jacksonville Jaguars (2010-2012)</th>\n",
       "      <td>1.0</td>\n",
       "      <td>0.0</td>\n",
       "      <td>1.0</td>\n",
       "      <td>7.5</td>\n",
       "      <td>5.5</td>\n",
       "      <td>6.7</td>\n",
       "      <td>5.2</td>\n",
       "      <td>3.4</td>\n",
       "      <td>4.8</td>\n",
       "      <td>506.0</td>\n",
       "      <td>...</td>\n",
       "      <td>3065.0</td>\n",
       "      <td>2179.0</td>\n",
       "      <td>3419.0</td>\n",
       "      <td>1945.0</td>\n",
       "      <td>1667.0</td>\n",
       "      <td>2256.0</td>\n",
       "      <td>2395.0</td>\n",
       "      <td>1970.0</td>\n",
       "      <td>1369.0</td>\n",
       "      <td>4.0</td>\n",
       "    </tr>\n",
       "    <tr>\n",
       "      <th>Houston Texans (2010-2012)</th>\n",
       "      <td>2.0</td>\n",
       "      <td>1.0</td>\n",
       "      <td>3.0</td>\n",
       "      <td>7.5</td>\n",
       "      <td>4.5</td>\n",
       "      <td>5.6</td>\n",
       "      <td>6.7</td>\n",
       "      <td>7.0</td>\n",
       "      <td>6.3</td>\n",
       "      <td>547.0</td>\n",
       "      <td>...</td>\n",
       "      <td>4144.0</td>\n",
       "      <td>3506.0</td>\n",
       "      <td>3830.0</td>\n",
       "      <td>1751.0</td>\n",
       "      <td>1536.0</td>\n",
       "      <td>1560.0</td>\n",
       "      <td>2042.0</td>\n",
       "      <td>2448.0</td>\n",
       "      <td>2123.0</td>\n",
       "      <td>2.0</td>\n",
       "    </tr>\n",
       "    <tr>\n",
       "      <th>Tampa Bay Buccaneers (2010-2012)</th>\n",
       "      <td>5.0</td>\n",
       "      <td>1.0</td>\n",
       "      <td>1.0</td>\n",
       "      <td>5.2</td>\n",
       "      <td>7.5</td>\n",
       "      <td>7.0</td>\n",
       "      <td>6.9</td>\n",
       "      <td>4.7</td>\n",
       "      <td>6.3</td>\n",
       "      <td>521.0</td>\n",
       "      <td>...</td>\n",
       "      <td>3361.0</td>\n",
       "      <td>3650.0</td>\n",
       "      <td>3983.0</td>\n",
       "      <td>2107.0</td>\n",
       "      <td>2497.0</td>\n",
       "      <td>1320.0</td>\n",
       "      <td>2001.0</td>\n",
       "      <td>1458.0</td>\n",
       "      <td>1837.0</td>\n",
       "      <td>4.0</td>\n",
       "    </tr>\n",
       "    <tr>\n",
       "      <th>New York Jets (2010-2012)</th>\n",
       "      <td>4.0</td>\n",
       "      <td>4.0</td>\n",
       "      <td>2.0</td>\n",
       "      <td>5.5</td>\n",
       "      <td>4.9</td>\n",
       "      <td>5.6</td>\n",
       "      <td>5.4</td>\n",
       "      <td>5.1</td>\n",
       "      <td>4.3</td>\n",
       "      <td>531.0</td>\n",
       "      <td>...</td>\n",
       "      <td>3242.0</td>\n",
       "      <td>3297.0</td>\n",
       "      <td>2891.0</td>\n",
       "      <td>1454.0</td>\n",
       "      <td>1777.0</td>\n",
       "      <td>2138.0</td>\n",
       "      <td>2374.0</td>\n",
       "      <td>1692.0</td>\n",
       "      <td>1896.0</td>\n",
       "      <td>8.0</td>\n",
       "    </tr>\n",
       "    <tr>\n",
       "      <th>New York Giants (2010-2012)</th>\n",
       "      <td>1.0</td>\n",
       "      <td>7.0</td>\n",
       "      <td>3.0</td>\n",
       "      <td>5.4</td>\n",
       "      <td>5.9</td>\n",
       "      <td>6.4</td>\n",
       "      <td>6.1</td>\n",
       "      <td>7.4</td>\n",
       "      <td>6.6</td>\n",
       "      <td>539.0</td>\n",
       "      <td>...</td>\n",
       "      <td>3885.0</td>\n",
       "      <td>4734.0</td>\n",
       "      <td>3825.0</td>\n",
       "      <td>1620.0</td>\n",
       "      <td>1940.0</td>\n",
       "      <td>2066.0</td>\n",
       "      <td>2200.0</td>\n",
       "      <td>1427.0</td>\n",
       "      <td>1862.0</td>\n",
       "      <td>7.0</td>\n",
       "    </tr>\n",
       "  </tbody>\n",
       "</table>\n",
       "<p>5 rows × 148 columns</p>\n",
       "</div>"
      ],
      "text/plain": [
       "                                  4QC_passing_py_2  4QC_passing_py_1  \\\n",
       "Jacksonville Jaguars (2010-2012)               1.0               0.0   \n",
       "Houston Texans (2010-2012)                     2.0               1.0   \n",
       "Tampa Bay Buccaneers (2010-2012)               5.0               1.0   \n",
       "New York Jets (2010-2012)                      4.0               4.0   \n",
       "New York Giants (2010-2012)                    1.0               7.0   \n",
       "\n",
       "                                  4QC_passing_py  ANY/A_pass_def_py_2  \\\n",
       "Jacksonville Jaguars (2010-2012)             1.0                  7.5   \n",
       "Houston Texans (2010-2012)                   3.0                  7.5   \n",
       "Tampa Bay Buccaneers (2010-2012)             1.0                  5.2   \n",
       "New York Jets (2010-2012)                    2.0                  5.5   \n",
       "New York Giants (2010-2012)                  3.0                  5.4   \n",
       "\n",
       "                                  ANY/A_pass_def_py_1  ANY/A_pass_def_py  \\\n",
       "Jacksonville Jaguars (2010-2012)                  5.5                6.7   \n",
       "Houston Texans (2010-2012)                        4.5                5.6   \n",
       "Tampa Bay Buccaneers (2010-2012)                  7.5                7.0   \n",
       "New York Jets (2010-2012)                         4.9                5.6   \n",
       "New York Giants (2010-2012)                       5.9                6.4   \n",
       "\n",
       "                                  ANY/A_passing_py_2  ANY/A_passing_py_1  \\\n",
       "Jacksonville Jaguars (2010-2012)                 5.2                 3.4   \n",
       "Houston Texans (2010-2012)                       6.7                 7.0   \n",
       "Tampa Bay Buccaneers (2010-2012)                 6.9                 4.7   \n",
       "New York Jets (2010-2012)                        5.4                 5.1   \n",
       "New York Giants (2010-2012)                      6.1                 7.4   \n",
       "\n",
       "                                  ANY/A_passing_py  Att_pass_def_py_2  \\\n",
       "Jacksonville Jaguars (2010-2012)               4.8              506.0   \n",
       "Houston Texans (2010-2012)                     6.3              547.0   \n",
       "Tampa Bay Buccaneers (2010-2012)               6.3              521.0   \n",
       "New York Jets (2010-2012)                      4.3              531.0   \n",
       "New York Giants (2010-2012)                    6.6              539.0   \n",
       "\n",
       "                                        ...         Yds_passing_py_2  \\\n",
       "Jacksonville Jaguars (2010-2012)        ...                   3065.0   \n",
       "Houston Texans (2010-2012)              ...                   4144.0   \n",
       "Tampa Bay Buccaneers (2010-2012)        ...                   3361.0   \n",
       "New York Jets (2010-2012)               ...                   3242.0   \n",
       "New York Giants (2010-2012)             ...                   3885.0   \n",
       "\n",
       "                                  Yds_passing_py_1  Yds_passing_py  \\\n",
       "Jacksonville Jaguars (2010-2012)            2179.0          3419.0   \n",
       "Houston Texans (2010-2012)                  3506.0          3830.0   \n",
       "Tampa Bay Buccaneers (2010-2012)            3650.0          3983.0   \n",
       "New York Jets (2010-2012)                   3297.0          2891.0   \n",
       "New York Giants (2010-2012)                 4734.0          3825.0   \n",
       "\n",
       "                                  Yds_rush_def_py_2  Yds_rush_def_py_1  \\\n",
       "Jacksonville Jaguars (2010-2012)             1945.0             1667.0   \n",
       "Houston Texans (2010-2012)                   1751.0             1536.0   \n",
       "Tampa Bay Buccaneers (2010-2012)             2107.0             2497.0   \n",
       "New York Jets (2010-2012)                    1454.0             1777.0   \n",
       "New York Giants (2010-2012)                  1620.0             1940.0   \n",
       "\n",
       "                                  Yds_rush_def_py  Yds_rushing_py_2  \\\n",
       "Jacksonville Jaguars (2010-2012)           2256.0            2395.0   \n",
       "Houston Texans (2010-2012)                 1560.0            2042.0   \n",
       "Tampa Bay Buccaneers (2010-2012)           1320.0            2001.0   \n",
       "New York Jets (2010-2012)                  2138.0            2374.0   \n",
       "New York Giants (2010-2012)                2066.0            2200.0   \n",
       "\n",
       "                                  Yds_rushing_py_1  Yds_rushing_py  \\\n",
       "Jacksonville Jaguars (2010-2012)            1970.0          1369.0   \n",
       "Houston Texans (2010-2012)                  2448.0          2123.0   \n",
       "Tampa Bay Buccaneers (2010-2012)            1458.0          1837.0   \n",
       "New York Jets (2010-2012)                   1692.0          1896.0   \n",
       "New York Giants (2010-2012)                 1427.0          1862.0   \n",
       "\n",
       "                                  W_standings_next  \n",
       "Jacksonville Jaguars (2010-2012)               4.0  \n",
       "Houston Texans (2010-2012)                     2.0  \n",
       "Tampa Bay Buccaneers (2010-2012)               4.0  \n",
       "New York Jets (2010-2012)                      8.0  \n",
       "New York Giants (2010-2012)                    7.0  \n",
       "\n",
       "[5 rows x 148 columns]"
      ]
     },
     "execution_count": 66,
     "metadata": {},
     "output_type": "execute_result"
    }
   ],
   "source": [
    "#build three tear looks 2010-2012\n",
    "\n",
    "df_2010_2012 = df_new[[i for i in df_new.columns if ('2010' in i) | ('2011' in i)|('2012' in i)]]\n",
    "\n",
    "df_2010_2012 = df_2010_2012.join(df_new['W_standings_2013'])\n",
    "\n",
    "df_2010_2012.index = [i + ' (2010-2012)' for i in df_2010_2012.index]\n",
    "\n",
    "df_2010_2012.columns = df_2010_2012.columns.map(lambda x: x.replace('2010','py_2').replace('2011','py_1').replace('2012','py').replace('2013','next'))\n",
    "\n",
    "#build three tear looks 2011-2013\n",
    "df_2011_2013 = df_new[[i for i in df_new.columns if ('2011' in i) | ('2012' in i)|('2013' in i)]]\n",
    "\n",
    "df_2011_2013 = df_2011_2013.join(df_new['W_standings_2014'])\n",
    "\n",
    "df_2011_2013.index = [i + ' (2011-2013)' for i in df_2011_2013.index]\n",
    "\n",
    "df_2011_2013.columns = df_2011_2013.columns.map(lambda x: x.replace('2011','py_2').replace('2012','py_1').replace('2013','py').replace('2014','next'))\n",
    "\n",
    "#build three year looks 2012-2014\n",
    "df_2012_2014 = df_new[[i for i in df_new.columns if ('2012' in i) | ('2013' in i)|('2014' in i)]]\n",
    "\n",
    "df_2012_2014 = df_2012_2014.join(df_new['W_standings_2015'])\n",
    "\n",
    "df_2012_2014.index = [i + ' (2012-2014)' for i in df_2012_2014.index]\n",
    "\n",
    "df_2012_2014.columns = df_2012_2014.columns.map(lambda x: x.replace('2012','py_2').replace('2013','py_1').replace('2014','py').replace('2015','next'))\n",
    "\n",
    "#build three year looks 2013-2015\n",
    "\n",
    "df_2013_2015 = df_new[[i for i in df_new.columns if ('2013' in i) | ('2014' in i)|('2015' in i)]]\n",
    "\n",
    "df_2013_2015 = df_2013_2015.join(df_new['W_standings_2016'])\n",
    "\n",
    "df_2013_2015.index = [i + ' (2013-2015)' for i in df_2013_2015.index]\n",
    "\n",
    "df_2013_2015.columns = df_2013_2015.columns.map(lambda x: x.replace('2013','py_2').replace('2014','py_1').replace('2015','py').replace('2016','next'))\n",
    "\n",
    "df_three_year = pd.concat([df_2010_2012,df_2011_2013,df_2012_2014])\n",
    "\n",
    "print df_three_year.shape\n",
    "df_three_year.head()"
   ]
  },
  {
   "cell_type": "code",
   "execution_count": 97,
   "metadata": {
    "collapsed": true
   },
   "outputs": [],
   "source": [
    "Xtrain = df_three_year.iloc[:,:-1]\n",
    "ytrain = df_three_year['W_standings_next']\n",
    "Xtest = df_2013_2015.iloc[:,:-1]\n",
    "ytest = df_2013_2015['W_standings_next']"
   ]
  },
  {
   "cell_type": "code",
   "execution_count": 68,
   "metadata": {},
   "outputs": [
    {
     "data": {
      "text/plain": [
       "(96, 147)"
      ]
     },
     "execution_count": 68,
     "metadata": {},
     "output_type": "execute_result"
    }
   ],
   "source": [
    "Xtrain.shape"
   ]
  },
  {
   "cell_type": "code",
   "execution_count": 69,
   "metadata": {
    "collapsed": true
   },
   "outputs": [],
   "source": [
    "ss = StandardScaler()"
   ]
  },
  {
   "cell_type": "code",
   "execution_count": 98,
   "metadata": {},
   "outputs": [],
   "source": [
    "Xstd = ss.fit_transform(Xtrain)\n",
    "Xtest_std = ss.transform(Xtest)"
   ]
  },
  {
   "cell_type": "code",
   "execution_count": 71,
   "metadata": {
    "collapsed": true
   },
   "outputs": [],
   "source": [
    "enet = ElasticNetCV(l1_ratio=[.1, .5, .7, .9, .95, .99, 1],random_state=42)"
   ]
  },
  {
   "cell_type": "code",
   "execution_count": 72,
   "metadata": {},
   "outputs": [
    {
     "data": {
      "text/plain": [
       "ElasticNetCV(alphas=None, copy_X=True, cv=None, eps=0.001, fit_intercept=True,\n",
       "       l1_ratio=[0.1, 0.5, 0.7, 0.9, 0.95, 0.99, 1], max_iter=1000,\n",
       "       n_alphas=100, n_jobs=1, normalize=False, positive=False,\n",
       "       precompute='auto', random_state=42, selection='cyclic', tol=0.0001,\n",
       "       verbose=0)"
      ]
     },
     "execution_count": 72,
     "metadata": {},
     "output_type": "execute_result"
    }
   ],
   "source": [
    "enet.fit(Xstd,ytrain)"
   ]
  },
  {
   "cell_type": "code",
   "execution_count": 73,
   "metadata": {},
   "outputs": [
    {
     "data": {
      "text/plain": [
       "3.5553815546156629"
      ]
     },
     "execution_count": 73,
     "metadata": {},
     "output_type": "execute_result"
    }
   ],
   "source": [
    "enet.alpha_"
   ]
  },
  {
   "cell_type": "code",
   "execution_count": 74,
   "metadata": {},
   "outputs": [
    {
     "data": {
      "text/plain": [
       "0.10000000000000001"
      ]
     },
     "execution_count": 74,
     "metadata": {},
     "output_type": "execute_result"
    }
   ],
   "source": [
    "enet.l1_ratio_"
   ]
  },
  {
   "cell_type": "code",
   "execution_count": 75,
   "metadata": {},
   "outputs": [
    {
     "data": {
      "text/plain": [
       "array([-0.        ,  0.04224822,  0.        , -0.01017118, -0.        ,\n",
       "       -0.        ,  0.        ,  0.        ,  0.02081257,  0.        ,\n",
       "       -0.        ,  0.        , -0.        ,  0.        ,  0.        ,\n",
       "       -0.        , -0.        , -0.        ,  0.        ,  0.01608779,\n",
       "        0.00701093, -0.        , -0.        , -0.        ,  0.        ,\n",
       "        0.        ,  0.        ,  0.        ,  0.        ,  0.0226304 ,\n",
       "       -0.        , -0.        ,  0.00277617,  0.        , -0.        ,\n",
       "        0.        , -0.        , -0.        ,  0.00614631,  0.        ,\n",
       "       -0.        , -0.        , -0.        ,  0.        ,  0.        ,\n",
       "       -0.        ,  0.02580125,  0.        ,  0.        , -0.        ,\n",
       "       -0.        , -0.        , -0.        , -0.00321722, -0.0119275 ,\n",
       "       -0.        , -0.02972801,  0.        ,  0.        ,  0.01075271,\n",
       "        0.        ,  0.03144116,  0.04043797, -0.        , -0.01994559,\n",
       "       -0.04486585,  0.00875093,  0.04832762,  0.08737901,  0.        ,\n",
       "        0.00581344,  0.05045265, -0.00075813, -0.        , -0.        ,\n",
       "        0.        ,  0.        ,  0.0056175 ,  0.        ,  0.04477884,\n",
       "        0.06873061,  0.03749225,  0.04710445,  0.        , -0.        ,\n",
       "        0.        , -0.        ,  0.01660669,  0.06909945,  0.        ,\n",
       "        0.        ,  0.        , -0.        , -0.01267166, -0.        ,\n",
       "       -0.        , -0.        , -0.        , -0.        ,  0.00343816,\n",
       "        0.        ,  0.        , -0.        , -0.0592124 , -0.09400916,\n",
       "        0.        ,  0.03325462,  0.        ,  0.00621699,  0.04867177,\n",
       "        0.06164113, -0.        , -0.        , -0.        , -0.        ,\n",
       "       -0.        , -0.00266395,  0.        ,  0.        ,  0.02228813,\n",
       "        0.        ,  0.        ,  0.00367844, -0.        , -0.        ,\n",
       "        0.        , -0.        ,  0.        ,  0.        , -0.        ,\n",
       "        0.        , -0.        ,  0.        , -0.        ,  0.        ,\n",
       "       -0.        , -0.        , -0.        ,  0.        ,  0.        ,\n",
       "        0.00439412, -0.        , -0.        , -0.        ,  0.        ,\n",
       "        0.        ,  0.        ])"
      ]
     },
     "execution_count": 75,
     "metadata": {},
     "output_type": "execute_result"
    }
   ],
   "source": [
    "enet.coef_"
   ]
  },
  {
   "cell_type": "code",
   "execution_count": 76,
   "metadata": {},
   "outputs": [],
   "source": [
    "scores = cross_val_score(enet,Xstd,ytrain,cv=3)"
   ]
  },
  {
   "cell_type": "code",
   "execution_count": 77,
   "metadata": {},
   "outputs": [
    {
     "name": "stdout",
     "output_type": "stream",
     "text": [
      "0.0485772875504 0.0599345859548\n"
     ]
    }
   ],
   "source": [
    "print scores.mean(), scores.std()"
   ]
  },
  {
   "cell_type": "code",
   "execution_count": 34,
   "metadata": {
    "collapsed": true
   },
   "outputs": [],
   "source": [
    "from sklearn.decomposition import PCA"
   ]
  },
  {
   "cell_type": "code",
   "execution_count": 78,
   "metadata": {
    "collapsed": true
   },
   "outputs": [],
   "source": [
    "pca = PCA()"
   ]
  },
  {
   "cell_type": "code",
   "execution_count": 102,
   "metadata": {},
   "outputs": [],
   "source": [
    "pca_top_30 = pca.fit_transform(Xstd)[:,:30]\n",
    "pca_test = pca.transform(Xtest_std)[:,:30]"
   ]
  },
  {
   "cell_type": "code",
   "execution_count": 85,
   "metadata": {},
   "outputs": [
    {
     "data": {
      "text/plain": [
       "array([ 0.1726538 ,  0.28625671,  0.36735916,  0.42875043,  0.4802561 ,\n",
       "        0.5259727 ,  0.56542868,  0.59269093,  0.6180418 ,  0.64202549,\n",
       "        0.66473959,  0.68544913,  0.70495891,  0.72380155,  0.74051086,\n",
       "        0.75648621,  0.77138927,  0.78535072,  0.79894085,  0.81183974,\n",
       "        0.82355569,  0.83509441,  0.84594928,  0.85620302,  0.86619457,\n",
       "        0.87562234,  0.88416089,  0.89193133,  0.89938112,  0.90622906,\n",
       "        0.91268657,  0.91898125,  0.92472212,  0.92984413,  0.93456115,\n",
       "        0.93917473,  0.9433849 ,  0.94752434,  0.95137508,  0.95496635,\n",
       "        0.95853457,  0.96168543,  0.96474521,  0.96748734,  0.9700605 ,\n",
       "        0.97251999,  0.97475944,  0.97684206,  0.97874553,  0.98054827,\n",
       "        0.98220955,  0.98362981,  0.98501576,  0.98626148,  0.98742942,\n",
       "        0.98849367,  0.98946115,  0.99042001,  0.99127379,  0.99209206,\n",
       "        0.99286559,  0.9935859 ,  0.99418217,  0.99474658,  0.99524789,\n",
       "        0.99572647,  0.99614896,  0.99653674,  0.99692254,  0.99727316,\n",
       "        0.9975924 ,  0.99789089,  0.99814432,  0.99838828,  0.99860482,\n",
       "        0.9988035 ,  0.99896599,  0.99911998,  0.99927151,  0.9993937 ,\n",
       "        0.99950772,  0.99959742,  0.99967546,  0.99974037,  0.99979634,\n",
       "        0.99984097,  0.99987871,  0.99990426,  0.99992887,  0.99994987,\n",
       "        0.99996419,  0.9999766 ,  0.99998612,  0.99999373,  1.        ,  1.        ])"
      ]
     },
     "execution_count": 85,
     "metadata": {},
     "output_type": "execute_result"
    }
   ],
   "source": [
    "pca.explained_variance_ratio_.cumsum()"
   ]
  },
  {
   "cell_type": "code",
   "execution_count": 80,
   "metadata": {},
   "outputs": [
    {
     "data": {
      "text/plain": [
       "array([[ 0.05869555,  0.0486046 ,  0.05869503, ...,  0.02222261,\n",
       "         0.02183273,  0.03635104],\n",
       "       [-0.0208485 ,  0.01611343,  0.03292784, ...,  0.03747071,\n",
       "         0.09066251,  0.08327204],\n",
       "       [-0.0058356 ,  0.0198135 ,  0.0594175 , ..., -0.09532162,\n",
       "         0.04272951,  0.06948617],\n",
       "       ..., \n",
       "       [ 0.03037622,  0.0148778 ,  0.08286974, ...,  0.01330087,\n",
       "        -0.0373054 , -0.03066531],\n",
       "       [-0.08004399, -0.03219613, -0.02244327, ..., -0.10128559,\n",
       "         0.02041513, -0.04719302],\n",
       "       [-0.00998518, -0.02850332,  0.0458582 , ..., -0.05314924,\n",
       "        -0.02557196,  0.0568885 ]])"
      ]
     },
     "execution_count": 80,
     "metadata": {},
     "output_type": "execute_result"
    }
   ],
   "source": [
    "pca.components_"
   ]
  },
  {
   "cell_type": "code",
   "execution_count": 271,
   "metadata": {},
   "outputs": [
    {
     "data": {
      "text/html": [
       "<div>\n",
       "<style>\n",
       "    .dataframe thead tr:only-child th {\n",
       "        text-align: right;\n",
       "    }\n",
       "\n",
       "    .dataframe thead th {\n",
       "        text-align: left;\n",
       "    }\n",
       "\n",
       "    .dataframe tbody tr th {\n",
       "        vertical-align: top;\n",
       "    }\n",
       "</style>\n",
       "<table border=\"1\" class=\"dataframe\">\n",
       "  <thead>\n",
       "    <tr style=\"text-align: right;\">\n",
       "      <th></th>\n",
       "      <th>column</th>\n",
       "      <th>weight</th>\n",
       "    </tr>\n",
       "  </thead>\n",
       "  <tbody>\n",
       "    <tr>\n",
       "      <th>67</th>\n",
       "      <td>PD_standings_py_1</td>\n",
       "      <td>0.156006</td>\n",
       "    </tr>\n",
       "    <tr>\n",
       "      <th>76</th>\n",
       "      <td>Rate_passing_py_1</td>\n",
       "      <td>0.153691</td>\n",
       "    </tr>\n",
       "    <tr>\n",
       "      <th>79</th>\n",
       "      <td>SRS_standings_py_1</td>\n",
       "      <td>0.152690</td>\n",
       "    </tr>\n",
       "    <tr>\n",
       "      <th>118</th>\n",
       "      <td>AY/A_passing_py_1</td>\n",
       "      <td>0.152256</td>\n",
       "    </tr>\n",
       "    <tr>\n",
       "      <th>7</th>\n",
       "      <td>ANY/A_passing_py_1</td>\n",
       "      <td>0.151877</td>\n",
       "    </tr>\n",
       "    <tr>\n",
       "      <th>61</th>\n",
       "      <td>OSRS_standings_py_1</td>\n",
       "      <td>0.151773</td>\n",
       "    </tr>\n",
       "    <tr>\n",
       "      <th>70</th>\n",
       "      <td>Pts_scoring_py_1</td>\n",
       "      <td>0.149938</td>\n",
       "    </tr>\n",
       "    <tr>\n",
       "      <th>66</th>\n",
       "      <td>PD_standings_py_2</td>\n",
       "      <td>0.145314</td>\n",
       "    </tr>\n",
       "    <tr>\n",
       "      <th>78</th>\n",
       "      <td>SRS_standings_py_2</td>\n",
       "      <td>0.144750</td>\n",
       "    </tr>\n",
       "    <tr>\n",
       "      <th>109</th>\n",
       "      <td>W_standings_py_1</td>\n",
       "      <td>0.143706</td>\n",
       "    </tr>\n",
       "    <tr>\n",
       "      <th>75</th>\n",
       "      <td>Rate_passing_py_2</td>\n",
       "      <td>0.137592</td>\n",
       "    </tr>\n",
       "    <tr>\n",
       "      <th>60</th>\n",
       "      <td>OSRS_standings_py_2</td>\n",
       "      <td>0.136910</td>\n",
       "    </tr>\n",
       "    <tr>\n",
       "      <th>117</th>\n",
       "      <td>AY/A_passing_py_2</td>\n",
       "      <td>0.136902</td>\n",
       "    </tr>\n",
       "    <tr>\n",
       "      <th>71</th>\n",
       "      <td>Pts_scoring_py</td>\n",
       "      <td>0.136081</td>\n",
       "    </tr>\n",
       "    <tr>\n",
       "      <th>121</th>\n",
       "      <td>Y/A_passing_py_1</td>\n",
       "      <td>0.136069</td>\n",
       "    </tr>\n",
       "    <tr>\n",
       "      <th>58</th>\n",
       "      <td>NY/A_passing_py_1</td>\n",
       "      <td>0.135637</td>\n",
       "    </tr>\n",
       "    <tr>\n",
       "      <th>100</th>\n",
       "      <td>TD_passing_py_1</td>\n",
       "      <td>0.135200</td>\n",
       "    </tr>\n",
       "    <tr>\n",
       "      <th>8</th>\n",
       "      <td>ANY/A_passing_py</td>\n",
       "      <td>0.134757</td>\n",
       "    </tr>\n",
       "    <tr>\n",
       "      <th>6</th>\n",
       "      <td>ANY/A_passing_py_2</td>\n",
       "      <td>0.134477</td>\n",
       "    </tr>\n",
       "    <tr>\n",
       "      <th>62</th>\n",
       "      <td>OSRS_standings_py</td>\n",
       "      <td>0.133954</td>\n",
       "    </tr>\n",
       "    <tr>\n",
       "      <th>77</th>\n",
       "      <td>Rate_passing_py</td>\n",
       "      <td>0.132878</td>\n",
       "    </tr>\n",
       "    <tr>\n",
       "      <th>68</th>\n",
       "      <td>PD_standings_py</td>\n",
       "      <td>0.132850</td>\n",
       "    </tr>\n",
       "    <tr>\n",
       "      <th>119</th>\n",
       "      <td>AY/A_passing_py</td>\n",
       "      <td>0.131736</td>\n",
       "    </tr>\n",
       "    <tr>\n",
       "      <th>69</th>\n",
       "      <td>Pts_scoring_py_2</td>\n",
       "      <td>0.130690</td>\n",
       "    </tr>\n",
       "    <tr>\n",
       "      <th>108</th>\n",
       "      <td>W_standings_py_2</td>\n",
       "      <td>0.129534</td>\n",
       "    </tr>\n",
       "    <tr>\n",
       "      <th>59</th>\n",
       "      <td>NY/A_passing_py</td>\n",
       "      <td>0.128854</td>\n",
       "    </tr>\n",
       "    <tr>\n",
       "      <th>80</th>\n",
       "      <td>SRS_standings_py</td>\n",
       "      <td>0.125799</td>\n",
       "    </tr>\n",
       "    <tr>\n",
       "      <th>110</th>\n",
       "      <td>W_standings_py</td>\n",
       "      <td>0.124805</td>\n",
       "    </tr>\n",
       "    <tr>\n",
       "      <th>120</th>\n",
       "      <td>Y/A_passing_py_2</td>\n",
       "      <td>0.122408</td>\n",
       "    </tr>\n",
       "    <tr>\n",
       "      <th>122</th>\n",
       "      <td>Y/A_passing_py</td>\n",
       "      <td>0.122127</td>\n",
       "    </tr>\n",
       "    <tr>\n",
       "      <th>...</th>\n",
       "      <td>...</td>\n",
       "      <td>...</td>\n",
       "    </tr>\n",
       "    <tr>\n",
       "      <th>72</th>\n",
       "      <td>Rate_pass_def_py_2</td>\n",
       "      <td>-0.054740</td>\n",
       "    </tr>\n",
       "    <tr>\n",
       "      <th>113</th>\n",
       "      <td>AY/A_pass_def_py</td>\n",
       "      <td>-0.055279</td>\n",
       "    </tr>\n",
       "    <tr>\n",
       "      <th>41</th>\n",
       "      <td>FGM_scoring_def_py</td>\n",
       "      <td>-0.055632</td>\n",
       "    </tr>\n",
       "    <tr>\n",
       "      <th>33</th>\n",
       "      <td>FGA_scoring_def_py_2</td>\n",
       "      <td>-0.055938</td>\n",
       "    </tr>\n",
       "    <tr>\n",
       "      <th>40</th>\n",
       "      <td>FGM_scoring_def_py_1</td>\n",
       "      <td>-0.058267</td>\n",
       "    </tr>\n",
       "    <tr>\n",
       "      <th>74</th>\n",
       "      <td>Rate_pass_def_py</td>\n",
       "      <td>-0.060304</td>\n",
       "    </tr>\n",
       "    <tr>\n",
       "      <th>91</th>\n",
       "      <td>Sk_passing_py_1</td>\n",
       "      <td>-0.061211</td>\n",
       "    </tr>\n",
       "    <tr>\n",
       "      <th>3</th>\n",
       "      <td>ANY/A_pass_def_py_2</td>\n",
       "      <td>-0.062464</td>\n",
       "    </tr>\n",
       "    <tr>\n",
       "      <th>112</th>\n",
       "      <td>AY/A_pass_def_py_1</td>\n",
       "      <td>-0.064220</td>\n",
       "    </tr>\n",
       "    <tr>\n",
       "      <th>85</th>\n",
       "      <td>Sack_Yds_passing_py_1</td>\n",
       "      <td>-0.064418</td>\n",
       "    </tr>\n",
       "    <tr>\n",
       "      <th>142</th>\n",
       "      <td>Yds_rush_def_py_1</td>\n",
       "      <td>-0.065010</td>\n",
       "    </tr>\n",
       "    <tr>\n",
       "      <th>4</th>\n",
       "      <td>ANY/A_pass_def_py_1</td>\n",
       "      <td>-0.066539</td>\n",
       "    </tr>\n",
       "    <tr>\n",
       "      <th>42</th>\n",
       "      <td>Fmb_rushing_py_2</td>\n",
       "      <td>-0.067661</td>\n",
       "    </tr>\n",
       "    <tr>\n",
       "      <th>86</th>\n",
       "      <td>Sack_Yds_passing_py</td>\n",
       "      <td>-0.069716</td>\n",
       "    </tr>\n",
       "    <tr>\n",
       "      <th>73</th>\n",
       "      <td>Rate_pass_def_py_1</td>\n",
       "      <td>-0.069916</td>\n",
       "    </tr>\n",
       "    <tr>\n",
       "      <th>65</th>\n",
       "      <td>PA_standings_py</td>\n",
       "      <td>-0.070609</td>\n",
       "    </tr>\n",
       "    <tr>\n",
       "      <th>35</th>\n",
       "      <td>FGA_scoring_def_py</td>\n",
       "      <td>-0.072062</td>\n",
       "    </tr>\n",
       "    <tr>\n",
       "      <th>53</th>\n",
       "      <td>Int_passing_py</td>\n",
       "      <td>-0.074864</td>\n",
       "    </tr>\n",
       "    <tr>\n",
       "      <th>34</th>\n",
       "      <td>FGA_scoring_def_py_1</td>\n",
       "      <td>-0.075438</td>\n",
       "    </tr>\n",
       "    <tr>\n",
       "      <th>92</th>\n",
       "      <td>Sk_passing_py</td>\n",
       "      <td>-0.078757</td>\n",
       "    </tr>\n",
       "    <tr>\n",
       "      <th>103</th>\n",
       "      <td>TD_rush_def_py_1</td>\n",
       "      <td>-0.081714</td>\n",
       "    </tr>\n",
       "    <tr>\n",
       "      <th>64</th>\n",
       "      <td>PA_standings_py_1</td>\n",
       "      <td>-0.084277</td>\n",
       "    </tr>\n",
       "    <tr>\n",
       "      <th>51</th>\n",
       "      <td>Int_passing_py_2</td>\n",
       "      <td>-0.085001</td>\n",
       "    </tr>\n",
       "    <tr>\n",
       "      <th>141</th>\n",
       "      <td>Yds_rush_def_py_2</td>\n",
       "      <td>-0.086023</td>\n",
       "    </tr>\n",
       "    <tr>\n",
       "      <th>102</th>\n",
       "      <td>TD_rush_def_py_2</td>\n",
       "      <td>-0.090331</td>\n",
       "    </tr>\n",
       "    <tr>\n",
       "      <th>17</th>\n",
       "      <td>Att_rush_def_py</td>\n",
       "      <td>-0.091041</td>\n",
       "    </tr>\n",
       "    <tr>\n",
       "      <th>52</th>\n",
       "      <td>Int_passing_py_1</td>\n",
       "      <td>-0.091554</td>\n",
       "    </tr>\n",
       "    <tr>\n",
       "      <th>63</th>\n",
       "      <td>PA_standings_py_2</td>\n",
       "      <td>-0.091878</td>\n",
       "    </tr>\n",
       "    <tr>\n",
       "      <th>16</th>\n",
       "      <td>Att_rush_def_py_1</td>\n",
       "      <td>-0.107452</td>\n",
       "    </tr>\n",
       "    <tr>\n",
       "      <th>15</th>\n",
       "      <td>Att_rush_def_py_2</td>\n",
       "      <td>-0.109244</td>\n",
       "    </tr>\n",
       "  </tbody>\n",
       "</table>\n",
       "<p>147 rows × 2 columns</p>\n",
       "</div>"
      ],
      "text/plain": [
       "                    column    weight\n",
       "67       PD_standings_py_1  0.156006\n",
       "76       Rate_passing_py_1  0.153691\n",
       "79      SRS_standings_py_1  0.152690\n",
       "118      AY/A_passing_py_1  0.152256\n",
       "7       ANY/A_passing_py_1  0.151877\n",
       "61     OSRS_standings_py_1  0.151773\n",
       "70        Pts_scoring_py_1  0.149938\n",
       "66       PD_standings_py_2  0.145314\n",
       "78      SRS_standings_py_2  0.144750\n",
       "109       W_standings_py_1  0.143706\n",
       "75       Rate_passing_py_2  0.137592\n",
       "60     OSRS_standings_py_2  0.136910\n",
       "117      AY/A_passing_py_2  0.136902\n",
       "71          Pts_scoring_py  0.136081\n",
       "121       Y/A_passing_py_1  0.136069\n",
       "58       NY/A_passing_py_1  0.135637\n",
       "100        TD_passing_py_1  0.135200\n",
       "8         ANY/A_passing_py  0.134757\n",
       "6       ANY/A_passing_py_2  0.134477\n",
       "62       OSRS_standings_py  0.133954\n",
       "77         Rate_passing_py  0.132878\n",
       "68         PD_standings_py  0.132850\n",
       "119        AY/A_passing_py  0.131736\n",
       "69        Pts_scoring_py_2  0.130690\n",
       "108       W_standings_py_2  0.129534\n",
       "59         NY/A_passing_py  0.128854\n",
       "80        SRS_standings_py  0.125799\n",
       "110         W_standings_py  0.124805\n",
       "120       Y/A_passing_py_2  0.122408\n",
       "122         Y/A_passing_py  0.122127\n",
       "..                     ...       ...\n",
       "72      Rate_pass_def_py_2 -0.054740\n",
       "113       AY/A_pass_def_py -0.055279\n",
       "41      FGM_scoring_def_py -0.055632\n",
       "33    FGA_scoring_def_py_2 -0.055938\n",
       "40    FGM_scoring_def_py_1 -0.058267\n",
       "74        Rate_pass_def_py -0.060304\n",
       "91         Sk_passing_py_1 -0.061211\n",
       "3      ANY/A_pass_def_py_2 -0.062464\n",
       "112     AY/A_pass_def_py_1 -0.064220\n",
       "85   Sack_Yds_passing_py_1 -0.064418\n",
       "142      Yds_rush_def_py_1 -0.065010\n",
       "4      ANY/A_pass_def_py_1 -0.066539\n",
       "42        Fmb_rushing_py_2 -0.067661\n",
       "86     Sack_Yds_passing_py -0.069716\n",
       "73      Rate_pass_def_py_1 -0.069916\n",
       "65         PA_standings_py -0.070609\n",
       "35      FGA_scoring_def_py -0.072062\n",
       "53          Int_passing_py -0.074864\n",
       "34    FGA_scoring_def_py_1 -0.075438\n",
       "92           Sk_passing_py -0.078757\n",
       "103       TD_rush_def_py_1 -0.081714\n",
       "64       PA_standings_py_1 -0.084277\n",
       "51        Int_passing_py_2 -0.085001\n",
       "141      Yds_rush_def_py_2 -0.086023\n",
       "102       TD_rush_def_py_2 -0.090331\n",
       "17         Att_rush_def_py -0.091041\n",
       "52        Int_passing_py_1 -0.091554\n",
       "63       PA_standings_py_2 -0.091878\n",
       "16       Att_rush_def_py_1 -0.107452\n",
       "15       Att_rush_def_py_2 -0.109244\n",
       "\n",
       "[147 rows x 2 columns]"
      ]
     },
     "execution_count": 271,
     "metadata": {},
     "output_type": "execute_result"
    }
   ],
   "source": [
    "pca1_evec = pca.components_[0]\n",
    "\n",
    "pd.DataFrame({'column':Xtrain.columns,'weight':pca1_evec}).sort_values('weight',ascending=False)\n"
   ]
  },
  {
   "cell_type": "code",
   "execution_count": 272,
   "metadata": {},
   "outputs": [
    {
     "data": {
      "text/plain": [
       "ElasticNetCV(alphas=None, copy_X=True, cv=None, eps=0.001, fit_intercept=True,\n",
       "       l1_ratio=[0.1, 0.5, 0.7, 0.9, 0.95, 0.99, 1], max_iter=1000,\n",
       "       n_alphas=100, n_jobs=1, normalize=False, positive=False,\n",
       "       precompute='auto', random_state=42, selection='cyclic', tol=0.0001,\n",
       "       verbose=0)"
      ]
     },
     "execution_count": 272,
     "metadata": {},
     "output_type": "execute_result"
    }
   ],
   "source": [
    "enet.fit(pca_top_30,ytrain)"
   ]
  },
  {
   "cell_type": "code",
   "execution_count": 273,
   "metadata": {},
   "outputs": [
    {
     "data": {
      "text/plain": [
       "1.68994164515366"
      ]
     },
     "execution_count": 273,
     "metadata": {},
     "output_type": "execute_result"
    }
   ],
   "source": [
    "enet.alpha_"
   ]
  },
  {
   "cell_type": "code",
   "execution_count": 274,
   "metadata": {},
   "outputs": [
    {
     "data": {
      "text/plain": [
       "0.5"
      ]
     },
     "execution_count": 274,
     "metadata": {},
     "output_type": "execute_result"
    }
   ],
   "source": [
    "enet.l1_ratio_"
   ]
  },
  {
   "cell_type": "code",
   "execution_count": 275,
   "metadata": {},
   "outputs": [
    {
     "data": {
      "text/plain": [
       "array([ 0.17976582,  0.08503968,  0.01184904,  0.        , -0.        ,\n",
       "       -0.        ,  0.        , -0.        ,  0.        ,  0.        ,\n",
       "       -0.        ,  0.        , -0.        ,  0.        , -0.        ,\n",
       "        0.        , -0.        ,  0.        ,  0.        , -0.        ,\n",
       "       -0.        , -0.        ,  0.        , -0.        ,  0.        ,\n",
       "        0.        ,  0.        , -0.        ,  0.        ,  0.        ])"
      ]
     },
     "execution_count": 275,
     "metadata": {},
     "output_type": "execute_result"
    }
   ],
   "source": [
    "enet.coef_"
   ]
  },
  {
   "cell_type": "code",
   "execution_count": 94,
   "metadata": {},
   "outputs": [
    {
     "name": "stdout",
     "output_type": "stream",
     "text": [
      "0.0865991939312 0.0643387652471\n"
     ]
    }
   ],
   "source": [
    "scores = cross_val_score(enet,pca_top_30,ytrain,cv=3)\n",
    "print scores.mean(), scores.std()"
   ]
  },
  {
   "cell_type": "code",
   "execution_count": 276,
   "metadata": {},
   "outputs": [
    {
     "data": {
      "text/plain": [
       "0.056125296608229736"
      ]
     },
     "execution_count": 276,
     "metadata": {},
     "output_type": "execute_result"
    }
   ],
   "source": [
    "enet.score(pca_test,ytest)"
   ]
  },
  {
   "cell_type": "code",
   "execution_count": 105,
   "metadata": {},
   "outputs": [],
   "source": [
    "ypred = enet.predict(pca_test)"
   ]
  },
  {
   "cell_type": "code",
   "execution_count": 269,
   "metadata": {},
   "outputs": [
    {
     "data": {
      "text/plain": [
       "<matplotlib.text.Text at 0x108973d10>"
      ]
     },
     "execution_count": 269,
     "metadata": {},
     "output_type": "execute_result"
    },
    {
     "data": {
      "image/png": "[encoded data removed]",
      "text/plain": [
       "<matplotlib.figure.Figure at 0x11bff9a90>"
      ]
     },
     "metadata": {},
     "output_type": "display_data"
    }
   ],
   "source": [
    "plt.figure(figsize=(8,8))\n",
    "plt.scatter(ytest,ypred)\n",
    "plt.plot(ytest,ytest)\n",
    "plt.title('Win Predictions vs 2016 Actual Wins',fontsize=18)\n",
    "plt.xlabel('Actual Wins',fontsize=16)\n",
    "plt.ylabel('Predicted Wins',fontsize=16)"
   ]
  },
  {
   "cell_type": "code",
   "execution_count": 257,
   "metadata": {},
   "outputs": [],
   "source": [
    "pca_top_30_std = ss.fit_transform(pca_top_30)\n",
    "pca_test_std = ss.transform(pca_test)"
   ]
  },
  {
   "cell_type": "code",
   "execution_count": 262,
   "metadata": {},
   "outputs": [
    {
     "data": {
      "text/plain": [
       "ElasticNetCV(alphas=None, copy_X=True, cv=None, eps=0.001, fit_intercept=True,\n",
       "       l1_ratio=[0.1, 0.5, 0.7, 0.9, 0.95, 0.99, 1], max_iter=1000,\n",
       "       n_alphas=100, n_jobs=1, normalize=False, positive=False,\n",
       "       precompute='auto', random_state=42, selection='cyclic', tol=0.0001,\n",
       "       verbose=0)"
      ]
     },
     "execution_count": 262,
     "metadata": {},
     "output_type": "execute_result"
    }
   ],
   "source": [
    "enet.fit(pca_top_30_std,ytrain)"
   ]
  },
  {
   "cell_type": "code",
   "execution_count": 263,
   "metadata": {},
   "outputs": [
    {
     "name": "stdout",
     "output_type": "stream",
     "text": [
      "0.58891080175\n",
      "[ 0.51460052  0.          0.          0.         -0.         -0.          0.\n",
      " -0.          0.          0.         -0.          0.         -0.          0.\n",
      " -0.          0.         -0.          0.          0.         -0.         -0.\n",
      " -0.          0.         -0.          0.          0.          0.         -0.\n",
      "  0.09095557  0.        ]\n",
      "1.0\n"
     ]
    }
   ],
   "source": [
    "print enet.alpha_\n",
    "print enet.coef_\n",
    "print enet.l1_ratio_"
   ]
  },
  {
   "cell_type": "code",
   "execution_count": 264,
   "metadata": {},
   "outputs": [
    {
     "name": "stdout",
     "output_type": "stream",
     "text": [
      "-0.0196523371571 0.0436778589985\n"
     ]
    }
   ],
   "source": [
    "scores = cross_val_score(enet,pca_top_30_std,ytrain,cv=3)\n",
    "print scores.mean(), scores.std()"
   ]
  },
  {
   "cell_type": "code",
   "execution_count": 107,
   "metadata": {},
   "outputs": [
    {
     "data": {
      "text/plain": [
       "[('Jacksonville Jaguars (2013-2015)', 6.1839680537229347),\n",
       " ('Houston Texans (2013-2015)', 8.1625032548636209),\n",
       " ('Tampa Bay Buccaneers (2013-2015)', 6.952045034372623),\n",
       " ('New York Jets (2013-2015)', 7.9317713612071659),\n",
       " ('New York Giants (2013-2015)', 7.379895388908988),\n",
       " ('Cleveland Browns (2013-2015)', 7.0077580465680782),\n",
       " ('Miami Dolphins (2013-2015)', 7.3146610956804858),\n",
       " ('Baltimore Ravens (2013-2015)', 7.892124057311074),\n",
       " ('Oakland Raiders (2013-2015)', 6.58403113501865),\n",
       " ('Washington Redskins (2013-2015)', 7.057455438066695),\n",
       " ('Buffalo Bills (2013-2015)', 8.5366417669864916),\n",
       " ('St. Louis Rams (2013-2015)', 7.5586039076399771),\n",
       " ('Atlanta Falcons (2013-2015)', 7.237100933958061),\n",
       " ('Tennessee Titans (2013-2015)', 6.5721636822785303),\n",
       " ('Carolina Panthers (2013-2015)', 9.4629757211279522),\n",
       " ('Pittsburgh Steelers (2013-2015)', 8.5491749261766277),\n",
       " ('Arizona Cardinals (2013-2015)', 9.1810296292138176),\n",
       " ('Indianapolis Colts (2013-2015)', 7.8723569907115003),\n",
       " ('Minnesota Vikings (2013-2015)', 7.8003282473344209),\n",
       " ('Detroit Lions (2013-2015)', 8.134641996065298),\n",
       " ('San Diego Chargers (2013-2015)', 7.6851091490318666),\n",
       " ('San Francisco 49ers (2013-2015)', 7.9329345548729346),\n",
       " ('New Orleans Saints (2013-2015)', 7.5237855386515466),\n",
       " ('Seattle Seahawks (2013-2015)', 10.322162214515958),\n",
       " ('Green Bay Packers (2013-2015)', 8.7252622501093651),\n",
       " ('Cincinnati Bengals (2013-2015)', 9.2873314309777353),\n",
       " ('Kansas City Chiefs (2013-2015)', 9.0228697982712749),\n",
       " ('Dallas Cowboys (2013-2015)', 7.8846240830274512),\n",
       " ('Philadelphia Eagles (2013-2015)', 8.0368550843863247),\n",
       " ('New England Patriots (2013-2015)', 9.2248026584055864),\n",
       " ('Chicago Bears (2013-2015)', 7.0783438016637135),\n",
       " ('Denver Broncos (2013-2015)', 9.6035162816177913)]"
      ]
     },
     "execution_count": 107,
     "metadata": {},
     "output_type": "execute_result"
    }
   ],
   "source": [
    "zip(Xtest.index,ypred)"
   ]
  },
  {
   "cell_type": "code",
   "execution_count": 109,
   "metadata": {},
   "outputs": [],
   "source": [
    "df_2014_2016 = df_new[[i for i in df_new.columns if ('2014' in i) | ('2015' in i)|('2016' in i)]]\n",
    "\n",
    "df_2014_2016.index = [i + ' (2014-2016)' for i in df_2014_2016.index]\n",
    "\n",
    "df_2014_2016.columns = df_2014_2016.columns.map(lambda x: x.replace('2014','py_2').replace('2015','py_1').replace('2016','py').replace('2017','next'))\n"
   ]
  },
  {
   "cell_type": "code",
   "execution_count": 117,
   "metadata": {},
   "outputs": [],
   "source": [
    "std_2017 = ss.transform(df_2014_2016)"
   ]
  },
  {
   "cell_type": "code",
   "execution_count": 118,
   "metadata": {
    "collapsed": true
   },
   "outputs": [],
   "source": [
    "pca_2017 = pca.transform(std_2017)[:,:30]"
   ]
  },
  {
   "cell_type": "code",
   "execution_count": 254,
   "metadata": {},
   "outputs": [],
   "source": [
    "pca_2017_df = pd.DataFrame(pca_2017,index=df_2014_2016.index)\n",
    "pca_2017_df.columns = pca_2017_df.columns.map(lambda x: 'PCA_'+str(x))\n",
    "pca_2017_df.to_csv('pca_2017_df.csv')"
   ]
  },
  {
   "cell_type": "code",
   "execution_count": 119,
   "metadata": {},
   "outputs": [],
   "source": [
    "pred_2017 = enet.predict(pca_2017)"
   ]
  },
  {
   "cell_type": "code",
   "execution_count": 123,
   "metadata": {},
   "outputs": [],
   "source": [
    "wins_2017 = pd.DataFrame({'team':df_2014_2016.index,'2017 wins':pred_2017})"
   ]
  },
  {
   "cell_type": "code",
   "execution_count": 125,
   "metadata": {},
   "outputs": [
    {
     "data": {
      "text/html": [
       "<div>\n",
       "<style>\n",
       "    .dataframe thead tr:only-child th {\n",
       "        text-align: right;\n",
       "    }\n",
       "\n",
       "    .dataframe thead th {\n",
       "        text-align: left;\n",
       "    }\n",
       "\n",
       "    .dataframe tbody tr th {\n",
       "        vertical-align: top;\n",
       "    }\n",
       "</style>\n",
       "<table border=\"1\" class=\"dataframe\">\n",
       "  <thead>\n",
       "    <tr style=\"text-align: right;\">\n",
       "      <th></th>\n",
       "      <th>2017 wins</th>\n",
       "      <th>team</th>\n",
       "    </tr>\n",
       "  </thead>\n",
       "  <tbody>\n",
       "    <tr>\n",
       "      <th>29</th>\n",
       "      <td>9.717670</td>\n",
       "      <td>New England Patriots (2014-2016)</td>\n",
       "    </tr>\n",
       "    <tr>\n",
       "      <th>23</th>\n",
       "      <td>9.575507</td>\n",
       "      <td>Seattle Seahawks (2014-2016)</td>\n",
       "    </tr>\n",
       "    <tr>\n",
       "      <th>31</th>\n",
       "      <td>9.191749</td>\n",
       "      <td>Denver Broncos (2014-2016)</td>\n",
       "    </tr>\n",
       "    <tr>\n",
       "      <th>26</th>\n",
       "      <td>9.080715</td>\n",
       "      <td>Kansas City Chiefs (2014-2016)</td>\n",
       "    </tr>\n",
       "    <tr>\n",
       "      <th>25</th>\n",
       "      <td>9.018223</td>\n",
       "      <td>Cincinnati Bengals (2014-2016)</td>\n",
       "    </tr>\n",
       "    <tr>\n",
       "      <th>16</th>\n",
       "      <td>8.938041</td>\n",
       "      <td>Arizona Cardinals (2014-2016)</td>\n",
       "    </tr>\n",
       "    <tr>\n",
       "      <th>15</th>\n",
       "      <td>8.831340</td>\n",
       "      <td>Pittsburgh Steelers (2014-2016)</td>\n",
       "    </tr>\n",
       "    <tr>\n",
       "      <th>14</th>\n",
       "      <td>8.793858</td>\n",
       "      <td>Carolina Panthers (2014-2016)</td>\n",
       "    </tr>\n",
       "    <tr>\n",
       "      <th>24</th>\n",
       "      <td>8.588215</td>\n",
       "      <td>Green Bay Packers (2014-2016)</td>\n",
       "    </tr>\n",
       "    <tr>\n",
       "      <th>27</th>\n",
       "      <td>8.433643</td>\n",
       "      <td>Dallas Cowboys (2014-2016)</td>\n",
       "    </tr>\n",
       "    <tr>\n",
       "      <th>12</th>\n",
       "      <td>8.382388</td>\n",
       "      <td>Atlanta Falcons (2014-2016)</td>\n",
       "    </tr>\n",
       "    <tr>\n",
       "      <th>1</th>\n",
       "      <td>8.345503</td>\n",
       "      <td>Houston Texans (2014-2016)</td>\n",
       "    </tr>\n",
       "    <tr>\n",
       "      <th>10</th>\n",
       "      <td>8.266769</td>\n",
       "      <td>Buffalo Bills (2014-2016)</td>\n",
       "    </tr>\n",
       "    <tr>\n",
       "      <th>18</th>\n",
       "      <td>8.264656</td>\n",
       "      <td>Minnesota Vikings (2014-2016)</td>\n",
       "    </tr>\n",
       "    <tr>\n",
       "      <th>19</th>\n",
       "      <td>8.031041</td>\n",
       "      <td>Detroit Lions (2014-2016)</td>\n",
       "    </tr>\n",
       "    <tr>\n",
       "      <th>7</th>\n",
       "      <td>7.979632</td>\n",
       "      <td>Baltimore Ravens (2014-2016)</td>\n",
       "    </tr>\n",
       "    <tr>\n",
       "      <th>9</th>\n",
       "      <td>7.924534</td>\n",
       "      <td>Washington Redskins (2014-2016)</td>\n",
       "    </tr>\n",
       "    <tr>\n",
       "      <th>4</th>\n",
       "      <td>7.757471</td>\n",
       "      <td>New York Giants (2014-2016)</td>\n",
       "    </tr>\n",
       "    <tr>\n",
       "      <th>28</th>\n",
       "      <td>7.707511</td>\n",
       "      <td>Philadelphia Eagles (2014-2016)</td>\n",
       "    </tr>\n",
       "    <tr>\n",
       "      <th>17</th>\n",
       "      <td>7.605976</td>\n",
       "      <td>Indianapolis Colts (2014-2016)</td>\n",
       "    </tr>\n",
       "    <tr>\n",
       "      <th>3</th>\n",
       "      <td>7.559534</td>\n",
       "      <td>New York Jets (2014-2016)</td>\n",
       "    </tr>\n",
       "    <tr>\n",
       "      <th>20</th>\n",
       "      <td>7.481413</td>\n",
       "      <td>San Diego Chargers (2014-2016)</td>\n",
       "    </tr>\n",
       "    <tr>\n",
       "      <th>8</th>\n",
       "      <td>7.469695</td>\n",
       "      <td>Oakland Raiders (2014-2016)</td>\n",
       "    </tr>\n",
       "    <tr>\n",
       "      <th>6</th>\n",
       "      <td>7.447326</td>\n",
       "      <td>Miami Dolphins (2014-2016)</td>\n",
       "    </tr>\n",
       "    <tr>\n",
       "      <th>2</th>\n",
       "      <td>7.259413</td>\n",
       "      <td>Tampa Bay Buccaneers (2014-2016)</td>\n",
       "    </tr>\n",
       "    <tr>\n",
       "      <th>22</th>\n",
       "      <td>7.236691</td>\n",
       "      <td>New Orleans Saints (2014-2016)</td>\n",
       "    </tr>\n",
       "    <tr>\n",
       "      <th>13</th>\n",
       "      <td>7.123107</td>\n",
       "      <td>Tennessee Titans (2014-2016)</td>\n",
       "    </tr>\n",
       "    <tr>\n",
       "      <th>11</th>\n",
       "      <td>7.049304</td>\n",
       "      <td>St. Louis Rams (2014-2016)</td>\n",
       "    </tr>\n",
       "    <tr>\n",
       "      <th>30</th>\n",
       "      <td>6.993183</td>\n",
       "      <td>Chicago Bears (2014-2016)</td>\n",
       "    </tr>\n",
       "    <tr>\n",
       "      <th>0</th>\n",
       "      <td>6.758517</td>\n",
       "      <td>Jacksonville Jaguars (2014-2016)</td>\n",
       "    </tr>\n",
       "    <tr>\n",
       "      <th>21</th>\n",
       "      <td>6.565314</td>\n",
       "      <td>San Francisco 49ers (2014-2016)</td>\n",
       "    </tr>\n",
       "    <tr>\n",
       "      <th>5</th>\n",
       "      <td>6.256532</td>\n",
       "      <td>Cleveland Browns (2014-2016)</td>\n",
       "    </tr>\n",
       "  </tbody>\n",
       "</table>\n",
       "</div>"
      ],
      "text/plain": [
       "    2017 wins                              team\n",
       "29   9.717670  New England Patriots (2014-2016)\n",
       "23   9.575507      Seattle Seahawks (2014-2016)\n",
       "31   9.191749        Denver Broncos (2014-2016)\n",
       "26   9.080715    Kansas City Chiefs (2014-2016)\n",
       "25   9.018223    Cincinnati Bengals (2014-2016)\n",
       "16   8.938041     Arizona Cardinals (2014-2016)\n",
       "15   8.831340   Pittsburgh Steelers (2014-2016)\n",
       "14   8.793858     Carolina Panthers (2014-2016)\n",
       "24   8.588215     Green Bay Packers (2014-2016)\n",
       "27   8.433643        Dallas Cowboys (2014-2016)\n",
       "12   8.382388       Atlanta Falcons (2014-2016)\n",
       "1    8.345503        Houston Texans (2014-2016)\n",
       "10   8.266769         Buffalo Bills (2014-2016)\n",
       "18   8.264656     Minnesota Vikings (2014-2016)\n",
       "19   8.031041         Detroit Lions (2014-2016)\n",
       "7    7.979632      Baltimore Ravens (2014-2016)\n",
       "9    7.924534   Washington Redskins (2014-2016)\n",
       "4    7.757471       New York Giants (2014-2016)\n",
       "28   7.707511   Philadelphia Eagles (2014-2016)\n",
       "17   7.605976    Indianapolis Colts (2014-2016)\n",
       "3    7.559534         New York Jets (2014-2016)\n",
       "20   7.481413    San Diego Chargers (2014-2016)\n",
       "8    7.469695       Oakland Raiders (2014-2016)\n",
       "6    7.447326        Miami Dolphins (2014-2016)\n",
       "2    7.259413  Tampa Bay Buccaneers (2014-2016)\n",
       "22   7.236691    New Orleans Saints (2014-2016)\n",
       "13   7.123107      Tennessee Titans (2014-2016)\n",
       "11   7.049304        St. Louis Rams (2014-2016)\n",
       "30   6.993183         Chicago Bears (2014-2016)\n",
       "0    6.758517  Jacksonville Jaguars (2014-2016)\n",
       "21   6.565314   San Francisco 49ers (2014-2016)\n",
       "5    6.256532      Cleveland Browns (2014-2016)"
      ]
     },
     "execution_count": 125,
     "metadata": {},
     "output_type": "execute_result"
    }
   ],
   "source": [
    "wins_2017.sort_values('2017 wins',ascending=False)"
   ]
  },
  {
   "cell_type": "code",
   "execution_count": 252,
   "metadata": {
    "collapsed": true
   },
   "outputs": [],
   "source": [
    "wins_2017.to_csv('2017_proj_wins.csv')"
   ]
  },
  {
   "cell_type": "code",
   "execution_count": 126,
   "metadata": {},
   "outputs": [
    {
     "data": {
      "text/plain": [
       "255.63447185078311"
      ]
     },
     "execution_count": 126,
     "metadata": {},
     "output_type": "execute_result"
    }
   ],
   "source": [
    "wins_2017['2017 wins'].sum()"
   ]
  },
  {
   "cell_type": "code",
   "execution_count": 127,
   "metadata": {
    "collapsed": true
   },
   "outputs": [],
   "source": [
    "from sklearn.ensemble import GradientBoostingRegressor"
   ]
  },
  {
   "cell_type": "code",
   "execution_count": 128,
   "metadata": {
    "collapsed": true
   },
   "outputs": [],
   "source": [
    "GBR = GradientBoostingRegressor()"
   ]
  },
  {
   "cell_type": "code",
   "execution_count": 129,
   "metadata": {},
   "outputs": [
    {
     "data": {
      "text/plain": [
       "GradientBoostingRegressor(alpha=0.9, criterion='friedman_mse', init=None,\n",
       "             learning_rate=0.1, loss='ls', max_depth=3, max_features=None,\n",
       "             max_leaf_nodes=None, min_impurity_split=1e-07,\n",
       "             min_samples_leaf=1, min_samples_split=2,\n",
       "             min_weight_fraction_leaf=0.0, n_estimators=100,\n",
       "             presort='auto', random_state=None, subsample=1.0, verbose=0,\n",
       "             warm_start=False)"
      ]
     },
     "execution_count": 129,
     "metadata": {},
     "output_type": "execute_result"
    }
   ],
   "source": [
    "GBR.fit(pca_top_30,ytrain)"
   ]
  },
  {
   "cell_type": "code",
   "execution_count": 130,
   "metadata": {},
   "outputs": [
    {
     "data": {
      "text/plain": [
       "-0.080550569096317748"
      ]
     },
     "execution_count": 130,
     "metadata": {},
     "output_type": "execute_result"
    }
   ],
   "source": [
    "GBR.score(pca_test,ytest)"
   ]
  },
  {
   "cell_type": "code",
   "execution_count": 131,
   "metadata": {
    "collapsed": true
   },
   "outputs": [],
   "source": [
    "from sklearn.grid_search import GridSearchCV"
   ]
  },
  {
   "cell_type": "code",
   "execution_count": 142,
   "metadata": {
    "collapsed": true
   },
   "outputs": [],
   "source": [
    "param_grid = {'max_depth':[3,7,20]}"
   ]
  },
  {
   "cell_type": "code",
   "execution_count": 133,
   "metadata": {
    "collapsed": true
   },
   "outputs": [],
   "source": [
    "optimal_grid = GridSearchCV(GBR,param_grid=param_grid,verbose=1,n_jobs=-1)"
   ]
  },
  {
   "cell_type": "code",
   "execution_count": 134,
   "metadata": {},
   "outputs": [
    {
     "name": "stdout",
     "output_type": "stream",
     "text": [
      "Fitting 3 folds for each of 9 candidates, totalling 27 fits\n"
     ]
    },
    {
     "name": "stderr",
     "output_type": "stream",
     "text": [
      "[Parallel(n_jobs=-1)]: Done  20 out of  27 | elapsed:    0.5s remaining:    0.2s\n",
      "[Parallel(n_jobs=-1)]: Done  27 out of  27 | elapsed:    0.6s finished\n"
     ]
    },
    {
     "data": {
      "text/plain": [
       "GridSearchCV(cv=None, error_score='raise',\n",
       "       estimator=GradientBoostingRegressor(alpha=0.9, criterion='friedman_mse', init=None,\n",
       "             learning_rate=0.1, loss='ls', max_depth=3, max_features=None,\n",
       "             max_leaf_nodes=None, min_impurity_split=1e-07,\n",
       "             min_samples_leaf=1, min_samples_split=2,\n",
       "             min_weight_fraction_leaf=0.0, n_estimators=100,\n",
       "             presort='auto', random_state=None, subsample=1.0, verbose=0,\n",
       "             warm_start=False),\n",
       "       fit_params={}, iid=True, n_jobs=-1,\n",
       "       param_grid={'n_estimators': [25, 50, 100], 'max_depth': [3, 7, 20]},\n",
       "       pre_dispatch='2*n_jobs', refit=True, scoring=None, verbose=1)"
      ]
     },
     "execution_count": 134,
     "metadata": {},
     "output_type": "execute_result"
    }
   ],
   "source": [
    "optimal_grid.fit(pca_top_30,ytrain)"
   ]
  },
  {
   "cell_type": "code",
   "execution_count": 135,
   "metadata": {},
   "outputs": [
    {
     "data": {
      "text/plain": [
       "-0.042408584260005711"
      ]
     },
     "execution_count": 135,
     "metadata": {},
     "output_type": "execute_result"
    }
   ],
   "source": [
    "optimal_grid.best_estimator_.score(pca_test,ytest)"
   ]
  },
  {
   "cell_type": "code",
   "execution_count": 136,
   "metadata": {
    "collapsed": true
   },
   "outputs": [],
   "source": [
    "from sklearn.tree import DecisionTreeRegressor"
   ]
  },
  {
   "cell_type": "code",
   "execution_count": 137,
   "metadata": {
    "collapsed": true
   },
   "outputs": [],
   "source": [
    "DTR = DecisionTreeRegressor()"
   ]
  },
  {
   "cell_type": "code",
   "execution_count": 138,
   "metadata": {},
   "outputs": [
    {
     "data": {
      "text/plain": [
       "DecisionTreeRegressor(criterion='mse', max_depth=None, max_features=None,\n",
       "           max_leaf_nodes=None, min_impurity_split=1e-07,\n",
       "           min_samples_leaf=1, min_samples_split=2,\n",
       "           min_weight_fraction_leaf=0.0, presort=False, random_state=None,\n",
       "           splitter='best')"
      ]
     },
     "execution_count": 138,
     "metadata": {},
     "output_type": "execute_result"
    }
   ],
   "source": [
    "DTR.fit(pca_top_30,ytrain)"
   ]
  },
  {
   "cell_type": "code",
   "execution_count": 139,
   "metadata": {},
   "outputs": [
    {
     "data": {
      "text/plain": [
       "-0.29925285096342913"
      ]
     },
     "execution_count": 139,
     "metadata": {},
     "output_type": "execute_result"
    }
   ],
   "source": [
    "DTR.score(pca_test,ytest)"
   ]
  },
  {
   "cell_type": "code",
   "execution_count": 143,
   "metadata": {
    "collapsed": true
   },
   "outputs": [],
   "source": [
    "optimal_grid = GridSearchCV(DTR,param_grid=param_grid,verbose=1,n_jobs=-1)"
   ]
  },
  {
   "cell_type": "code",
   "execution_count": 144,
   "metadata": {},
   "outputs": [
    {
     "name": "stdout",
     "output_type": "stream",
     "text": [
      "Fitting 3 folds for each of 3 candidates, totalling 9 fits\n"
     ]
    },
    {
     "name": "stderr",
     "output_type": "stream",
     "text": [
      "[Parallel(n_jobs=-1)]: Done   9 out of   9 | elapsed:    0.1s finished\n"
     ]
    },
    {
     "data": {
      "text/plain": [
       "GridSearchCV(cv=None, error_score='raise',\n",
       "       estimator=DecisionTreeRegressor(criterion='mse', max_depth=None, max_features=None,\n",
       "           max_leaf_nodes=None, min_impurity_split=1e-07,\n",
       "           min_samples_leaf=1, min_samples_split=2,\n",
       "           min_weight_fraction_leaf=0.0, presort=False, random_state=None,\n",
       "           splitter='best'),\n",
       "       fit_params={}, iid=True, n_jobs=-1,\n",
       "       param_grid={'max_depth': [3, 7, 20]}, pre_dispatch='2*n_jobs',\n",
       "       refit=True, scoring=None, verbose=1)"
      ]
     },
     "execution_count": 144,
     "metadata": {},
     "output_type": "execute_result"
    }
   ],
   "source": [
    "optimal_grid.fit(pca_top_30,ytrain)"
   ]
  },
  {
   "cell_type": "code",
   "execution_count": 145,
   "metadata": {},
   "outputs": [
    {
     "data": {
      "text/plain": [
       "-0.62762887242225407"
      ]
     },
     "execution_count": 145,
     "metadata": {},
     "output_type": "execute_result"
    }
   ],
   "source": [
    "optimal_grid.best_estimator_.score(pca_test,ytest)"
   ]
  },
  {
   "cell_type": "code",
   "execution_count": 146,
   "metadata": {},
   "outputs": [
    {
     "name": "stdout",
     "output_type": "stream",
     "text": [
      "Fitting 3 folds for each of 3 candidates, totalling 9 fits\n"
     ]
    },
    {
     "name": "stderr",
     "output_type": "stream",
     "text": [
      "[Parallel(n_jobs=-1)]: Done   9 out of   9 | elapsed:    0.1s finished\n"
     ]
    },
    {
     "data": {
      "text/plain": [
       "GridSearchCV(cv=None, error_score='raise',\n",
       "       estimator=DecisionTreeRegressor(criterion='mse', max_depth=None, max_features=None,\n",
       "           max_leaf_nodes=None, min_impurity_split=1e-07,\n",
       "           min_samples_leaf=1, min_samples_split=2,\n",
       "           min_weight_fraction_leaf=0.0, presort=False, random_state=None,\n",
       "           splitter='best'),\n",
       "       fit_params={}, iid=True, n_jobs=-1,\n",
       "       param_grid={'max_depth': [3, 7, 20]}, pre_dispatch='2*n_jobs',\n",
       "       refit=True, scoring=None, verbose=1)"
      ]
     },
     "execution_count": 146,
     "metadata": {},
     "output_type": "execute_result"
    }
   ],
   "source": [
    "optimal_grid.fit(Xstd,ytrain)"
   ]
  },
  {
   "cell_type": "code",
   "execution_count": 147,
   "metadata": {},
   "outputs": [
    {
     "data": {
      "text/plain": [
       "-0.5007614608276314"
      ]
     },
     "execution_count": 147,
     "metadata": {},
     "output_type": "execute_result"
    }
   ],
   "source": [
    "optimal_grid.best_estimator_.score(Xtest_std,ytest)"
   ]
  },
  {
   "cell_type": "code",
   "execution_count": 151,
   "metadata": {},
   "outputs": [],
   "source": [
    "pca_train_df = pd.DataFrame(pca_top_30,index=Xtrain.index)"
   ]
  },
  {
   "cell_type": "code",
   "execution_count": 154,
   "metadata": {},
   "outputs": [],
   "source": [
    "pca_train_df.columns = pca_train_df.columns.map(lambda x: 'PCA_'+str(x))"
   ]
  },
  {
   "cell_type": "code",
   "execution_count": 160,
   "metadata": {},
   "outputs": [],
   "source": [
    "pca_train_df = pd.concat([pca_train_df,ytrain],axis=1)"
   ]
  },
  {
   "cell_type": "code",
   "execution_count": 161,
   "metadata": {
    "collapsed": true
   },
   "outputs": [],
   "source": [
    "pca_train_df.to_csv('pca_train_df.csv')"
   ]
  },
  {
   "cell_type": "code",
   "execution_count": 166,
   "metadata": {},
   "outputs": [],
   "source": [
    "pca_test_df = pd.DataFrame(pca_test,index=Xtest.index)"
   ]
  },
  {
   "cell_type": "code",
   "execution_count": 167,
   "metadata": {
    "collapsed": true
   },
   "outputs": [],
   "source": [
    "pca_test_df.columns = pca_test_df.columns.map(lambda x: 'PCA_'+str(x))"
   ]
  },
  {
   "cell_type": "code",
   "execution_count": 168,
   "metadata": {
    "collapsed": true
   },
   "outputs": [],
   "source": [
    "pca_test_df = pd.concat([pca_test_df,ytest],axis=1)"
   ]
  },
  {
   "cell_type": "code",
   "execution_count": 169,
   "metadata": {
    "collapsed": true
   },
   "outputs": [],
   "source": [
    "pca_test_df.to_csv('pca_test_df.csv')"
   ]
  },
  {
   "cell_type": "code",
   "execution_count": 172,
   "metadata": {},
   "outputs": [
    {
     "data": {
      "text/html": [
       "<div>\n",
       "<style>\n",
       "    .dataframe thead tr:only-child th {\n",
       "        text-align: right;\n",
       "    }\n",
       "\n",
       "    .dataframe thead th {\n",
       "        text-align: left;\n",
       "    }\n",
       "\n",
       "    .dataframe tbody tr th {\n",
       "        vertical-align: top;\n",
       "    }\n",
       "</style>\n",
       "<table border=\"1\" class=\"dataframe\">\n",
       "  <thead>\n",
       "    <tr style=\"text-align: right;\">\n",
       "      <th></th>\n",
       "      <th>PCA_0</th>\n",
       "      <th>PCA_1</th>\n",
       "      <th>PCA_2</th>\n",
       "    </tr>\n",
       "  </thead>\n",
       "  <tbody>\n",
       "    <tr>\n",
       "      <th>Jacksonville Jaguars (2010-2012)</th>\n",
       "      <td>-8.808440</td>\n",
       "      <td>-0.109347</td>\n",
       "      <td>-2.925875</td>\n",
       "    </tr>\n",
       "    <tr>\n",
       "      <th>Houston Texans (2010-2012)</th>\n",
       "      <td>4.327622</td>\n",
       "      <td>3.315808</td>\n",
       "      <td>3.802674</td>\n",
       "    </tr>\n",
       "    <tr>\n",
       "      <th>Tampa Bay Buccaneers (2010-2012)</th>\n",
       "      <td>-2.831323</td>\n",
       "      <td>-5.727843</td>\n",
       "      <td>-0.954717</td>\n",
       "    </tr>\n",
       "    <tr>\n",
       "      <th>New York Jets (2010-2012)</th>\n",
       "      <td>-1.915858</td>\n",
       "      <td>3.452039</td>\n",
       "      <td>-6.557602</td>\n",
       "    </tr>\n",
       "    <tr>\n",
       "      <th>New York Giants (2010-2012)</th>\n",
       "      <td>4.424335</td>\n",
       "      <td>-2.550708</td>\n",
       "      <td>0.515823</td>\n",
       "    </tr>\n",
       "    <tr>\n",
       "      <th>Cleveland Browns (2010-2012)</th>\n",
       "      <td>-6.456822</td>\n",
       "      <td>1.981444</td>\n",
       "      <td>-1.204512</td>\n",
       "    </tr>\n",
       "    <tr>\n",
       "      <th>Miami Dolphins (2010-2012)</th>\n",
       "      <td>-2.741043</td>\n",
       "      <td>3.589767</td>\n",
       "      <td>-0.585030</td>\n",
       "    </tr>\n",
       "    <tr>\n",
       "      <th>Baltimore Ravens (2010-2012)</th>\n",
       "      <td>3.627429</td>\n",
       "      <td>4.484036</td>\n",
       "      <td>-3.569651</td>\n",
       "    </tr>\n",
       "    <tr>\n",
       "      <th>Oakland Raiders (2010-2012)</th>\n",
       "      <td>-2.174778</td>\n",
       "      <td>-2.995678</td>\n",
       "      <td>-2.706828</td>\n",
       "    </tr>\n",
       "    <tr>\n",
       "      <th>Washington Redskins (2010-2012)</th>\n",
       "      <td>-1.511192</td>\n",
       "      <td>-0.207474</td>\n",
       "      <td>5.116417</td>\n",
       "    </tr>\n",
       "    <tr>\n",
       "      <th>Buffalo Bills (2010-2012)</th>\n",
       "      <td>-6.158658</td>\n",
       "      <td>-2.450771</td>\n",
       "      <td>2.434610</td>\n",
       "    </tr>\n",
       "    <tr>\n",
       "      <th>St. Louis Rams (2010-2012)</th>\n",
       "      <td>-6.321829</td>\n",
       "      <td>2.064091</td>\n",
       "      <td>-0.591934</td>\n",
       "    </tr>\n",
       "    <tr>\n",
       "      <th>Atlanta Falcons (2010-2012)</th>\n",
       "      <td>6.460798</td>\n",
       "      <td>-1.320894</td>\n",
       "      <td>-0.802972</td>\n",
       "    </tr>\n",
       "    <tr>\n",
       "      <th>Tennessee Titans (2010-2012)</th>\n",
       "      <td>-2.033289</td>\n",
       "      <td>-1.038649</td>\n",
       "      <td>-3.160249</td>\n",
       "    </tr>\n",
       "    <tr>\n",
       "      <th>Carolina Panthers (2010-2012)</th>\n",
       "      <td>-5.097119</td>\n",
       "      <td>1.365990</td>\n",
       "      <td>4.111313</td>\n",
       "    </tr>\n",
       "    <tr>\n",
       "      <th>Pittsburgh Steelers (2010-2012)</th>\n",
       "      <td>6.115378</td>\n",
       "      <td>5.841217</td>\n",
       "      <td>-7.657828</td>\n",
       "    </tr>\n",
       "    <tr>\n",
       "      <th>Arizona Cardinals (2010-2012)</th>\n",
       "      <td>-8.804169</td>\n",
       "      <td>3.616794</td>\n",
       "      <td>0.580746</td>\n",
       "    </tr>\n",
       "    <tr>\n",
       "      <th>Indianapolis Colts (2010-2012)</th>\n",
       "      <td>-4.226068</td>\n",
       "      <td>-5.127462</td>\n",
       "      <td>-0.239063</td>\n",
       "    </tr>\n",
       "    <tr>\n",
       "      <th>Minnesota Vikings (2010-2012)</th>\n",
       "      <td>-4.689836</td>\n",
       "      <td>2.243734</td>\n",
       "      <td>2.106418</td>\n",
       "    </tr>\n",
       "    <tr>\n",
       "      <th>Detroit Lions (2010-2012)</th>\n",
       "      <td>1.988387</td>\n",
       "      <td>-3.444675</td>\n",
       "      <td>0.540159</td>\n",
       "    </tr>\n",
       "    <tr>\n",
       "      <th>San Diego Chargers (2010-2012)</th>\n",
       "      <td>2.850965</td>\n",
       "      <td>-2.044310</td>\n",
       "      <td>-4.472265</td>\n",
       "    </tr>\n",
       "    <tr>\n",
       "      <th>San Francisco 49ers (2010-2012)</th>\n",
       "      <td>4.634010</td>\n",
       "      <td>8.582037</td>\n",
       "      <td>3.002442</td>\n",
       "    </tr>\n",
       "    <tr>\n",
       "      <th>New Orleans Saints (2010-2012)</th>\n",
       "      <td>5.916802</td>\n",
       "      <td>-8.114335</td>\n",
       "      <td>1.081071</td>\n",
       "    </tr>\n",
       "    <tr>\n",
       "      <th>Seattle Seahawks (2010-2012)</th>\n",
       "      <td>0.048298</td>\n",
       "      <td>6.476373</td>\n",
       "      <td>5.478423</td>\n",
       "    </tr>\n",
       "    <tr>\n",
       "      <th>Green Bay Packers (2010-2012)</th>\n",
       "      <td>10.289699</td>\n",
       "      <td>-1.512528</td>\n",
       "      <td>-0.812278</td>\n",
       "    </tr>\n",
       "    <tr>\n",
       "      <th>Cincinnati Bengals (2010-2012)</th>\n",
       "      <td>-0.043967</td>\n",
       "      <td>2.635034</td>\n",
       "      <td>2.200305</td>\n",
       "    </tr>\n",
       "    <tr>\n",
       "      <th>Kansas City Chiefs (2010-2012)</th>\n",
       "      <td>-6.111610</td>\n",
       "      <td>-0.474088</td>\n",
       "      <td>-8.535297</td>\n",
       "    </tr>\n",
       "    <tr>\n",
       "      <th>Dallas Cowboys (2010-2012)</th>\n",
       "      <td>1.477981</td>\n",
       "      <td>-4.381645</td>\n",
       "      <td>1.083986</td>\n",
       "    </tr>\n",
       "    <tr>\n",
       "      <th>Philadelphia Eagles (2010-2012)</th>\n",
       "      <td>0.155760</td>\n",
       "      <td>-1.900556</td>\n",
       "      <td>-4.906864</td>\n",
       "    </tr>\n",
       "    <tr>\n",
       "      <th>New England Patriots (2010-2012)</th>\n",
       "      <td>11.658240</td>\n",
       "      <td>-4.829921</td>\n",
       "      <td>1.122915</td>\n",
       "    </tr>\n",
       "    <tr>\n",
       "      <th>...</th>\n",
       "      <td>...</td>\n",
       "      <td>...</td>\n",
       "      <td>...</td>\n",
       "    </tr>\n",
       "    <tr>\n",
       "      <th>Tampa Bay Buccaneers (2012-2014)</th>\n",
       "      <td>-4.788815</td>\n",
       "      <td>-2.488734</td>\n",
       "      <td>-2.749001</td>\n",
       "    </tr>\n",
       "    <tr>\n",
       "      <th>New York Jets (2012-2014)</th>\n",
       "      <td>-6.555470</td>\n",
       "      <td>3.759026</td>\n",
       "      <td>-0.509025</td>\n",
       "    </tr>\n",
       "    <tr>\n",
       "      <th>New York Giants (2012-2014)</th>\n",
       "      <td>-0.612317</td>\n",
       "      <td>-2.265536</td>\n",
       "      <td>-0.791314</td>\n",
       "    </tr>\n",
       "    <tr>\n",
       "      <th>Cleveland Browns (2012-2014)</th>\n",
       "      <td>-3.396361</td>\n",
       "      <td>1.590748</td>\n",
       "      <td>-0.215757</td>\n",
       "    </tr>\n",
       "    <tr>\n",
       "      <th>Miami Dolphins (2012-2014)</th>\n",
       "      <td>-2.207034</td>\n",
       "      <td>2.052950</td>\n",
       "      <td>-0.819136</td>\n",
       "    </tr>\n",
       "    <tr>\n",
       "      <th>Baltimore Ravens (2012-2014)</th>\n",
       "      <td>0.731329</td>\n",
       "      <td>1.360092</td>\n",
       "      <td>0.924089</td>\n",
       "    </tr>\n",
       "    <tr>\n",
       "      <th>Oakland Raiders (2012-2014)</th>\n",
       "      <td>-8.535639</td>\n",
       "      <td>-5.078350</td>\n",
       "      <td>0.287628</td>\n",
       "    </tr>\n",
       "    <tr>\n",
       "      <th>Washington Redskins (2012-2014)</th>\n",
       "      <td>-2.096584</td>\n",
       "      <td>-5.518929</td>\n",
       "      <td>-3.461499</td>\n",
       "    </tr>\n",
       "    <tr>\n",
       "      <th>Buffalo Bills (2012-2014)</th>\n",
       "      <td>-2.064150</td>\n",
       "      <td>5.359291</td>\n",
       "      <td>2.512418</td>\n",
       "    </tr>\n",
       "    <tr>\n",
       "      <th>St. Louis Rams (2012-2014)</th>\n",
       "      <td>-1.906350</td>\n",
       "      <td>0.293917</td>\n",
       "      <td>-0.807730</td>\n",
       "    </tr>\n",
       "    <tr>\n",
       "      <th>Atlanta Falcons (2012-2014)</th>\n",
       "      <td>0.266794</td>\n",
       "      <td>-8.916246</td>\n",
       "      <td>-1.476469</td>\n",
       "    </tr>\n",
       "    <tr>\n",
       "      <th>Tennessee Titans (2012-2014)</th>\n",
       "      <td>-5.805849</td>\n",
       "      <td>-1.282207</td>\n",
       "      <td>-0.840738</td>\n",
       "    </tr>\n",
       "    <tr>\n",
       "      <th>Carolina Panthers (2012-2014)</th>\n",
       "      <td>2.281818</td>\n",
       "      <td>4.683665</td>\n",
       "      <td>-0.872877</td>\n",
       "    </tr>\n",
       "    <tr>\n",
       "      <th>Pittsburgh Steelers (2012-2014)</th>\n",
       "      <td>2.671666</td>\n",
       "      <td>-2.112904</td>\n",
       "      <td>-0.570834</td>\n",
       "    </tr>\n",
       "    <tr>\n",
       "      <th>Arizona Cardinals (2012-2014)</th>\n",
       "      <td>-1.007853</td>\n",
       "      <td>3.654409</td>\n",
       "      <td>1.861985</td>\n",
       "    </tr>\n",
       "    <tr>\n",
       "      <th>Indianapolis Colts (2012-2014)</th>\n",
       "      <td>2.234194</td>\n",
       "      <td>-2.023839</td>\n",
       "      <td>3.684352</td>\n",
       "    </tr>\n",
       "    <tr>\n",
       "      <th>Minnesota Vikings (2012-2014)</th>\n",
       "      <td>-2.747830</td>\n",
       "      <td>-0.277143</td>\n",
       "      <td>-1.381647</td>\n",
       "    </tr>\n",
       "    <tr>\n",
       "      <th>Detroit Lions (2012-2014)</th>\n",
       "      <td>1.453828</td>\n",
       "      <td>-0.182957</td>\n",
       "      <td>3.992675</td>\n",
       "    </tr>\n",
       "    <tr>\n",
       "      <th>San Diego Chargers (2012-2014)</th>\n",
       "      <td>1.780142</td>\n",
       "      <td>-2.363846</td>\n",
       "      <td>0.180514</td>\n",
       "    </tr>\n",
       "    <tr>\n",
       "      <th>San Francisco 49ers (2012-2014)</th>\n",
       "      <td>5.255163</td>\n",
       "      <td>6.056536</td>\n",
       "      <td>-5.242491</td>\n",
       "    </tr>\n",
       "    <tr>\n",
       "      <th>New Orleans Saints (2012-2014)</th>\n",
       "      <td>3.636576</td>\n",
       "      <td>-6.938875</td>\n",
       "      <td>3.153337</td>\n",
       "    </tr>\n",
       "    <tr>\n",
       "      <th>Seattle Seahawks (2012-2014)</th>\n",
       "      <td>9.830830</td>\n",
       "      <td>10.093678</td>\n",
       "      <td>-3.626334</td>\n",
       "    </tr>\n",
       "    <tr>\n",
       "      <th>Green Bay Packers (2012-2014)</th>\n",
       "      <td>6.262066</td>\n",
       "      <td>-2.224972</td>\n",
       "      <td>2.058920</td>\n",
       "    </tr>\n",
       "    <tr>\n",
       "      <th>Cincinnati Bengals (2012-2014)</th>\n",
       "      <td>4.101003</td>\n",
       "      <td>3.236170</td>\n",
       "      <td>-2.074361</td>\n",
       "    </tr>\n",
       "    <tr>\n",
       "      <th>Kansas City Chiefs (2012-2014)</th>\n",
       "      <td>-3.350950</td>\n",
       "      <td>4.626265</td>\n",
       "      <td>5.603220</td>\n",
       "    </tr>\n",
       "    <tr>\n",
       "      <th>Dallas Cowboys (2012-2014)</th>\n",
       "      <td>3.261639</td>\n",
       "      <td>-4.697542</td>\n",
       "      <td>6.748427</td>\n",
       "    </tr>\n",
       "    <tr>\n",
       "      <th>Philadelphia Eagles (2012-2014)</th>\n",
       "      <td>0.537928</td>\n",
       "      <td>-1.167592</td>\n",
       "      <td>6.168729</td>\n",
       "    </tr>\n",
       "    <tr>\n",
       "      <th>New England Patriots (2012-2014)</th>\n",
       "      <td>7.644974</td>\n",
       "      <td>-1.297861</td>\n",
       "      <td>0.724376</td>\n",
       "    </tr>\n",
       "    <tr>\n",
       "      <th>Chicago Bears (2012-2014)</th>\n",
       "      <td>-0.835033</td>\n",
       "      <td>-5.091914</td>\n",
       "      <td>-5.911015</td>\n",
       "    </tr>\n",
       "    <tr>\n",
       "      <th>Denver Broncos (2012-2014)</th>\n",
       "      <td>12.422426</td>\n",
       "      <td>-2.618615</td>\n",
       "      <td>0.411565</td>\n",
       "    </tr>\n",
       "  </tbody>\n",
       "</table>\n",
       "<p>96 rows × 3 columns</p>\n",
       "</div>"
      ],
      "text/plain": [
       "                                      PCA_0      PCA_1     PCA_2\n",
       "Jacksonville Jaguars (2010-2012)  -8.808440  -0.109347 -2.925875\n",
       "Houston Texans (2010-2012)         4.327622   3.315808  3.802674\n",
       "Tampa Bay Buccaneers (2010-2012)  -2.831323  -5.727843 -0.954717\n",
       "New York Jets (2010-2012)         -1.915858   3.452039 -6.557602\n",
       "New York Giants (2010-2012)        4.424335  -2.550708  0.515823\n",
       "Cleveland Browns (2010-2012)      -6.456822   1.981444 -1.204512\n",
       "Miami Dolphins (2010-2012)        -2.741043   3.589767 -0.585030\n",
       "Baltimore Ravens (2010-2012)       3.627429   4.484036 -3.569651\n",
       "Oakland Raiders (2010-2012)       -2.174778  -2.995678 -2.706828\n",
       "Washington Redskins (2010-2012)   -1.511192  -0.207474  5.116417\n",
       "Buffalo Bills (2010-2012)         -6.158658  -2.450771  2.434610\n",
       "St. Louis Rams (2010-2012)        -6.321829   2.064091 -0.591934\n",
       "Atlanta Falcons (2010-2012)        6.460798  -1.320894 -0.802972\n",
       "Tennessee Titans (2010-2012)      -2.033289  -1.038649 -3.160249\n",
       "Carolina Panthers (2010-2012)     -5.097119   1.365990  4.111313\n",
       "Pittsburgh Steelers (2010-2012)    6.115378   5.841217 -7.657828\n",
       "Arizona Cardinals (2010-2012)     -8.804169   3.616794  0.580746\n",
       "Indianapolis Colts (2010-2012)    -4.226068  -5.127462 -0.239063\n",
       "Minnesota Vikings (2010-2012)     -4.689836   2.243734  2.106418\n",
       "Detroit Lions (2010-2012)          1.988387  -3.444675  0.540159\n",
       "San Diego Chargers (2010-2012)     2.850965  -2.044310 -4.472265\n",
       "San Francisco 49ers (2010-2012)    4.634010   8.582037  3.002442\n",
       "New Orleans Saints (2010-2012)     5.916802  -8.114335  1.081071\n",
       "Seattle Seahawks (2010-2012)       0.048298   6.476373  5.478423\n",
       "Green Bay Packers (2010-2012)     10.289699  -1.512528 -0.812278\n",
       "Cincinnati Bengals (2010-2012)    -0.043967   2.635034  2.200305\n",
       "Kansas City Chiefs (2010-2012)    -6.111610  -0.474088 -8.535297\n",
       "Dallas Cowboys (2010-2012)         1.477981  -4.381645  1.083986\n",
       "Philadelphia Eagles (2010-2012)    0.155760  -1.900556 -4.906864\n",
       "New England Patriots (2010-2012)  11.658240  -4.829921  1.122915\n",
       "...                                     ...        ...       ...\n",
       "Tampa Bay Buccaneers (2012-2014)  -4.788815  -2.488734 -2.749001\n",
       "New York Jets (2012-2014)         -6.555470   3.759026 -0.509025\n",
       "New York Giants (2012-2014)       -0.612317  -2.265536 -0.791314\n",
       "Cleveland Browns (2012-2014)      -3.396361   1.590748 -0.215757\n",
       "Miami Dolphins (2012-2014)        -2.207034   2.052950 -0.819136\n",
       "Baltimore Ravens (2012-2014)       0.731329   1.360092  0.924089\n",
       "Oakland Raiders (2012-2014)       -8.535639  -5.078350  0.287628\n",
       "Washington Redskins (2012-2014)   -2.096584  -5.518929 -3.461499\n",
       "Buffalo Bills (2012-2014)         -2.064150   5.359291  2.512418\n",
       "St. Louis Rams (2012-2014)        -1.906350   0.293917 -0.807730\n",
       "Atlanta Falcons (2012-2014)        0.266794  -8.916246 -1.476469\n",
       "Tennessee Titans (2012-2014)      -5.805849  -1.282207 -0.840738\n",
       "Carolina Panthers (2012-2014)      2.281818   4.683665 -0.872877\n",
       "Pittsburgh Steelers (2012-2014)    2.671666  -2.112904 -0.570834\n",
       "Arizona Cardinals (2012-2014)     -1.007853   3.654409  1.861985\n",
       "Indianapolis Colts (2012-2014)     2.234194  -2.023839  3.684352\n",
       "Minnesota Vikings (2012-2014)     -2.747830  -0.277143 -1.381647\n",
       "Detroit Lions (2012-2014)          1.453828  -0.182957  3.992675\n",
       "San Diego Chargers (2012-2014)     1.780142  -2.363846  0.180514\n",
       "San Francisco 49ers (2012-2014)    5.255163   6.056536 -5.242491\n",
       "New Orleans Saints (2012-2014)     3.636576  -6.938875  3.153337\n",
       "Seattle Seahawks (2012-2014)       9.830830  10.093678 -3.626334\n",
       "Green Bay Packers (2012-2014)      6.262066  -2.224972  2.058920\n",
       "Cincinnati Bengals (2012-2014)     4.101003   3.236170 -2.074361\n",
       "Kansas City Chiefs (2012-2014)    -3.350950   4.626265  5.603220\n",
       "Dallas Cowboys (2012-2014)         3.261639  -4.697542  6.748427\n",
       "Philadelphia Eagles (2012-2014)    0.537928  -1.167592  6.168729\n",
       "New England Patriots (2012-2014)   7.644974  -1.297861  0.724376\n",
       "Chicago Bears (2012-2014)         -0.835033  -5.091914 -5.911015\n",
       "Denver Broncos (2012-2014)        12.422426  -2.618615  0.411565\n",
       "\n",
       "[96 rows x 3 columns]"
      ]
     },
     "execution_count": 172,
     "metadata": {},
     "output_type": "execute_result"
    }
   ],
   "source": [
    "pca_train_df.iloc[:,:3]"
   ]
  },
  {
   "cell_type": "code",
   "execution_count": 176,
   "metadata": {},
   "outputs": [
    {
     "name": "stdout",
     "output_type": "stream",
     "text": [
      "\n"
     ]
    }
   ],
   "source": [
    "from sklearn.cluster import DBSCAN, KMeans, hierarchical\n",
    "from sklearn.metrics import silhouette_score\n"
   ]
  },
  {
   "cell_type": "code",
   "execution_count": 376,
   "metadata": {
    "collapsed": true
   },
   "outputs": [],
   "source": [
    "kmeans = KMeans(n_clusters=7)"
   ]
  },
  {
   "cell_type": "code",
   "execution_count": 377,
   "metadata": {},
   "outputs": [
    {
     "data": {
      "text/plain": [
       "KMeans(algorithm='auto', copy_x=True, init='k-means++', max_iter=300,\n",
       "    n_clusters=7, n_init=10, n_jobs=1, precompute_distances='auto',\n",
       "    random_state=None, tol=0.0001, verbose=0)"
      ]
     },
     "execution_count": 377,
     "metadata": {},
     "output_type": "execute_result"
    }
   ],
   "source": [
    "kmeans.fit(pca_train_df.iloc[:,:3])"
   ]
  },
  {
   "cell_type": "code",
   "execution_count": 378,
   "metadata": {},
   "outputs": [
    {
     "name": "stdout",
     "output_type": "stream",
     "text": [
      "[2 5 4 0 3 2 2 0 4 5 2 2 1 4 2 0 2 4 2 3 0 6 3 5 1 5 4 3 4 1 0 5 2 0 2 2 3\n",
      " 2 0 0 4 4 2 2 3 4 5 0 2 5 2 3 3 6 1 6 1 0 2 3 3 1 0 5 2 0 4 2 4 2 2 5 4 4\n",
      " 5 4 3 2 0 3 5 3 4 5 3 0 3 6 1 0 5 3 5 1 4 1]\n"
     ]
    }
   ],
   "source": [
    "labels = kmeans.labels_\n",
    "print labels"
   ]
  },
  {
   "cell_type": "code",
   "execution_count": 379,
   "metadata": {},
   "outputs": [
    {
     "name": "stdout",
     "output_type": "stream",
     "text": [
      "s_score 0.265007067757\n"
     ]
    }
   ],
   "source": [
    "print 's_score',silhouette_score(pca_train_df.iloc[:,:3],kmeans.labels_)"
   ]
  },
  {
   "cell_type": "code",
   "execution_count": 370,
   "metadata": {
    "collapsed": true
   },
   "outputs": [],
   "source": [
    "from mpl_toolkits.mplot3d import Axes3D\n"
   ]
  },
  {
   "cell_type": "code",
   "execution_count": 380,
   "metadata": {},
   "outputs": [
    {
     "data": {
      "image/png": "[encoded data removed]",
      "text/plain": [
       "<matplotlib.figure.Figure at 0x11bee2f10>"
      ]
     },
     "metadata": {},
     "output_type": "display_data"
    }
   ],
   "source": [
    "fig = plt.figure(figsize=(10,10))\n",
    "ax = fig.add_subplot(111, projection='3d')\n",
    "ax.scatter(pca_train_df.iloc[:,0], pca_train_df.iloc[:,1], pca_train_df.iloc[:,2], c=labels,cmap='rainbow', s=30)\n",
    "plt.title('Team PCA Clusters',fontsize=24)\n",
    "ax.set(xlabel='pca-0',ylabel=\"pca-1\",zlabel=\"pca_2\")\n",
    "ax.view_init(15, 130)\n",
    "plt.draw()"
   ]
  },
  {
   "cell_type": "code",
   "execution_count": 206,
   "metadata": {},
   "outputs": [],
   "source": [
    "pca_train_df['labels'] = list(labels)"
   ]
  },
  {
   "cell_type": "code",
   "execution_count": 210,
   "metadata": {},
   "outputs": [
    {
     "data": {
      "text/html": [
       "<div>\n",
       "<style>\n",
       "    .dataframe thead tr:only-child th {\n",
       "        text-align: right;\n",
       "    }\n",
       "\n",
       "    .dataframe thead th {\n",
       "        text-align: left;\n",
       "    }\n",
       "\n",
       "    .dataframe tbody tr th {\n",
       "        vertical-align: top;\n",
       "    }\n",
       "</style>\n",
       "<table border=\"1\" class=\"dataframe\">\n",
       "  <thead>\n",
       "    <tr style=\"text-align: right;\">\n",
       "      <th></th>\n",
       "      <th>count</th>\n",
       "      <th>mean</th>\n",
       "      <th>std</th>\n",
       "      <th>min</th>\n",
       "      <th>25%</th>\n",
       "      <th>50%</th>\n",
       "      <th>75%</th>\n",
       "      <th>max</th>\n",
       "    </tr>\n",
       "    <tr>\n",
       "      <th>labels</th>\n",
       "      <th></th>\n",
       "      <th></th>\n",
       "      <th></th>\n",
       "      <th></th>\n",
       "      <th></th>\n",
       "      <th></th>\n",
       "      <th></th>\n",
       "      <th></th>\n",
       "    </tr>\n",
       "  </thead>\n",
       "  <tbody>\n",
       "    <tr>\n",
       "      <th>0</th>\n",
       "      <td>41.0</td>\n",
       "      <td>6.804878</td>\n",
       "      <td>3.100157</td>\n",
       "      <td>2.0</td>\n",
       "      <td>4.0</td>\n",
       "      <td>7.0</td>\n",
       "      <td>9.00</td>\n",
       "      <td>13.0</td>\n",
       "    </tr>\n",
       "    <tr>\n",
       "      <th>1</th>\n",
       "      <td>24.0</td>\n",
       "      <td>9.125000</td>\n",
       "      <td>3.040488</td>\n",
       "      <td>2.0</td>\n",
       "      <td>8.0</td>\n",
       "      <td>9.0</td>\n",
       "      <td>11.25</td>\n",
       "      <td>15.0</td>\n",
       "    </tr>\n",
       "    <tr>\n",
       "      <th>2</th>\n",
       "      <td>31.0</td>\n",
       "      <td>8.645161</td>\n",
       "      <td>2.589059</td>\n",
       "      <td>4.0</td>\n",
       "      <td>7.0</td>\n",
       "      <td>8.0</td>\n",
       "      <td>11.00</td>\n",
       "      <td>12.0</td>\n",
       "    </tr>\n",
       "  </tbody>\n",
       "</table>\n",
       "</div>"
      ],
      "text/plain": [
       "        count      mean       std  min  25%  50%    75%   max\n",
       "labels                                                       \n",
       "0        41.0  6.804878  3.100157  2.0  4.0  7.0   9.00  13.0\n",
       "1        24.0  9.125000  3.040488  2.0  8.0  9.0  11.25  15.0\n",
       "2        31.0  8.645161  2.589059  4.0  7.0  8.0  11.00  12.0"
      ]
     },
     "execution_count": 210,
     "metadata": {},
     "output_type": "execute_result"
    }
   ],
   "source": [
    "pca_train_df.groupby('labels')['W_standings_next'].describe()"
   ]
  },
  {
   "cell_type": "code",
   "execution_count": 244,
   "metadata": {},
   "outputs": [],
   "source": [
    "from scipy.cluster.hierarchy import dendrogram, linkage, cophenet, fcluster\n",
    "from scipy.spatial.distance import pdist"
   ]
  },
  {
   "cell_type": "code",
   "execution_count": 245,
   "metadata": {},
   "outputs": [
    {
     "name": "stdout",
     "output_type": "stream",
     "text": [
      "0.492540712176\n",
      "0.487917719821\n",
      "0.616930557682\n"
     ]
    }
   ],
   "source": [
    "Z = linkage(pca_train_df.iloc[:,:3], 'single')\n",
    "c, coph_dists = cophenet(Z, pdist(pca_train_df.iloc[:,:3]))\n",
    "print c\n",
    "\n",
    "Z = linkage(pca_train_df.iloc[:,:3], 'complete')\n",
    "c, coph_dists = cophenet(Z, pdist(pca_train_df.iloc[:,:3]))\n",
    "print c\n",
    "\n",
    "Z = linkage(pca_train_df.iloc[:,:3], 'average')\n",
    "c, coph_dists = cophenet(Z, pdist(pca_train_df.iloc[:,:3]))\n",
    "print c"
   ]
  },
  {
   "cell_type": "code",
   "execution_count": 332,
   "metadata": {},
   "outputs": [
    {
     "data": {
      "image/png": "[encoded data removed]",
      "text/plain": [
       "<matplotlib.figure.Figure at 0x11922ee50>"
      ]
     },
     "metadata": {},
     "output_type": "display_data"
    }
   ],
   "source": [
    "Z = linkage(pca_train_df.iloc[:,:3], 'average')\n",
    "fig, ax = plt.subplots(figsize=(30,8))\n",
    "dn = dendrogram(Z, orientation='top', labels=zip(pca_train_df.index,pca_train_df['W_standings_next']),leaf_font_size=12)\n"
   ]
  },
  {
   "cell_type": "code",
   "execution_count": null,
   "metadata": {
    "collapsed": true
   },
   "outputs": [],
   "source": []
  }
 ],
 "metadata": {
  "kernelspec": {
   "display_name": "Python 2",
   "language": "python",
   "name": "python2"
  },
  "language_info": {
   "codemirror_mode": {
    "name": "ipython",
    "version": 2
   },
   "file_extension": ".py",
   "mimetype": "text/x-python",
   "name": "python",
   "nbconvert_exporter": "python",
   "pygments_lexer": "ipython2",
   "version": "2.7.13"
  }
 },
 "nbformat": 4,
 "nbformat_minor": 2
}
