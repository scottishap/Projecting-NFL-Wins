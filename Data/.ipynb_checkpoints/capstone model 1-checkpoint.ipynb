{
 "cells": [
  {
   "cell_type": "code",
   "execution_count": 1,
   "metadata": {
    "collapsed": true
   },
   "outputs": [],
   "source": [
    "import numpy as np\n",
    "import pandas as pd\n",
    "import matplotlib.pyplot as plt\n",
    "import seaborn as sns\n",
    "%matplotlib inline"
   ]
  },
  {
   "cell_type": "code",
   "execution_count": 23,
   "metadata": {
    "collapsed": true
   },
   "outputs": [],
   "source": [
    "df = pd.read_csv('./model_data.csv',index_col='Tm')"
   ]
  },
  {
   "cell_type": "code",
   "execution_count": 24,
   "metadata": {},
   "outputs": [
    {
     "data": {
      "text/html": [
       "<div>\n",
       "<style>\n",
       "    .dataframe thead tr:only-child th {\n",
       "        text-align: right;\n",
       "    }\n",
       "\n",
       "    .dataframe thead th {\n",
       "        text-align: left;\n",
       "    }\n",
       "\n",
       "    .dataframe tbody tr th {\n",
       "        vertical-align: top;\n",
       "    }\n",
       "</style>\n",
       "<table border=\"1\" class=\"dataframe\">\n",
       "  <thead>\n",
       "    <tr style=\"text-align: right;\">\n",
       "      <th></th>\n",
       "      <th>2PA_scoring_2010</th>\n",
       "      <th>2PA_scoring_2011</th>\n",
       "      <th>2PA_scoring_2012</th>\n",
       "      <th>2PA_scoring_2013</th>\n",
       "      <th>2PA_scoring_2014</th>\n",
       "      <th>2PA_scoring_2015</th>\n",
       "      <th>2PA_scoring_2016</th>\n",
       "      <th>2PA_scoring_def_2010</th>\n",
       "      <th>2PA_scoring_def_2011</th>\n",
       "      <th>2PA_scoring_def_2012</th>\n",
       "      <th>...</th>\n",
       "      <th>Yds_rush_def_2014</th>\n",
       "      <th>Yds_rush_def_2015</th>\n",
       "      <th>Yds_rush_def_2016</th>\n",
       "      <th>Yds_rushing_2010</th>\n",
       "      <th>Yds_rushing_2011</th>\n",
       "      <th>Yds_rushing_2012</th>\n",
       "      <th>Yds_rushing_2013</th>\n",
       "      <th>Yds_rushing_2014</th>\n",
       "      <th>Yds_rushing_2015</th>\n",
       "      <th>Yds_rushing_2016</th>\n",
       "    </tr>\n",
       "    <tr>\n",
       "      <th>Tm</th>\n",
       "      <th></th>\n",
       "      <th></th>\n",
       "      <th></th>\n",
       "      <th></th>\n",
       "      <th></th>\n",
       "      <th></th>\n",
       "      <th></th>\n",
       "      <th></th>\n",
       "      <th></th>\n",
       "      <th></th>\n",
       "      <th></th>\n",
       "      <th></th>\n",
       "      <th></th>\n",
       "      <th></th>\n",
       "      <th></th>\n",
       "      <th></th>\n",
       "      <th></th>\n",
       "      <th></th>\n",
       "      <th></th>\n",
       "      <th></th>\n",
       "      <th></th>\n",
       "    </tr>\n",
       "  </thead>\n",
       "  <tbody>\n",
       "    <tr>\n",
       "      <th>Jacksonville Jaguars</th>\n",
       "      <td>0.0</td>\n",
       "      <td>1.0</td>\n",
       "      <td>7.0</td>\n",
       "      <td>2.0</td>\n",
       "      <td>4.0</td>\n",
       "      <td>5.0</td>\n",
       "      <td>2.0</td>\n",
       "      <td>2.0</td>\n",
       "      <td>1.0</td>\n",
       "      <td>1.0</td>\n",
       "      <td>...</td>\n",
       "      <td>2033.0</td>\n",
       "      <td>1709.0</td>\n",
       "      <td>1703.0</td>\n",
       "      <td>2395.0</td>\n",
       "      <td>1970.0</td>\n",
       "      <td>1369.0</td>\n",
       "      <td>1260.0</td>\n",
       "      <td>1633.0</td>\n",
       "      <td>1473.0</td>\n",
       "      <td>1631.0</td>\n",
       "    </tr>\n",
       "    <tr>\n",
       "      <th>Houston Texans</th>\n",
       "      <td>1.0</td>\n",
       "      <td>1.0</td>\n",
       "      <td>0.0</td>\n",
       "      <td>1.0</td>\n",
       "      <td>0.0</td>\n",
       "      <td>3.0</td>\n",
       "      <td>0.0</td>\n",
       "      <td>1.0</td>\n",
       "      <td>5.0</td>\n",
       "      <td>0.0</td>\n",
       "      <td>...</td>\n",
       "      <td>1681.0</td>\n",
       "      <td>1597.0</td>\n",
       "      <td>1595.0</td>\n",
       "      <td>2042.0</td>\n",
       "      <td>2448.0</td>\n",
       "      <td>2123.0</td>\n",
       "      <td>1743.0</td>\n",
       "      <td>2161.0</td>\n",
       "      <td>1731.0</td>\n",
       "      <td>1859.0</td>\n",
       "    </tr>\n",
       "    <tr>\n",
       "      <th>Tampa Bay Buccaneers</th>\n",
       "      <td>3.0</td>\n",
       "      <td>7.0</td>\n",
       "      <td>4.0</td>\n",
       "      <td>0.0</td>\n",
       "      <td>0.0</td>\n",
       "      <td>3.0</td>\n",
       "      <td>7.0</td>\n",
       "      <td>3.0</td>\n",
       "      <td>1.0</td>\n",
       "      <td>3.0</td>\n",
       "      <td>...</td>\n",
       "      <td>1819.0</td>\n",
       "      <td>1606.0</td>\n",
       "      <td>1875.0</td>\n",
       "      <td>2001.0</td>\n",
       "      <td>1458.0</td>\n",
       "      <td>1837.0</td>\n",
       "      <td>1612.0</td>\n",
       "      <td>1375.0</td>\n",
       "      <td>2162.0</td>\n",
       "      <td>1616.0</td>\n",
       "    </tr>\n",
       "    <tr>\n",
       "      <th>New York Jets</th>\n",
       "      <td>1.0</td>\n",
       "      <td>1.0</td>\n",
       "      <td>1.0</td>\n",
       "      <td>0.0</td>\n",
       "      <td>4.0</td>\n",
       "      <td>0.0</td>\n",
       "      <td>1.0</td>\n",
       "      <td>1.0</td>\n",
       "      <td>1.0</td>\n",
       "      <td>1.0</td>\n",
       "      <td>...</td>\n",
       "      <td>1489.0</td>\n",
       "      <td>1335.0</td>\n",
       "      <td>1581.0</td>\n",
       "      <td>2374.0</td>\n",
       "      <td>1692.0</td>\n",
       "      <td>1896.0</td>\n",
       "      <td>2158.0</td>\n",
       "      <td>2280.0</td>\n",
       "      <td>1868.0</td>\n",
       "      <td>1802.0</td>\n",
       "    </tr>\n",
       "    <tr>\n",
       "      <th>New York Giants</th>\n",
       "      <td>1.0</td>\n",
       "      <td>4.0</td>\n",
       "      <td>1.0</td>\n",
       "      <td>1.0</td>\n",
       "      <td>0.0</td>\n",
       "      <td>2.0</td>\n",
       "      <td>1.0</td>\n",
       "      <td>2.0</td>\n",
       "      <td>1.0</td>\n",
       "      <td>0.0</td>\n",
       "      <td>...</td>\n",
       "      <td>2162.0</td>\n",
       "      <td>1942.0</td>\n",
       "      <td>1417.0</td>\n",
       "      <td>2200.0</td>\n",
       "      <td>1427.0</td>\n",
       "      <td>1862.0</td>\n",
       "      <td>1332.0</td>\n",
       "      <td>1603.0</td>\n",
       "      <td>1609.0</td>\n",
       "      <td>1412.0</td>\n",
       "    </tr>\n",
       "  </tbody>\n",
       "</table>\n",
       "<p>5 rows × 504 columns</p>\n",
       "</div>"
      ],
      "text/plain": [
       "                      2PA_scoring_2010  2PA_scoring_2011  2PA_scoring_2012  \\\n",
       "Tm                                                                           \n",
       "Jacksonville Jaguars               0.0               1.0               7.0   \n",
       "Houston Texans                     1.0               1.0               0.0   \n",
       "Tampa Bay Buccaneers               3.0               7.0               4.0   \n",
       "New York Jets                      1.0               1.0               1.0   \n",
       "New York Giants                    1.0               4.0               1.0   \n",
       "\n",
       "                      2PA_scoring_2013  2PA_scoring_2014  2PA_scoring_2015  \\\n",
       "Tm                                                                           \n",
       "Jacksonville Jaguars               2.0               4.0               5.0   \n",
       "Houston Texans                     1.0               0.0               3.0   \n",
       "Tampa Bay Buccaneers               0.0               0.0               3.0   \n",
       "New York Jets                      0.0               4.0               0.0   \n",
       "New York Giants                    1.0               0.0               2.0   \n",
       "\n",
       "                      2PA_scoring_2016  2PA_scoring_def_2010  \\\n",
       "Tm                                                             \n",
       "Jacksonville Jaguars               2.0                   2.0   \n",
       "Houston Texans                     0.0                   1.0   \n",
       "Tampa Bay Buccaneers               7.0                   3.0   \n",
       "New York Jets                      1.0                   1.0   \n",
       "New York Giants                    1.0                   2.0   \n",
       "\n",
       "                      2PA_scoring_def_2011  2PA_scoring_def_2012  \\\n",
       "Tm                                                                 \n",
       "Jacksonville Jaguars                   1.0                   1.0   \n",
       "Houston Texans                         5.0                   0.0   \n",
       "Tampa Bay Buccaneers                   1.0                   3.0   \n",
       "New York Jets                          1.0                   1.0   \n",
       "New York Giants                        1.0                   0.0   \n",
       "\n",
       "                            ...         Yds_rush_def_2014  Yds_rush_def_2015  \\\n",
       "Tm                          ...                                                \n",
       "Jacksonville Jaguars        ...                    2033.0             1709.0   \n",
       "Houston Texans              ...                    1681.0             1597.0   \n",
       "Tampa Bay Buccaneers        ...                    1819.0             1606.0   \n",
       "New York Jets               ...                    1489.0             1335.0   \n",
       "New York Giants             ...                    2162.0             1942.0   \n",
       "\n",
       "                      Yds_rush_def_2016  Yds_rushing_2010  Yds_rushing_2011  \\\n",
       "Tm                                                                            \n",
       "Jacksonville Jaguars             1703.0            2395.0            1970.0   \n",
       "Houston Texans                   1595.0            2042.0            2448.0   \n",
       "Tampa Bay Buccaneers             1875.0            2001.0            1458.0   \n",
       "New York Jets                    1581.0            2374.0            1692.0   \n",
       "New York Giants                  1417.0            2200.0            1427.0   \n",
       "\n",
       "                      Yds_rushing_2012  Yds_rushing_2013  Yds_rushing_2014  \\\n",
       "Tm                                                                           \n",
       "Jacksonville Jaguars            1369.0            1260.0            1633.0   \n",
       "Houston Texans                  2123.0            1743.0            2161.0   \n",
       "Tampa Bay Buccaneers            1837.0            1612.0            1375.0   \n",
       "New York Jets                   1896.0            2158.0            2280.0   \n",
       "New York Giants                 1862.0            1332.0            1603.0   \n",
       "\n",
       "                      Yds_rushing_2015  Yds_rushing_2016  \n",
       "Tm                                                        \n",
       "Jacksonville Jaguars            1473.0            1631.0  \n",
       "Houston Texans                  1731.0            1859.0  \n",
       "Tampa Bay Buccaneers            2162.0            1616.0  \n",
       "New York Jets                   1868.0            1802.0  \n",
       "New York Giants                 1609.0            1412.0  \n",
       "\n",
       "[5 rows x 504 columns]"
      ]
     },
     "execution_count": 24,
     "metadata": {},
     "output_type": "execute_result"
    }
   ],
   "source": [
    "df.head()"
   ]
  },
  {
   "cell_type": "code",
   "execution_count": 39,
   "metadata": {
    "collapsed": true
   },
   "outputs": [],
   "source": [
    "from sklearn.linear_model import LinearRegression, ElasticNetCV\n",
    "from sklearn.preprocessing import StandardScaler\n"
   ]
  },
  {
   "cell_type": "code",
   "execution_count": 25,
   "metadata": {
    "collapsed": true
   },
   "outputs": [],
   "source": [
    "Xtrain = df[[i for i in df.columns if ('_2010' in i)|('_2011' in i)|('_2012' in i)]]\n",
    "ytrain = df[[i for i in df.columns if 'W_' in i]]['W_standings_2013']\n",
    "Xtest = df[[i for i in df.columns if ('_2011' in i)|('_2012' in i)|('_2013' in i)]]\n",
    "ytest = df[[i for i in df.columns if 'W_' in i]]['W_standings_2014']"
   ]
  },
  {
   "cell_type": "code",
   "execution_count": 44,
   "metadata": {},
   "outputs": [
    {
     "data": {
      "text/plain": [
       "(32, 216)"
      ]
     },
     "execution_count": 44,
     "metadata": {},
     "output_type": "execute_result"
    }
   ],
   "source": [
    "Xtrain.shape"
   ]
  },
  {
   "cell_type": "code",
   "execution_count": 14,
   "metadata": {
    "collapsed": true
   },
   "outputs": [],
   "source": [
    "ss = StandardScaler()"
   ]
  },
  {
   "cell_type": "code",
   "execution_count": 15,
   "metadata": {
    "collapsed": true
   },
   "outputs": [],
   "source": [
    "Xstd = ss.fit_transform(Xtrain)"
   ]
  },
  {
   "cell_type": "code",
   "execution_count": 7,
   "metadata": {
    "collapsed": true
   },
   "outputs": [],
   "source": [
    "lr = LinearRegression()"
   ]
  },
  {
   "cell_type": "code",
   "execution_count": 8,
   "metadata": {
    "collapsed": true
   },
   "outputs": [],
   "source": [
    "enet = ElasticNetCV(l1_ratio=[.1, .5, .7, .9, .95, .99, 1])"
   ]
  },
  {
   "cell_type": "code",
   "execution_count": 16,
   "metadata": {},
   "outputs": [
    {
     "data": {
      "text/plain": [
       "ElasticNetCV(alphas=None, copy_X=True, cv=None, eps=0.001, fit_intercept=True,\n",
       "       l1_ratio=[0.1, 0.5, 0.7, 0.9, 0.95, 0.99, 1], max_iter=1000,\n",
       "       n_alphas=100, n_jobs=1, normalize=False, positive=False,\n",
       "       precompute='auto', random_state=None, selection='cyclic',\n",
       "       tol=0.0001, verbose=0)"
      ]
     },
     "execution_count": 16,
     "metadata": {},
     "output_type": "execute_result"
    }
   ],
   "source": [
    "enet.fit(Xstd,ytrain)"
   ]
  },
  {
   "cell_type": "code",
   "execution_count": 49,
   "metadata": {},
   "outputs": [
    {
     "data": {
      "text/plain": [
       "11.04058563890521"
      ]
     },
     "execution_count": 49,
     "metadata": {},
     "output_type": "execute_result"
    }
   ],
   "source": [
    "enet.alpha_"
   ]
  },
  {
   "cell_type": "code",
   "execution_count": 48,
   "metadata": {},
   "outputs": [
    {
     "data": {
      "text/plain": [
       "0.10000000000000001"
      ]
     },
     "execution_count": 48,
     "metadata": {},
     "output_type": "execute_result"
    }
   ],
   "source": [
    "enet.l1_ratio_"
   ]
  },
  {
   "cell_type": "code",
   "execution_count": 45,
   "metadata": {
    "collapsed": true
   },
   "outputs": [],
   "source": [
    "Xtest_std = ss.transform(Xtest)"
   ]
  },
  {
   "cell_type": "code",
   "execution_count": 46,
   "metadata": {},
   "outputs": [
    {
     "data": {
      "text/plain": [
       "0.0"
      ]
     },
     "execution_count": 46,
     "metadata": {},
     "output_type": "execute_result"
    }
   ],
   "source": [
    "enet.score(Xtest_std,ytest)"
   ]
  },
  {
   "cell_type": "code",
   "execution_count": 47,
   "metadata": {},
   "outputs": [
    {
     "data": {
      "text/plain": [
       "array([ 7.96875,  7.96875,  7.96875,  7.96875,  7.96875,  7.96875,\n",
       "        7.96875,  7.96875,  7.96875,  7.96875,  7.96875,  7.96875,\n",
       "        7.96875,  7.96875,  7.96875,  7.96875,  7.96875,  7.96875,\n",
       "        7.96875,  7.96875,  7.96875,  7.96875,  7.96875,  7.96875,\n",
       "        7.96875,  7.96875,  7.96875,  7.96875,  7.96875,  7.96875,\n",
       "        7.96875,  7.96875])"
      ]
     },
     "execution_count": 47,
     "metadata": {},
     "output_type": "execute_result"
    }
   ],
   "source": [
    "enet.predict(Xtest_std)"
   ]
  },
  {
   "cell_type": "code",
   "execution_count": 52,
   "metadata": {},
   "outputs": [
    {
     "data": {
      "text/plain": [
       "['2PA_scoring_2010',\n",
       " '2PA_scoring_def_2010',\n",
       " '2PM_scoring_2010',\n",
       " '2PM_scoring_def_2010',\n",
       " '4QC_passing_2010',\n",
       " 'ANY/A_pass_def_2010',\n",
       " 'ANY/A_passing_2010',\n",
       " 'AY/A_pass_def_2010',\n",
       " 'AY/A_passing_2010',\n",
       " 'AllTD_scoring_2010',\n",
       " 'AllTD_scoring_def_2010',\n",
       " 'Att_pass_def_2010',\n",
       " 'Att_passing_2010',\n",
       " 'Att_rush_def_2010',\n",
       " 'Att_rushing_2010',\n",
       " 'Cmp_pass_def_2010',\n",
       " 'Cmp_passing_2010',\n",
       " 'DSRS_standings_2010',\n",
       " 'FGA_scoring_2010',\n",
       " 'FGA_scoring_def_2010',\n",
       " 'FGM_scoring_2010',\n",
       " 'FGM_scoring_def_2010',\n",
       " 'FblTD_scoring_2010',\n",
       " 'FblTD_scoring_def_2010',\n",
       " 'Fmb_rushing_2010',\n",
       " 'GWD_passing_2010',\n",
       " 'IntTD_scoring_2010',\n",
       " 'IntTD_scoring_def_2010',\n",
       " 'Int_pass_def_2010',\n",
       " 'Int_passing_2010',\n",
       " 'KR TD_scoring_2010',\n",
       " 'KR TD_scoring_def_2010',\n",
       " 'MoV_standings_2010',\n",
       " 'NY/A_pass_def_2010',\n",
       " 'NY/A_passing_2010',\n",
       " 'OSRS_standings_2010',\n",
       " 'OthTD_scoring_2010',\n",
       " 'OthTD_scoring_def_2010',\n",
       " 'PA_standings_2010',\n",
       " 'PD_standings_2010',\n",
       " 'PR TD_scoring_2010',\n",
       " 'PR TD_scoring_def_2010',\n",
       " 'Pts_scoring_2010',\n",
       " 'Rate_pass_def_2010',\n",
       " 'Rate_passing_2010',\n",
       " 'SRS_standings_2010',\n",
       " 'Sack_Yds_pass_def_2010',\n",
       " 'Sack_Yds_passing_2010',\n",
       " 'Sfty_scoring_2010',\n",
       " 'Sfty_scoring_def_2010',\n",
       " 'Sk_pass_def_2010',\n",
       " 'Sk_passing_2010',\n",
       " 'SoS_standings_2010',\n",
       " 'TD_pass_def_2010',\n",
       " 'TD_passing_2010',\n",
       " 'TD_rush_def_2010',\n",
       " 'TD_rushing_2010',\n",
       " 'W_standings_2010',\n",
       " 'XPA_scoring_2010',\n",
       " 'XPA_scoring_def_2010',\n",
       " 'XPM_scoring_2010',\n",
       " 'XPM_scoring_def_2010',\n",
       " 'Y/A_pass_def_2010',\n",
       " 'Y/A_passing_2010',\n",
       " 'Y/A_rush_def_2010',\n",
       " 'Y/A_rushing_2010',\n",
       " 'Y/C_pass_def_2010',\n",
       " 'Y/C_passing_2010',\n",
       " 'Yds_pass_def_2010',\n",
       " 'Yds_passing_2010',\n",
       " 'Yds_rush_def_2010',\n",
       " 'Yds_rushing_2010']"
      ]
     },
     "execution_count": 52,
     "metadata": {},
     "output_type": "execute_result"
    }
   ],
   "source": [
    "[i for i in df.columns if '2010' in i]"
   ]
  },
  {
   "cell_type": "code",
   "execution_count": 58,
   "metadata": {
    "collapsed": true
   },
   "outputs": [],
   "source": [
    "cols = ['PA_standings_','W_standings','Pts_scoring_','SoS_standings_','ANY/A_pass_def_','ANY/A_passing_','Y/A_rush_def_','Y/A_rushing_','FGM_scoring_']"
   ]
  },
  {
   "cell_type": "code",
   "execution_count": 62,
   "metadata": {},
   "outputs": [],
   "source": [
    "cols_year = []\n",
    "for i in cols:\n",
    "    for col in df.columns:\n",
    "        if i in col:\n",
    "            cols_year.append(col)"
   ]
  },
  {
   "cell_type": "code",
   "execution_count": 91,
   "metadata": {},
   "outputs": [],
   "source": [
    "df_new = df[cols_year]"
   ]
  },
  {
   "cell_type": "code",
   "execution_count": 92,
   "metadata": {},
   "outputs": [],
   "source": [
    "df_2010_2012 = df_new[[i for i in df_new.columns if ('2010' in i) | ('2011' in i)|('2012' in i)]]"
   ]
  },
  {
   "cell_type": "code",
   "execution_count": 93,
   "metadata": {},
   "outputs": [],
   "source": [
    "df_2010_2012 = df_2010_2012.join(df_new['W_standings_2013'])"
   ]
  },
  {
   "cell_type": "code",
   "execution_count": 94,
   "metadata": {},
   "outputs": [],
   "source": [
    "df_2010_2012.index = [i + ' (2010-2012)' for i in df_2010_2012.index]"
   ]
  },
  {
   "cell_type": "code",
   "execution_count": 100,
   "metadata": {},
   "outputs": [],
   "source": [
    "df_2010_2012.columns = df_2010_2012.columns.map(lambda x: x.replace('2010','py_2').replace('2011','py_1').replace('2012','py').replace('2013','next'))"
   ]
  },
  {
   "cell_type": "code",
   "execution_count": 102,
   "metadata": {},
   "outputs": [
    {
     "data": {
      "text/html": [
       "<div>\n",
       "<style>\n",
       "    .dataframe thead tr:only-child th {\n",
       "        text-align: right;\n",
       "    }\n",
       "\n",
       "    .dataframe thead th {\n",
       "        text-align: left;\n",
       "    }\n",
       "\n",
       "    .dataframe tbody tr th {\n",
       "        vertical-align: top;\n",
       "    }\n",
       "</style>\n",
       "<table border=\"1\" class=\"dataframe\">\n",
       "  <thead>\n",
       "    <tr style=\"text-align: right;\">\n",
       "      <th></th>\n",
       "      <th>PA_standings_py_2</th>\n",
       "      <th>PA_standings_py_1</th>\n",
       "      <th>PA_standings_py</th>\n",
       "      <th>W_standings_py_2</th>\n",
       "      <th>W_standings_py_1</th>\n",
       "      <th>W_standings_py</th>\n",
       "      <th>Pts_scoring_py_2</th>\n",
       "      <th>Pts_scoring_py_1</th>\n",
       "      <th>Pts_scoring_py</th>\n",
       "      <th>SoS_standings_py_2</th>\n",
       "      <th>...</th>\n",
       "      <th>Y/A_rushing_py_2</th>\n",
       "      <th>Y/A_rushing_py_1</th>\n",
       "      <th>Y/A_rushing_py</th>\n",
       "      <th>FGM_scoring_py_2</th>\n",
       "      <th>FGM_scoring_py_1</th>\n",
       "      <th>FGM_scoring_py</th>\n",
       "      <th>FGM_scoring_def_py_2</th>\n",
       "      <th>FGM_scoring_def_py_1</th>\n",
       "      <th>FGM_scoring_def_py</th>\n",
       "      <th>W_standings_next</th>\n",
       "    </tr>\n",
       "  </thead>\n",
       "  <tbody>\n",
       "    <tr>\n",
       "      <th>Jacksonville Jaguars (2010-2012)</th>\n",
       "      <td>419.0</td>\n",
       "      <td>329.0</td>\n",
       "      <td>444.0</td>\n",
       "      <td>8.0</td>\n",
       "      <td>5.0</td>\n",
       "      <td>2.0</td>\n",
       "      <td>353.0</td>\n",
       "      <td>243.0</td>\n",
       "      <td>255.0</td>\n",
       "      <td>-0.4</td>\n",
       "      <td>...</td>\n",
       "      <td>4.7</td>\n",
       "      <td>4.0</td>\n",
       "      <td>3.8</td>\n",
       "      <td>22.0</td>\n",
       "      <td>23.0</td>\n",
       "      <td>25.0</td>\n",
       "      <td>23.0</td>\n",
       "      <td>22.0</td>\n",
       "      <td>36.0</td>\n",
       "      <td>4.0</td>\n",
       "    </tr>\n",
       "    <tr>\n",
       "      <th>Houston Texans (2010-2012)</th>\n",
       "      <td>427.0</td>\n",
       "      <td>278.0</td>\n",
       "      <td>331.0</td>\n",
       "      <td>6.0</td>\n",
       "      <td>10.0</td>\n",
       "      <td>12.0</td>\n",
       "      <td>390.0</td>\n",
       "      <td>381.0</td>\n",
       "      <td>416.0</td>\n",
       "      <td>0.5</td>\n",
       "      <td>...</td>\n",
       "      <td>4.8</td>\n",
       "      <td>4.5</td>\n",
       "      <td>4.2</td>\n",
       "      <td>27.0</td>\n",
       "      <td>32.0</td>\n",
       "      <td>31.0</td>\n",
       "      <td>21.0</td>\n",
       "      <td>30.0</td>\n",
       "      <td>21.0</td>\n",
       "      <td>2.0</td>\n",
       "    </tr>\n",
       "    <tr>\n",
       "      <th>Tampa Bay Buccaneers (2010-2012)</th>\n",
       "      <td>318.0</td>\n",
       "      <td>494.0</td>\n",
       "      <td>394.0</td>\n",
       "      <td>10.0</td>\n",
       "      <td>4.0</td>\n",
       "      <td>7.0</td>\n",
       "      <td>341.0</td>\n",
       "      <td>287.0</td>\n",
       "      <td>389.0</td>\n",
       "      <td>-2.0</td>\n",
       "      <td>...</td>\n",
       "      <td>4.6</td>\n",
       "      <td>4.2</td>\n",
       "      <td>4.4</td>\n",
       "      <td>23.0</td>\n",
       "      <td>26.0</td>\n",
       "      <td>28.0</td>\n",
       "      <td>17.0</td>\n",
       "      <td>23.0</td>\n",
       "      <td>19.0</td>\n",
       "      <td>4.0</td>\n",
       "    </tr>\n",
       "    <tr>\n",
       "      <th>New York Jets (2010-2012)</th>\n",
       "      <td>304.0</td>\n",
       "      <td>363.0</td>\n",
       "      <td>375.0</td>\n",
       "      <td>11.0</td>\n",
       "      <td>8.0</td>\n",
       "      <td>6.0</td>\n",
       "      <td>367.0</td>\n",
       "      <td>377.0</td>\n",
       "      <td>281.0</td>\n",
       "      <td>2.5</td>\n",
       "      <td>...</td>\n",
       "      <td>4.4</td>\n",
       "      <td>3.8</td>\n",
       "      <td>3.8</td>\n",
       "      <td>30.0</td>\n",
       "      <td>19.0</td>\n",
       "      <td>21.0</td>\n",
       "      <td>18.0</td>\n",
       "      <td>29.0</td>\n",
       "      <td>22.0</td>\n",
       "      <td>8.0</td>\n",
       "    </tr>\n",
       "    <tr>\n",
       "      <th>New York Giants (2010-2012)</th>\n",
       "      <td>347.0</td>\n",
       "      <td>400.0</td>\n",
       "      <td>344.0</td>\n",
       "      <td>10.0</td>\n",
       "      <td>9.0</td>\n",
       "      <td>9.0</td>\n",
       "      <td>394.0</td>\n",
       "      <td>394.0</td>\n",
       "      <td>429.0</td>\n",
       "      <td>-0.8</td>\n",
       "      <td>...</td>\n",
       "      <td>4.6</td>\n",
       "      <td>3.5</td>\n",
       "      <td>4.6</td>\n",
       "      <td>19.0</td>\n",
       "      <td>19.0</td>\n",
       "      <td>33.0</td>\n",
       "      <td>23.0</td>\n",
       "      <td>25.0</td>\n",
       "      <td>26.0</td>\n",
       "      <td>7.0</td>\n",
       "    </tr>\n",
       "  </tbody>\n",
       "</table>\n",
       "<p>5 rows × 31 columns</p>\n",
       "</div>"
      ],
      "text/plain": [
       "                                  PA_standings_py_2  PA_standings_py_1  \\\n",
       "Jacksonville Jaguars (2010-2012)              419.0              329.0   \n",
       "Houston Texans (2010-2012)                    427.0              278.0   \n",
       "Tampa Bay Buccaneers (2010-2012)              318.0              494.0   \n",
       "New York Jets (2010-2012)                     304.0              363.0   \n",
       "New York Giants (2010-2012)                   347.0              400.0   \n",
       "\n",
       "                                  PA_standings_py  W_standings_py_2  \\\n",
       "Jacksonville Jaguars (2010-2012)            444.0               8.0   \n",
       "Houston Texans (2010-2012)                  331.0               6.0   \n",
       "Tampa Bay Buccaneers (2010-2012)            394.0              10.0   \n",
       "New York Jets (2010-2012)                   375.0              11.0   \n",
       "New York Giants (2010-2012)                 344.0              10.0   \n",
       "\n",
       "                                  W_standings_py_1  W_standings_py  \\\n",
       "Jacksonville Jaguars (2010-2012)               5.0             2.0   \n",
       "Houston Texans (2010-2012)                    10.0            12.0   \n",
       "Tampa Bay Buccaneers (2010-2012)               4.0             7.0   \n",
       "New York Jets (2010-2012)                      8.0             6.0   \n",
       "New York Giants (2010-2012)                    9.0             9.0   \n",
       "\n",
       "                                  Pts_scoring_py_2  Pts_scoring_py_1  \\\n",
       "Jacksonville Jaguars (2010-2012)             353.0             243.0   \n",
       "Houston Texans (2010-2012)                   390.0             381.0   \n",
       "Tampa Bay Buccaneers (2010-2012)             341.0             287.0   \n",
       "New York Jets (2010-2012)                    367.0             377.0   \n",
       "New York Giants (2010-2012)                  394.0             394.0   \n",
       "\n",
       "                                  Pts_scoring_py  SoS_standings_py_2  \\\n",
       "Jacksonville Jaguars (2010-2012)           255.0                -0.4   \n",
       "Houston Texans (2010-2012)                 416.0                 0.5   \n",
       "Tampa Bay Buccaneers (2010-2012)           389.0                -2.0   \n",
       "New York Jets (2010-2012)                  281.0                 2.5   \n",
       "New York Giants (2010-2012)                429.0                -0.8   \n",
       "\n",
       "                                        ...         Y/A_rushing_py_2  \\\n",
       "Jacksonville Jaguars (2010-2012)        ...                      4.7   \n",
       "Houston Texans (2010-2012)              ...                      4.8   \n",
       "Tampa Bay Buccaneers (2010-2012)        ...                      4.6   \n",
       "New York Jets (2010-2012)               ...                      4.4   \n",
       "New York Giants (2010-2012)             ...                      4.6   \n",
       "\n",
       "                                  Y/A_rushing_py_1  Y/A_rushing_py  \\\n",
       "Jacksonville Jaguars (2010-2012)               4.0             3.8   \n",
       "Houston Texans (2010-2012)                     4.5             4.2   \n",
       "Tampa Bay Buccaneers (2010-2012)               4.2             4.4   \n",
       "New York Jets (2010-2012)                      3.8             3.8   \n",
       "New York Giants (2010-2012)                    3.5             4.6   \n",
       "\n",
       "                                  FGM_scoring_py_2  FGM_scoring_py_1  \\\n",
       "Jacksonville Jaguars (2010-2012)              22.0              23.0   \n",
       "Houston Texans (2010-2012)                    27.0              32.0   \n",
       "Tampa Bay Buccaneers (2010-2012)              23.0              26.0   \n",
       "New York Jets (2010-2012)                     30.0              19.0   \n",
       "New York Giants (2010-2012)                   19.0              19.0   \n",
       "\n",
       "                                  FGM_scoring_py  FGM_scoring_def_py_2  \\\n",
       "Jacksonville Jaguars (2010-2012)            25.0                  23.0   \n",
       "Houston Texans (2010-2012)                  31.0                  21.0   \n",
       "Tampa Bay Buccaneers (2010-2012)            28.0                  17.0   \n",
       "New York Jets (2010-2012)                   21.0                  18.0   \n",
       "New York Giants (2010-2012)                 33.0                  23.0   \n",
       "\n",
       "                                  FGM_scoring_def_py_1  FGM_scoring_def_py  \\\n",
       "Jacksonville Jaguars (2010-2012)                  22.0                36.0   \n",
       "Houston Texans (2010-2012)                        30.0                21.0   \n",
       "Tampa Bay Buccaneers (2010-2012)                  23.0                19.0   \n",
       "New York Jets (2010-2012)                         29.0                22.0   \n",
       "New York Giants (2010-2012)                       25.0                26.0   \n",
       "\n",
       "                                  W_standings_next  \n",
       "Jacksonville Jaguars (2010-2012)               4.0  \n",
       "Houston Texans (2010-2012)                     2.0  \n",
       "Tampa Bay Buccaneers (2010-2012)               4.0  \n",
       "New York Jets (2010-2012)                      8.0  \n",
       "New York Giants (2010-2012)                    7.0  \n",
       "\n",
       "[5 rows x 31 columns]"
      ]
     },
     "execution_count": 102,
     "metadata": {},
     "output_type": "execute_result"
    }
   ],
   "source": [
    "df_2010_2012.head()"
   ]
  },
  {
   "cell_type": "code",
   "execution_count": null,
   "metadata": {
    "collapsed": true
   },
   "outputs": [],
   "source": []
  },
  {
   "cell_type": "code",
   "execution_count": 103,
   "metadata": {
    "collapsed": true
   },
   "outputs": [],
   "source": [
    "df_2011_2013 = df_new[[i for i in df_new.columns if ('2011' in i) | ('2012' in i)|('2013' in i)]]"
   ]
  },
  {
   "cell_type": "code",
   "execution_count": 104,
   "metadata": {
    "collapsed": true
   },
   "outputs": [],
   "source": [
    "df_2011_2013 = df_2011_2013.join(df_new['W_standings_2014'])"
   ]
  },
  {
   "cell_type": "code",
   "execution_count": 105,
   "metadata": {
    "collapsed": true
   },
   "outputs": [],
   "source": [
    "df_2011_2013.index = [i + ' (2011-2013)' for i in df_2011_2013.index]"
   ]
  },
  {
   "cell_type": "code",
   "execution_count": 106,
   "metadata": {
    "collapsed": true
   },
   "outputs": [],
   "source": [
    "df_2011_2013.columns = df_2011_2013.columns.map(lambda x: x.replace('2011','py_2').replace('2012','py_1').replace('2013','py').replace('2014','next'))"
   ]
  },
  {
   "cell_type": "code",
   "execution_count": 108,
   "metadata": {},
   "outputs": [
    {
     "data": {
      "text/html": [
       "<div>\n",
       "<style>\n",
       "    .dataframe thead tr:only-child th {\n",
       "        text-align: right;\n",
       "    }\n",
       "\n",
       "    .dataframe thead th {\n",
       "        text-align: left;\n",
       "    }\n",
       "\n",
       "    .dataframe tbody tr th {\n",
       "        vertical-align: top;\n",
       "    }\n",
       "</style>\n",
       "<table border=\"1\" class=\"dataframe\">\n",
       "  <thead>\n",
       "    <tr style=\"text-align: right;\">\n",
       "      <th></th>\n",
       "      <th>PA_standings_py_2</th>\n",
       "      <th>PA_standings_py_1</th>\n",
       "      <th>PA_standings_py</th>\n",
       "      <th>W_standings_py_2</th>\n",
       "      <th>W_standings_py_1</th>\n",
       "      <th>W_standings_py</th>\n",
       "      <th>Pts_scoring_py_2</th>\n",
       "      <th>Pts_scoring_py_1</th>\n",
       "      <th>Pts_scoring_py</th>\n",
       "      <th>SoS_standings_py_2</th>\n",
       "      <th>...</th>\n",
       "      <th>Y/A_rushing_py_2</th>\n",
       "      <th>Y/A_rushing_py_1</th>\n",
       "      <th>Y/A_rushing_py</th>\n",
       "      <th>FGM_scoring_py_2</th>\n",
       "      <th>FGM_scoring_py_1</th>\n",
       "      <th>FGM_scoring_py</th>\n",
       "      <th>FGM_scoring_def_py_2</th>\n",
       "      <th>FGM_scoring_def_py_1</th>\n",
       "      <th>FGM_scoring_def_py</th>\n",
       "      <th>W_standings_next</th>\n",
       "    </tr>\n",
       "  </thead>\n",
       "  <tbody>\n",
       "    <tr>\n",
       "      <th>Jacksonville Jaguars (2011-2013)</th>\n",
       "      <td>329.0</td>\n",
       "      <td>444.0</td>\n",
       "      <td>449.0</td>\n",
       "      <td>5.0</td>\n",
       "      <td>2.0</td>\n",
       "      <td>4.0</td>\n",
       "      <td>243.0</td>\n",
       "      <td>255.0</td>\n",
       "      <td>247.0</td>\n",
       "      <td>-0.3</td>\n",
       "      <td>...</td>\n",
       "      <td>4.0</td>\n",
       "      <td>3.8</td>\n",
       "      <td>3.3</td>\n",
       "      <td>23.0</td>\n",
       "      <td>25.0</td>\n",
       "      <td>23.0</td>\n",
       "      <td>22.0</td>\n",
       "      <td>36.0</td>\n",
       "      <td>26.0</td>\n",
       "      <td>3.0</td>\n",
       "    </tr>\n",
       "    <tr>\n",
       "      <th>Houston Texans (2011-2013)</th>\n",
       "      <td>278.0</td>\n",
       "      <td>331.0</td>\n",
       "      <td>428.0</td>\n",
       "      <td>10.0</td>\n",
       "      <td>12.0</td>\n",
       "      <td>2.0</td>\n",
       "      <td>381.0</td>\n",
       "      <td>416.0</td>\n",
       "      <td>276.0</td>\n",
       "      <td>-1.9</td>\n",
       "      <td>...</td>\n",
       "      <td>4.5</td>\n",
       "      <td>4.2</td>\n",
       "      <td>4.2</td>\n",
       "      <td>32.0</td>\n",
       "      <td>31.0</td>\n",
       "      <td>26.0</td>\n",
       "      <td>30.0</td>\n",
       "      <td>21.0</td>\n",
       "      <td>30.0</td>\n",
       "      <td>9.0</td>\n",
       "    </tr>\n",
       "    <tr>\n",
       "      <th>Tampa Bay Buccaneers (2011-2013)</th>\n",
       "      <td>494.0</td>\n",
       "      <td>394.0</td>\n",
       "      <td>389.0</td>\n",
       "      <td>4.0</td>\n",
       "      <td>7.0</td>\n",
       "      <td>4.0</td>\n",
       "      <td>287.0</td>\n",
       "      <td>389.0</td>\n",
       "      <td>288.0</td>\n",
       "      <td>2.3</td>\n",
       "      <td>...</td>\n",
       "      <td>4.2</td>\n",
       "      <td>4.4</td>\n",
       "      <td>3.8</td>\n",
       "      <td>26.0</td>\n",
       "      <td>28.0</td>\n",
       "      <td>23.0</td>\n",
       "      <td>23.0</td>\n",
       "      <td>19.0</td>\n",
       "      <td>31.0</td>\n",
       "      <td>2.0</td>\n",
       "    </tr>\n",
       "    <tr>\n",
       "      <th>New York Jets (2011-2013)</th>\n",
       "      <td>363.0</td>\n",
       "      <td>375.0</td>\n",
       "      <td>387.0</td>\n",
       "      <td>8.0</td>\n",
       "      <td>6.0</td>\n",
       "      <td>8.0</td>\n",
       "      <td>377.0</td>\n",
       "      <td>281.0</td>\n",
       "      <td>290.0</td>\n",
       "      <td>0.0</td>\n",
       "      <td>...</td>\n",
       "      <td>3.8</td>\n",
       "      <td>3.8</td>\n",
       "      <td>4.4</td>\n",
       "      <td>19.0</td>\n",
       "      <td>21.0</td>\n",
       "      <td>33.0</td>\n",
       "      <td>29.0</td>\n",
       "      <td>22.0</td>\n",
       "      <td>33.0</td>\n",
       "      <td>4.0</td>\n",
       "    </tr>\n",
       "    <tr>\n",
       "      <th>New York Giants (2011-2013)</th>\n",
       "      <td>400.0</td>\n",
       "      <td>344.0</td>\n",
       "      <td>383.0</td>\n",
       "      <td>9.0</td>\n",
       "      <td>9.0</td>\n",
       "      <td>7.0</td>\n",
       "      <td>394.0</td>\n",
       "      <td>429.0</td>\n",
       "      <td>294.0</td>\n",
       "      <td>2.0</td>\n",
       "      <td>...</td>\n",
       "      <td>3.5</td>\n",
       "      <td>4.6</td>\n",
       "      <td>3.5</td>\n",
       "      <td>19.0</td>\n",
       "      <td>33.0</td>\n",
       "      <td>23.0</td>\n",
       "      <td>25.0</td>\n",
       "      <td>26.0</td>\n",
       "      <td>29.0</td>\n",
       "      <td>6.0</td>\n",
       "    </tr>\n",
       "  </tbody>\n",
       "</table>\n",
       "<p>5 rows × 31 columns</p>\n",
       "</div>"
      ],
      "text/plain": [
       "                                  PA_standings_py_2  PA_standings_py_1  \\\n",
       "Jacksonville Jaguars (2011-2013)              329.0              444.0   \n",
       "Houston Texans (2011-2013)                    278.0              331.0   \n",
       "Tampa Bay Buccaneers (2011-2013)              494.0              394.0   \n",
       "New York Jets (2011-2013)                     363.0              375.0   \n",
       "New York Giants (2011-2013)                   400.0              344.0   \n",
       "\n",
       "                                  PA_standings_py  W_standings_py_2  \\\n",
       "Jacksonville Jaguars (2011-2013)            449.0               5.0   \n",
       "Houston Texans (2011-2013)                  428.0              10.0   \n",
       "Tampa Bay Buccaneers (2011-2013)            389.0               4.0   \n",
       "New York Jets (2011-2013)                   387.0               8.0   \n",
       "New York Giants (2011-2013)                 383.0               9.0   \n",
       "\n",
       "                                  W_standings_py_1  W_standings_py  \\\n",
       "Jacksonville Jaguars (2011-2013)               2.0             4.0   \n",
       "Houston Texans (2011-2013)                    12.0             2.0   \n",
       "Tampa Bay Buccaneers (2011-2013)               7.0             4.0   \n",
       "New York Jets (2011-2013)                      6.0             8.0   \n",
       "New York Giants (2011-2013)                    9.0             7.0   \n",
       "\n",
       "                                  Pts_scoring_py_2  Pts_scoring_py_1  \\\n",
       "Jacksonville Jaguars (2011-2013)             243.0             255.0   \n",
       "Houston Texans (2011-2013)                   381.0             416.0   \n",
       "Tampa Bay Buccaneers (2011-2013)             287.0             389.0   \n",
       "New York Jets (2011-2013)                    377.0             281.0   \n",
       "New York Giants (2011-2013)                  394.0             429.0   \n",
       "\n",
       "                                  Pts_scoring_py  SoS_standings_py_2  \\\n",
       "Jacksonville Jaguars (2011-2013)           247.0                -0.3   \n",
       "Houston Texans (2011-2013)                 276.0                -1.9   \n",
       "Tampa Bay Buccaneers (2011-2013)           288.0                 2.3   \n",
       "New York Jets (2011-2013)                  290.0                 0.0   \n",
       "New York Giants (2011-2013)                294.0                 2.0   \n",
       "\n",
       "                                        ...         Y/A_rushing_py_2  \\\n",
       "Jacksonville Jaguars (2011-2013)        ...                      4.0   \n",
       "Houston Texans (2011-2013)              ...                      4.5   \n",
       "Tampa Bay Buccaneers (2011-2013)        ...                      4.2   \n",
       "New York Jets (2011-2013)               ...                      3.8   \n",
       "New York Giants (2011-2013)             ...                      3.5   \n",
       "\n",
       "                                  Y/A_rushing_py_1  Y/A_rushing_py  \\\n",
       "Jacksonville Jaguars (2011-2013)               3.8             3.3   \n",
       "Houston Texans (2011-2013)                     4.2             4.2   \n",
       "Tampa Bay Buccaneers (2011-2013)               4.4             3.8   \n",
       "New York Jets (2011-2013)                      3.8             4.4   \n",
       "New York Giants (2011-2013)                    4.6             3.5   \n",
       "\n",
       "                                  FGM_scoring_py_2  FGM_scoring_py_1  \\\n",
       "Jacksonville Jaguars (2011-2013)              23.0              25.0   \n",
       "Houston Texans (2011-2013)                    32.0              31.0   \n",
       "Tampa Bay Buccaneers (2011-2013)              26.0              28.0   \n",
       "New York Jets (2011-2013)                     19.0              21.0   \n",
       "New York Giants (2011-2013)                   19.0              33.0   \n",
       "\n",
       "                                  FGM_scoring_py  FGM_scoring_def_py_2  \\\n",
       "Jacksonville Jaguars (2011-2013)            23.0                  22.0   \n",
       "Houston Texans (2011-2013)                  26.0                  30.0   \n",
       "Tampa Bay Buccaneers (2011-2013)            23.0                  23.0   \n",
       "New York Jets (2011-2013)                   33.0                  29.0   \n",
       "New York Giants (2011-2013)                 23.0                  25.0   \n",
       "\n",
       "                                  FGM_scoring_def_py_1  FGM_scoring_def_py  \\\n",
       "Jacksonville Jaguars (2011-2013)                  36.0                26.0   \n",
       "Houston Texans (2011-2013)                        21.0                30.0   \n",
       "Tampa Bay Buccaneers (2011-2013)                  19.0                31.0   \n",
       "New York Jets (2011-2013)                         22.0                33.0   \n",
       "New York Giants (2011-2013)                       26.0                29.0   \n",
       "\n",
       "                                  W_standings_next  \n",
       "Jacksonville Jaguars (2011-2013)               3.0  \n",
       "Houston Texans (2011-2013)                     9.0  \n",
       "Tampa Bay Buccaneers (2011-2013)               2.0  \n",
       "New York Jets (2011-2013)                      4.0  \n",
       "New York Giants (2011-2013)                    6.0  \n",
       "\n",
       "[5 rows x 31 columns]"
      ]
     },
     "execution_count": 108,
     "metadata": {},
     "output_type": "execute_result"
    }
   ],
   "source": [
    "df_2011_2013.head()"
   ]
  },
  {
   "cell_type": "code",
   "execution_count": null,
   "metadata": {
    "collapsed": true
   },
   "outputs": [],
   "source": []
  },
  {
   "cell_type": "code",
   "execution_count": 109,
   "metadata": {
    "collapsed": true
   },
   "outputs": [],
   "source": [
    "df_2012_2014 = df_new[[i for i in df_new.columns if ('2012' in i) | ('2013' in i)|('2014' in i)]]"
   ]
  },
  {
   "cell_type": "code",
   "execution_count": 110,
   "metadata": {
    "collapsed": true
   },
   "outputs": [],
   "source": [
    "df_2012_2014 = df_2012_2014.join(df_new['W_standings_2015'])"
   ]
  },
  {
   "cell_type": "code",
   "execution_count": 111,
   "metadata": {
    "collapsed": true
   },
   "outputs": [],
   "source": [
    "df_2012_2014.index = [i + ' (2012-2014)' for i in df_2012_2014.index]"
   ]
  },
  {
   "cell_type": "code",
   "execution_count": 112,
   "metadata": {
    "collapsed": true
   },
   "outputs": [],
   "source": [
    "df_2012_2014.columns = df_2012_2014.columns.map(lambda x: x.replace('2012','py_2').replace('2013','py_1').replace('2014','py').replace('2015','next'))"
   ]
  },
  {
   "cell_type": "code",
   "execution_count": 113,
   "metadata": {},
   "outputs": [
    {
     "data": {
      "text/html": [
       "<div>\n",
       "<style>\n",
       "    .dataframe thead tr:only-child th {\n",
       "        text-align: right;\n",
       "    }\n",
       "\n",
       "    .dataframe thead th {\n",
       "        text-align: left;\n",
       "    }\n",
       "\n",
       "    .dataframe tbody tr th {\n",
       "        vertical-align: top;\n",
       "    }\n",
       "</style>\n",
       "<table border=\"1\" class=\"dataframe\">\n",
       "  <thead>\n",
       "    <tr style=\"text-align: right;\">\n",
       "      <th></th>\n",
       "      <th>PA_standings_py_2</th>\n",
       "      <th>PA_standings_py_1</th>\n",
       "      <th>PA_standings_py</th>\n",
       "      <th>W_standings_py_2</th>\n",
       "      <th>W_standings_py_1</th>\n",
       "      <th>W_standings_py</th>\n",
       "      <th>Pts_scoring_py_2</th>\n",
       "      <th>Pts_scoring_py_1</th>\n",
       "      <th>Pts_scoring_py</th>\n",
       "      <th>SoS_standings_py_2</th>\n",
       "      <th>...</th>\n",
       "      <th>Y/A_rushing_py_2</th>\n",
       "      <th>Y/A_rushing_py_1</th>\n",
       "      <th>Y/A_rushing_py</th>\n",
       "      <th>FGM_scoring_py_2</th>\n",
       "      <th>FGM_scoring_py_1</th>\n",
       "      <th>FGM_scoring_py</th>\n",
       "      <th>FGM_scoring_def_py_2</th>\n",
       "      <th>FGM_scoring_def_py_1</th>\n",
       "      <th>FGM_scoring_def_py</th>\n",
       "      <th>W_standings_next</th>\n",
       "    </tr>\n",
       "  </thead>\n",
       "  <tbody>\n",
       "    <tr>\n",
       "      <th>Jacksonville Jaguars (2012-2014)</th>\n",
       "      <td>444.0</td>\n",
       "      <td>449.0</td>\n",
       "      <td>412.0</td>\n",
       "      <td>2.0</td>\n",
       "      <td>4.0</td>\n",
       "      <td>3.0</td>\n",
       "      <td>255.0</td>\n",
       "      <td>247.0</td>\n",
       "      <td>249.0</td>\n",
       "      <td>-1.1</td>\n",
       "      <td>...</td>\n",
       "      <td>3.8</td>\n",
       "      <td>3.3</td>\n",
       "      <td>4.5</td>\n",
       "      <td>25.0</td>\n",
       "      <td>23.0</td>\n",
       "      <td>20.0</td>\n",
       "      <td>36.0</td>\n",
       "      <td>26.0</td>\n",
       "      <td>31.0</td>\n",
       "      <td>5.0</td>\n",
       "    </tr>\n",
       "    <tr>\n",
       "      <th>Houston Texans (2012-2014)</th>\n",
       "      <td>331.0</td>\n",
       "      <td>428.0</td>\n",
       "      <td>307.0</td>\n",
       "      <td>12.0</td>\n",
       "      <td>2.0</td>\n",
       "      <td>9.0</td>\n",
       "      <td>416.0</td>\n",
       "      <td>276.0</td>\n",
       "      <td>372.0</td>\n",
       "      <td>-1.8</td>\n",
       "      <td>...</td>\n",
       "      <td>4.2</td>\n",
       "      <td>4.2</td>\n",
       "      <td>3.9</td>\n",
       "      <td>31.0</td>\n",
       "      <td>26.0</td>\n",
       "      <td>30.0</td>\n",
       "      <td>21.0</td>\n",
       "      <td>30.0</td>\n",
       "      <td>19.0</td>\n",
       "      <td>9.0</td>\n",
       "    </tr>\n",
       "    <tr>\n",
       "      <th>Tampa Bay Buccaneers (2012-2014)</th>\n",
       "      <td>394.0</td>\n",
       "      <td>389.0</td>\n",
       "      <td>410.0</td>\n",
       "      <td>7.0</td>\n",
       "      <td>4.0</td>\n",
       "      <td>2.0</td>\n",
       "      <td>389.0</td>\n",
       "      <td>288.0</td>\n",
       "      <td>277.0</td>\n",
       "      <td>0.3</td>\n",
       "      <td>...</td>\n",
       "      <td>4.4</td>\n",
       "      <td>3.8</td>\n",
       "      <td>3.9</td>\n",
       "      <td>28.0</td>\n",
       "      <td>23.0</td>\n",
       "      <td>20.0</td>\n",
       "      <td>19.0</td>\n",
       "      <td>31.0</td>\n",
       "      <td>29.0</td>\n",
       "      <td>6.0</td>\n",
       "    </tr>\n",
       "    <tr>\n",
       "      <th>New York Jets (2012-2014)</th>\n",
       "      <td>375.0</td>\n",
       "      <td>387.0</td>\n",
       "      <td>401.0</td>\n",
       "      <td>6.0</td>\n",
       "      <td>8.0</td>\n",
       "      <td>4.0</td>\n",
       "      <td>281.0</td>\n",
       "      <td>290.0</td>\n",
       "      <td>283.0</td>\n",
       "      <td>0.0</td>\n",
       "      <td>...</td>\n",
       "      <td>3.8</td>\n",
       "      <td>4.4</td>\n",
       "      <td>4.5</td>\n",
       "      <td>21.0</td>\n",
       "      <td>33.0</td>\n",
       "      <td>32.0</td>\n",
       "      <td>22.0</td>\n",
       "      <td>33.0</td>\n",
       "      <td>26.0</td>\n",
       "      <td>10.0</td>\n",
       "    </tr>\n",
       "    <tr>\n",
       "      <th>New York Giants (2012-2014)</th>\n",
       "      <td>344.0</td>\n",
       "      <td>383.0</td>\n",
       "      <td>400.0</td>\n",
       "      <td>9.0</td>\n",
       "      <td>7.0</td>\n",
       "      <td>6.0</td>\n",
       "      <td>429.0</td>\n",
       "      <td>294.0</td>\n",
       "      <td>380.0</td>\n",
       "      <td>0.9</td>\n",
       "      <td>...</td>\n",
       "      <td>4.6</td>\n",
       "      <td>3.5</td>\n",
       "      <td>3.6</td>\n",
       "      <td>33.0</td>\n",
       "      <td>23.0</td>\n",
       "      <td>24.0</td>\n",
       "      <td>26.0</td>\n",
       "      <td>29.0</td>\n",
       "      <td>29.0</td>\n",
       "      <td>6.0</td>\n",
       "    </tr>\n",
       "  </tbody>\n",
       "</table>\n",
       "<p>5 rows × 31 columns</p>\n",
       "</div>"
      ],
      "text/plain": [
       "                                  PA_standings_py_2  PA_standings_py_1  \\\n",
       "Jacksonville Jaguars (2012-2014)              444.0              449.0   \n",
       "Houston Texans (2012-2014)                    331.0              428.0   \n",
       "Tampa Bay Buccaneers (2012-2014)              394.0              389.0   \n",
       "New York Jets (2012-2014)                     375.0              387.0   \n",
       "New York Giants (2012-2014)                   344.0              383.0   \n",
       "\n",
       "                                  PA_standings_py  W_standings_py_2  \\\n",
       "Jacksonville Jaguars (2012-2014)            412.0               2.0   \n",
       "Houston Texans (2012-2014)                  307.0              12.0   \n",
       "Tampa Bay Buccaneers (2012-2014)            410.0               7.0   \n",
       "New York Jets (2012-2014)                   401.0               6.0   \n",
       "New York Giants (2012-2014)                 400.0               9.0   \n",
       "\n",
       "                                  W_standings_py_1  W_standings_py  \\\n",
       "Jacksonville Jaguars (2012-2014)               4.0             3.0   \n",
       "Houston Texans (2012-2014)                     2.0             9.0   \n",
       "Tampa Bay Buccaneers (2012-2014)               4.0             2.0   \n",
       "New York Jets (2012-2014)                      8.0             4.0   \n",
       "New York Giants (2012-2014)                    7.0             6.0   \n",
       "\n",
       "                                  Pts_scoring_py_2  Pts_scoring_py_1  \\\n",
       "Jacksonville Jaguars (2012-2014)             255.0             247.0   \n",
       "Houston Texans (2012-2014)                   416.0             276.0   \n",
       "Tampa Bay Buccaneers (2012-2014)             389.0             288.0   \n",
       "New York Jets (2012-2014)                    281.0             290.0   \n",
       "New York Giants (2012-2014)                  429.0             294.0   \n",
       "\n",
       "                                  Pts_scoring_py  SoS_standings_py_2  \\\n",
       "Jacksonville Jaguars (2012-2014)           249.0                -1.1   \n",
       "Houston Texans (2012-2014)                 372.0                -1.8   \n",
       "Tampa Bay Buccaneers (2012-2014)           277.0                 0.3   \n",
       "New York Jets (2012-2014)                  283.0                 0.0   \n",
       "New York Giants (2012-2014)                380.0                 0.9   \n",
       "\n",
       "                                        ...         Y/A_rushing_py_2  \\\n",
       "Jacksonville Jaguars (2012-2014)        ...                      3.8   \n",
       "Houston Texans (2012-2014)              ...                      4.2   \n",
       "Tampa Bay Buccaneers (2012-2014)        ...                      4.4   \n",
       "New York Jets (2012-2014)               ...                      3.8   \n",
       "New York Giants (2012-2014)             ...                      4.6   \n",
       "\n",
       "                                  Y/A_rushing_py_1  Y/A_rushing_py  \\\n",
       "Jacksonville Jaguars (2012-2014)               3.3             4.5   \n",
       "Houston Texans (2012-2014)                     4.2             3.9   \n",
       "Tampa Bay Buccaneers (2012-2014)               3.8             3.9   \n",
       "New York Jets (2012-2014)                      4.4             4.5   \n",
       "New York Giants (2012-2014)                    3.5             3.6   \n",
       "\n",
       "                                  FGM_scoring_py_2  FGM_scoring_py_1  \\\n",
       "Jacksonville Jaguars (2012-2014)              25.0              23.0   \n",
       "Houston Texans (2012-2014)                    31.0              26.0   \n",
       "Tampa Bay Buccaneers (2012-2014)              28.0              23.0   \n",
       "New York Jets (2012-2014)                     21.0              33.0   \n",
       "New York Giants (2012-2014)                   33.0              23.0   \n",
       "\n",
       "                                  FGM_scoring_py  FGM_scoring_def_py_2  \\\n",
       "Jacksonville Jaguars (2012-2014)            20.0                  36.0   \n",
       "Houston Texans (2012-2014)                  30.0                  21.0   \n",
       "Tampa Bay Buccaneers (2012-2014)            20.0                  19.0   \n",
       "New York Jets (2012-2014)                   32.0                  22.0   \n",
       "New York Giants (2012-2014)                 24.0                  26.0   \n",
       "\n",
       "                                  FGM_scoring_def_py_1  FGM_scoring_def_py  \\\n",
       "Jacksonville Jaguars (2012-2014)                  26.0                31.0   \n",
       "Houston Texans (2012-2014)                        30.0                19.0   \n",
       "Tampa Bay Buccaneers (2012-2014)                  31.0                29.0   \n",
       "New York Jets (2012-2014)                         33.0                26.0   \n",
       "New York Giants (2012-2014)                       29.0                29.0   \n",
       "\n",
       "                                  W_standings_next  \n",
       "Jacksonville Jaguars (2012-2014)               5.0  \n",
       "Houston Texans (2012-2014)                     9.0  \n",
       "Tampa Bay Buccaneers (2012-2014)               6.0  \n",
       "New York Jets (2012-2014)                     10.0  \n",
       "New York Giants (2012-2014)                    6.0  \n",
       "\n",
       "[5 rows x 31 columns]"
      ]
     },
     "execution_count": 113,
     "metadata": {},
     "output_type": "execute_result"
    }
   ],
   "source": [
    "df_2012_2014.head()"
   ]
  },
  {
   "cell_type": "code",
   "execution_count": null,
   "metadata": {
    "collapsed": true
   },
   "outputs": [],
   "source": []
  },
  {
   "cell_type": "code",
   "execution_count": 114,
   "metadata": {
    "collapsed": true
   },
   "outputs": [],
   "source": [
    "df_2013_2015 = df_new[[i for i in df_new.columns if ('2013' in i) | ('2014' in i)|('2015' in i)]]"
   ]
  },
  {
   "cell_type": "code",
   "execution_count": 115,
   "metadata": {
    "collapsed": true
   },
   "outputs": [],
   "source": [
    "df_2013_2015 = df_2013_2015.join(df_new['W_standings_2016'])"
   ]
  },
  {
   "cell_type": "code",
   "execution_count": 116,
   "metadata": {
    "collapsed": true
   },
   "outputs": [],
   "source": [
    "df_2013_2015.index = [i + ' (2013-2015)' for i in df_2013_2015.index]"
   ]
  },
  {
   "cell_type": "code",
   "execution_count": 117,
   "metadata": {
    "collapsed": true
   },
   "outputs": [],
   "source": [
    "df_2013_2015.columns = df_2013_2015.columns.map(lambda x: x.replace('2013','py_2').replace('2014','py_1').replace('2015','py').replace('2016','next'))"
   ]
  },
  {
   "cell_type": "code",
   "execution_count": 118,
   "metadata": {},
   "outputs": [
    {
     "data": {
      "text/html": [
       "<div>\n",
       "<style>\n",
       "    .dataframe thead tr:only-child th {\n",
       "        text-align: right;\n",
       "    }\n",
       "\n",
       "    .dataframe thead th {\n",
       "        text-align: left;\n",
       "    }\n",
       "\n",
       "    .dataframe tbody tr th {\n",
       "        vertical-align: top;\n",
       "    }\n",
       "</style>\n",
       "<table border=\"1\" class=\"dataframe\">\n",
       "  <thead>\n",
       "    <tr style=\"text-align: right;\">\n",
       "      <th></th>\n",
       "      <th>PA_standings_py_2</th>\n",
       "      <th>PA_standings_py_1</th>\n",
       "      <th>PA_standings_py</th>\n",
       "      <th>W_standings_py_2</th>\n",
       "      <th>W_standings_py_1</th>\n",
       "      <th>W_standings_py</th>\n",
       "      <th>Pts_scoring_py_2</th>\n",
       "      <th>Pts_scoring_py_1</th>\n",
       "      <th>Pts_scoring_py</th>\n",
       "      <th>SoS_standings_py_2</th>\n",
       "      <th>...</th>\n",
       "      <th>Y/A_rushing_py_2</th>\n",
       "      <th>Y/A_rushing_py_1</th>\n",
       "      <th>Y/A_rushing_py</th>\n",
       "      <th>FGM_scoring_py_2</th>\n",
       "      <th>FGM_scoring_py_1</th>\n",
       "      <th>FGM_scoring_py</th>\n",
       "      <th>FGM_scoring_def_py_2</th>\n",
       "      <th>FGM_scoring_def_py_1</th>\n",
       "      <th>FGM_scoring_def_py</th>\n",
       "      <th>W_standings_next</th>\n",
       "    </tr>\n",
       "  </thead>\n",
       "  <tbody>\n",
       "    <tr>\n",
       "      <th>Jacksonville Jaguars (2013-2015)</th>\n",
       "      <td>449.0</td>\n",
       "      <td>412.0</td>\n",
       "      <td>448.0</td>\n",
       "      <td>4.0</td>\n",
       "      <td>3.0</td>\n",
       "      <td>5.0</td>\n",
       "      <td>247.0</td>\n",
       "      <td>249.0</td>\n",
       "      <td>376.0</td>\n",
       "      <td>1.5</td>\n",
       "      <td>...</td>\n",
       "      <td>3.3</td>\n",
       "      <td>4.5</td>\n",
       "      <td>4.2</td>\n",
       "      <td>23.0</td>\n",
       "      <td>20.0</td>\n",
       "      <td>26.0</td>\n",
       "      <td>26.0</td>\n",
       "      <td>31.0</td>\n",
       "      <td>30.0</td>\n",
       "      <td>3.0</td>\n",
       "    </tr>\n",
       "    <tr>\n",
       "      <th>Houston Texans (2013-2015)</th>\n",
       "      <td>428.0</td>\n",
       "      <td>307.0</td>\n",
       "      <td>313.0</td>\n",
       "      <td>2.0</td>\n",
       "      <td>9.0</td>\n",
       "      <td>9.0</td>\n",
       "      <td>276.0</td>\n",
       "      <td>372.0</td>\n",
       "      <td>339.0</td>\n",
       "      <td>1.9</td>\n",
       "      <td>...</td>\n",
       "      <td>4.2</td>\n",
       "      <td>3.9</td>\n",
       "      <td>3.7</td>\n",
       "      <td>26.0</td>\n",
       "      <td>30.0</td>\n",
       "      <td>23.0</td>\n",
       "      <td>30.0</td>\n",
       "      <td>19.0</td>\n",
       "      <td>20.0</td>\n",
       "      <td>9.0</td>\n",
       "    </tr>\n",
       "    <tr>\n",
       "      <th>Tampa Bay Buccaneers (2013-2015)</th>\n",
       "      <td>389.0</td>\n",
       "      <td>410.0</td>\n",
       "      <td>417.0</td>\n",
       "      <td>4.0</td>\n",
       "      <td>2.0</td>\n",
       "      <td>6.0</td>\n",
       "      <td>288.0</td>\n",
       "      <td>277.0</td>\n",
       "      <td>342.0</td>\n",
       "      <td>3.6</td>\n",
       "      <td>...</td>\n",
       "      <td>3.8</td>\n",
       "      <td>3.9</td>\n",
       "      <td>4.8</td>\n",
       "      <td>23.0</td>\n",
       "      <td>20.0</td>\n",
       "      <td>29.0</td>\n",
       "      <td>31.0</td>\n",
       "      <td>29.0</td>\n",
       "      <td>31.0</td>\n",
       "      <td>9.0</td>\n",
       "    </tr>\n",
       "    <tr>\n",
       "      <th>New York Jets (2013-2015)</th>\n",
       "      <td>387.0</td>\n",
       "      <td>401.0</td>\n",
       "      <td>314.0</td>\n",
       "      <td>8.0</td>\n",
       "      <td>4.0</td>\n",
       "      <td>10.0</td>\n",
       "      <td>290.0</td>\n",
       "      <td>283.0</td>\n",
       "      <td>387.0</td>\n",
       "      <td>0.0</td>\n",
       "      <td>...</td>\n",
       "      <td>4.4</td>\n",
       "      <td>4.5</td>\n",
       "      <td>4.2</td>\n",
       "      <td>33.0</td>\n",
       "      <td>32.0</td>\n",
       "      <td>27.0</td>\n",
       "      <td>33.0</td>\n",
       "      <td>26.0</td>\n",
       "      <td>26.0</td>\n",
       "      <td>5.0</td>\n",
       "    </tr>\n",
       "    <tr>\n",
       "      <th>New York Giants (2013-2015)</th>\n",
       "      <td>383.0</td>\n",
       "      <td>400.0</td>\n",
       "      <td>442.0</td>\n",
       "      <td>7.0</td>\n",
       "      <td>6.0</td>\n",
       "      <td>6.0</td>\n",
       "      <td>294.0</td>\n",
       "      <td>380.0</td>\n",
       "      <td>420.0</td>\n",
       "      <td>0.2</td>\n",
       "      <td>...</td>\n",
       "      <td>3.5</td>\n",
       "      <td>3.6</td>\n",
       "      <td>4.0</td>\n",
       "      <td>23.0</td>\n",
       "      <td>24.0</td>\n",
       "      <td>30.0</td>\n",
       "      <td>29.0</td>\n",
       "      <td>29.0</td>\n",
       "      <td>31.0</td>\n",
       "      <td>11.0</td>\n",
       "    </tr>\n",
       "  </tbody>\n",
       "</table>\n",
       "<p>5 rows × 31 columns</p>\n",
       "</div>"
      ],
      "text/plain": [
       "                                  PA_standings_py_2  PA_standings_py_1  \\\n",
       "Jacksonville Jaguars (2013-2015)              449.0              412.0   \n",
       "Houston Texans (2013-2015)                    428.0              307.0   \n",
       "Tampa Bay Buccaneers (2013-2015)              389.0              410.0   \n",
       "New York Jets (2013-2015)                     387.0              401.0   \n",
       "New York Giants (2013-2015)                   383.0              400.0   \n",
       "\n",
       "                                  PA_standings_py  W_standings_py_2  \\\n",
       "Jacksonville Jaguars (2013-2015)            448.0               4.0   \n",
       "Houston Texans (2013-2015)                  313.0               2.0   \n",
       "Tampa Bay Buccaneers (2013-2015)            417.0               4.0   \n",
       "New York Jets (2013-2015)                   314.0               8.0   \n",
       "New York Giants (2013-2015)                 442.0               7.0   \n",
       "\n",
       "                                  W_standings_py_1  W_standings_py  \\\n",
       "Jacksonville Jaguars (2013-2015)               3.0             5.0   \n",
       "Houston Texans (2013-2015)                     9.0             9.0   \n",
       "Tampa Bay Buccaneers (2013-2015)               2.0             6.0   \n",
       "New York Jets (2013-2015)                      4.0            10.0   \n",
       "New York Giants (2013-2015)                    6.0             6.0   \n",
       "\n",
       "                                  Pts_scoring_py_2  Pts_scoring_py_1  \\\n",
       "Jacksonville Jaguars (2013-2015)             247.0             249.0   \n",
       "Houston Texans (2013-2015)                   276.0             372.0   \n",
       "Tampa Bay Buccaneers (2013-2015)             288.0             277.0   \n",
       "New York Jets (2013-2015)                    290.0             283.0   \n",
       "New York Giants (2013-2015)                  294.0             380.0   \n",
       "\n",
       "                                  Pts_scoring_py  SoS_standings_py_2  \\\n",
       "Jacksonville Jaguars (2013-2015)           376.0                 1.5   \n",
       "Houston Texans (2013-2015)                 339.0                 1.9   \n",
       "Tampa Bay Buccaneers (2013-2015)           342.0                 3.6   \n",
       "New York Jets (2013-2015)                  387.0                 0.0   \n",
       "New York Giants (2013-2015)                420.0                 0.2   \n",
       "\n",
       "                                        ...         Y/A_rushing_py_2  \\\n",
       "Jacksonville Jaguars (2013-2015)        ...                      3.3   \n",
       "Houston Texans (2013-2015)              ...                      4.2   \n",
       "Tampa Bay Buccaneers (2013-2015)        ...                      3.8   \n",
       "New York Jets (2013-2015)               ...                      4.4   \n",
       "New York Giants (2013-2015)             ...                      3.5   \n",
       "\n",
       "                                  Y/A_rushing_py_1  Y/A_rushing_py  \\\n",
       "Jacksonville Jaguars (2013-2015)               4.5             4.2   \n",
       "Houston Texans (2013-2015)                     3.9             3.7   \n",
       "Tampa Bay Buccaneers (2013-2015)               3.9             4.8   \n",
       "New York Jets (2013-2015)                      4.5             4.2   \n",
       "New York Giants (2013-2015)                    3.6             4.0   \n",
       "\n",
       "                                  FGM_scoring_py_2  FGM_scoring_py_1  \\\n",
       "Jacksonville Jaguars (2013-2015)              23.0              20.0   \n",
       "Houston Texans (2013-2015)                    26.0              30.0   \n",
       "Tampa Bay Buccaneers (2013-2015)              23.0              20.0   \n",
       "New York Jets (2013-2015)                     33.0              32.0   \n",
       "New York Giants (2013-2015)                   23.0              24.0   \n",
       "\n",
       "                                  FGM_scoring_py  FGM_scoring_def_py_2  \\\n",
       "Jacksonville Jaguars (2013-2015)            26.0                  26.0   \n",
       "Houston Texans (2013-2015)                  23.0                  30.0   \n",
       "Tampa Bay Buccaneers (2013-2015)            29.0                  31.0   \n",
       "New York Jets (2013-2015)                   27.0                  33.0   \n",
       "New York Giants (2013-2015)                 30.0                  29.0   \n",
       "\n",
       "                                  FGM_scoring_def_py_1  FGM_scoring_def_py  \\\n",
       "Jacksonville Jaguars (2013-2015)                  31.0                30.0   \n",
       "Houston Texans (2013-2015)                        19.0                20.0   \n",
       "Tampa Bay Buccaneers (2013-2015)                  29.0                31.0   \n",
       "New York Jets (2013-2015)                         26.0                26.0   \n",
       "New York Giants (2013-2015)                       29.0                31.0   \n",
       "\n",
       "                                  W_standings_next  \n",
       "Jacksonville Jaguars (2013-2015)               3.0  \n",
       "Houston Texans (2013-2015)                     9.0  \n",
       "Tampa Bay Buccaneers (2013-2015)               9.0  \n",
       "New York Jets (2013-2015)                      5.0  \n",
       "New York Giants (2013-2015)                   11.0  \n",
       "\n",
       "[5 rows x 31 columns]"
      ]
     },
     "execution_count": 118,
     "metadata": {},
     "output_type": "execute_result"
    }
   ],
   "source": [
    "df_2013_2015.head()"
   ]
  },
  {
   "cell_type": "code",
   "execution_count": 119,
   "metadata": {
    "collapsed": true
   },
   "outputs": [],
   "source": [
    "df_2010_2012.to_csv('stats_2010_2012.csv')\n",
    "df_2011_2013.to_csv('stats_2011_2013.csv')\n",
    "df_2012_2014.to_csv('stats_2012_2014.csv')\n",
    "df_2013_2015.to_csv('stats_2013_2015.csv')"
   ]
  },
  {
   "cell_type": "code",
   "execution_count": 124,
   "metadata": {},
   "outputs": [],
   "source": [
    "df_three_year = pd.concat([df_2010_2012,df_2011_2013,df_2012_2014])"
   ]
  },
  {
   "cell_type": "code",
   "execution_count": 125,
   "metadata": {},
   "outputs": [
    {
     "data": {
      "text/plain": [
       "(96, 31)"
      ]
     },
     "execution_count": 125,
     "metadata": {},
     "output_type": "execute_result"
    }
   ],
   "source": [
    "df_three_year.shape"
   ]
  },
  {
   "cell_type": "code",
   "execution_count": 139,
   "metadata": {
    "collapsed": true
   },
   "outputs": [],
   "source": [
    "from sklearn.cross_validation import cross_val_score\n",
    "from sklearn.linear_model import ElasticNet"
   ]
  },
  {
   "cell_type": "code",
   "execution_count": 127,
   "metadata": {},
   "outputs": [],
   "source": [
    "Xtrain = df_three_year.iloc[:,:-1]\n",
    "ytrain = df_three_year['W_standings_next']\n",
    "Xtest = df_2013_2015.iloc[:,:-1]\n",
    "ytest = df_2013_2015['W_standings_next']"
   ]
  },
  {
   "cell_type": "code",
   "execution_count": 147,
   "metadata": {
    "collapsed": true
   },
   "outputs": [],
   "source": [
    "Xstd = ss.fit_transform(Xtrain)\n",
    "Xtest_std = ss.transform(Xtest)"
   ]
  },
  {
   "cell_type": "code",
   "execution_count": 142,
   "metadata": {},
   "outputs": [],
   "source": [
    "enet = ElasticNetCV(l1_ratio=[.1, .5, .7, .9, .95, .99, 1])"
   ]
  },
  {
   "cell_type": "code",
   "execution_count": 143,
   "metadata": {},
   "outputs": [
    {
     "data": {
      "text/plain": [
       "ElasticNetCV(alphas=None, copy_X=True, cv=None, eps=0.001, fit_intercept=True,\n",
       "       l1_ratio=[0.1, 0.5, 0.7, 0.9, 0.95, 0.99, 1], max_iter=1000,\n",
       "       n_alphas=100, n_jobs=1, normalize=False, positive=False,\n",
       "       precompute='auto', random_state=None, selection='cyclic',\n",
       "       tol=0.0001, verbose=0)"
      ]
     },
     "execution_count": 143,
     "metadata": {},
     "output_type": "execute_result"
    }
   ],
   "source": [
    "enet.fit(Xstd,ytrain)"
   ]
  },
  {
   "cell_type": "code",
   "execution_count": 144,
   "metadata": {},
   "outputs": [
    {
     "data": {
      "text/plain": [
       "1.714999832609057"
      ]
     },
     "execution_count": 144,
     "metadata": {},
     "output_type": "execute_result"
    }
   ],
   "source": [
    "enet.alpha_"
   ]
  },
  {
   "cell_type": "code",
   "execution_count": 145,
   "metadata": {},
   "outputs": [
    {
     "data": {
      "text/plain": [
       "0.10000000000000001"
      ]
     },
     "execution_count": 145,
     "metadata": {},
     "output_type": "execute_result"
    }
   ],
   "source": [
    "enet.l1_ratio_"
   ]
  },
  {
   "cell_type": "code",
   "execution_count": 146,
   "metadata": {},
   "outputs": [
    {
     "data": {
      "text/plain": [
       "array([-0.        , -0.11523889, -0.1881133 ,  0.04439011,  0.16236387,\n",
       "        0.17177704,  0.04623827,  0.10014975,  0.15599959, -0.08485439,\n",
       "       -0.        , -0.        , -0.08536221, -0.        , -0.04513061,\n",
       "        0.02108363,  0.        ,  0.09402768, -0.04661167, -0.00766157,\n",
       "        0.03220945,  0.        ,  0.        ,  0.        , -0.06362684,\n",
       "       -0.        ,  0.07586467,  0.08009463, -0.        , -0.        ])"
      ]
     },
     "execution_count": 146,
     "metadata": {},
     "output_type": "execute_result"
    }
   ],
   "source": [
    "enet.coef_"
   ]
  },
  {
   "cell_type": "code",
   "execution_count": 150,
   "metadata": {},
   "outputs": [
    {
     "data": {
      "text/plain": [
       "0.095879160068661373"
      ]
     },
     "execution_count": 150,
     "metadata": {},
     "output_type": "execute_result"
    }
   ],
   "source": [
    "enet.score(Xtest_std,ytest)"
   ]
  },
  {
   "cell_type": "code",
   "execution_count": 162,
   "metadata": {
    "collapsed": true
   },
   "outputs": [],
   "source": [
    "ypred = enet.predict(Xtest_std)"
   ]
  },
  {
   "cell_type": "code",
   "execution_count": 160,
   "metadata": {
    "collapsed": true
   },
   "outputs": [],
   "source": [
    "scores = cross_val_score(enet,Xstd,ytrain,cv=3)"
   ]
  },
  {
   "cell_type": "code",
   "execution_count": 161,
   "metadata": {},
   "outputs": [
    {
     "name": "stdout",
     "output_type": "stream",
     "text": [
      "[-0.03029055  0.10788529  0.11586338] 0.0644860426341 0.0670962673579\n"
     ]
    }
   ],
   "source": [
    "print scores, scores.mean(), scores.std()"
   ]
  },
  {
   "cell_type": "code",
   "execution_count": 163,
   "metadata": {},
   "outputs": [
    {
     "data": {
      "text/plain": [
       "<matplotlib.collections.PathCollection at 0x10c4e8790>"
      ]
     },
     "execution_count": 163,
     "metadata": {},
     "output_type": "execute_result"
    },
    {
     "data": {
      "image/png": "[encoded data removed]",
      "text/plain": [
       "<matplotlib.figure.Figure at 0x116a79fd0>"
      ]
     },
     "metadata": {},
     "output_type": "display_data"
    }
   ],
   "source": [
    "plt.scatter(ytest,ypred)"
   ]
  },
  {
   "cell_type": "code",
   "execution_count": null,
   "metadata": {
    "collapsed": true
   },
   "outputs": [],
   "source": []
  }
 ],
 "metadata": {
  "kernelspec": {
   "display_name": "Python 2",
   "language": "python",
   "name": "python2"
  },
  "language_info": {
   "codemirror_mode": {
    "name": "ipython",
    "version": 2
   },
   "file_extension": ".py",
   "mimetype": "text/x-python",
   "name": "python",
   "nbconvert_exporter": "python",
   "pygments_lexer": "ipython2",
   "version": "2.7.13"
  }
 },
 "nbformat": 4,
 "nbformat_minor": 2
}
